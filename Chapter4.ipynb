{
 "cells": [
  {
   "cell_type": "markdown",
   "id": "0517fbb6",
   "metadata": {},
   "source": [
    "# Chapter 4 : Pandas Data Types"
   ]
  },
  {
   "cell_type": "code",
   "execution_count": 8,
   "id": "32fe7381",
   "metadata": {},
   "outputs": [],
   "source": [
    "import pandas as pd\n",
    "import numpy as np"
   ]
  },
  {
   "cell_type": "markdown",
   "id": "30d7df05",
   "metadata": {},
   "source": [
    "## Introducing pandas dtypes"
   ]
  },
  {
   "cell_type": "markdown",
   "id": "22a140cc",
   "metadata": {},
   "source": [
    "### Obtaining the underlying data types "
   ]
  },
  {
   "cell_type": "code",
   "execution_count": 9,
   "id": "3ca0219f",
   "metadata": {},
   "outputs": [],
   "source": [
    "column_names = [\"Customer ID\", \"Customer Name\", \"2018 Revenue\", \"2019 Revenue\", \"Growth\", \"Start Year\", \"Start Month\", \\\n",
    "                \"Start Day\", \"New Customer\"]\n",
    "row1 = list([1001.0, 'Pandas Banking', '$235000','$248000','5.5%', 2013,3,10,0])\n",
    "row2 = list([1002.0, 'Pandas Grocery', '$196000','$205000','4.5%', 2016,4,30,0])\n",
    "row3 = list([1003.0, 'Pandas Telecom', '$167000','$193000','15.5%', 2010,11,24,0])\n",
    "row4 = list([1004.0, 'Pandas Transport', '$79000','$90000','13.9%', 2018,1,15,1])\n",
    "row5 = list([1005.0, 'Pandas Insurance', '$241000','$264000','9.5%', 2009,6,1,0])"
   ]
  },
  {
   "cell_type": "code",
   "execution_count": 10,
   "id": "6d114739",
   "metadata": {},
   "outputs": [
    {
     "data": {
      "text/html": [
       "<div>\n",
       "<style scoped>\n",
       "    .dataframe tbody tr th:only-of-type {\n",
       "        vertical-align: middle;\n",
       "    }\n",
       "\n",
       "    .dataframe tbody tr th {\n",
       "        vertical-align: top;\n",
       "    }\n",
       "\n",
       "    .dataframe thead th {\n",
       "        text-align: right;\n",
       "    }\n",
       "</style>\n",
       "<table border=\"1\" class=\"dataframe\">\n",
       "  <thead>\n",
       "    <tr style=\"text-align: right;\">\n",
       "      <th></th>\n",
       "      <th>Customer ID</th>\n",
       "      <th>Customer Name</th>\n",
       "      <th>2018 Revenue</th>\n",
       "      <th>2019 Revenue</th>\n",
       "      <th>Growth</th>\n",
       "      <th>Start Year</th>\n",
       "      <th>Start Month</th>\n",
       "      <th>Start Day</th>\n",
       "      <th>New Customer</th>\n",
       "    </tr>\n",
       "  </thead>\n",
       "  <tbody>\n",
       "    <tr>\n",
       "      <th>0</th>\n",
       "      <td>1001.0</td>\n",
       "      <td>Pandas Banking</td>\n",
       "      <td>$235000</td>\n",
       "      <td>$248000</td>\n",
       "      <td>5.5%</td>\n",
       "      <td>2013</td>\n",
       "      <td>3</td>\n",
       "      <td>10</td>\n",
       "      <td>0</td>\n",
       "    </tr>\n",
       "    <tr>\n",
       "      <th>1</th>\n",
       "      <td>1002.0</td>\n",
       "      <td>Pandas Grocery</td>\n",
       "      <td>$196000</td>\n",
       "      <td>$205000</td>\n",
       "      <td>4.5%</td>\n",
       "      <td>2016</td>\n",
       "      <td>4</td>\n",
       "      <td>30</td>\n",
       "      <td>0</td>\n",
       "    </tr>\n",
       "    <tr>\n",
       "      <th>2</th>\n",
       "      <td>1003.0</td>\n",
       "      <td>Pandas Telecom</td>\n",
       "      <td>$167000</td>\n",
       "      <td>$193000</td>\n",
       "      <td>15.5%</td>\n",
       "      <td>2010</td>\n",
       "      <td>11</td>\n",
       "      <td>24</td>\n",
       "      <td>0</td>\n",
       "    </tr>\n",
       "    <tr>\n",
       "      <th>3</th>\n",
       "      <td>1004.0</td>\n",
       "      <td>Pandas Transport</td>\n",
       "      <td>$79000</td>\n",
       "      <td>$90000</td>\n",
       "      <td>13.9%</td>\n",
       "      <td>2018</td>\n",
       "      <td>1</td>\n",
       "      <td>15</td>\n",
       "      <td>1</td>\n",
       "    </tr>\n",
       "    <tr>\n",
       "      <th>4</th>\n",
       "      <td>1005.0</td>\n",
       "      <td>Pandas Insurance</td>\n",
       "      <td>$241000</td>\n",
       "      <td>$264000</td>\n",
       "      <td>9.5%</td>\n",
       "      <td>2009</td>\n",
       "      <td>6</td>\n",
       "      <td>1</td>\n",
       "      <td>0</td>\n",
       "    </tr>\n",
       "  </tbody>\n",
       "</table>\n",
       "</div>"
      ],
      "text/plain": [
       "   Customer ID     Customer Name 2018 Revenue 2019 Revenue Growth  Start Year  \\\n",
       "0       1001.0    Pandas Banking      $235000      $248000   5.5%        2013   \n",
       "1       1002.0    Pandas Grocery      $196000      $205000   4.5%        2016   \n",
       "2       1003.0    Pandas Telecom      $167000      $193000  15.5%        2010   \n",
       "3       1004.0  Pandas Transport       $79000       $90000  13.9%        2018   \n",
       "4       1005.0  Pandas Insurance      $241000      $264000   9.5%        2009   \n",
       "\n",
       "   Start Month  Start Day  New Customer  \n",
       "0            3         10             0  \n",
       "1            4         30             0  \n",
       "2           11         24             0  \n",
       "3            1         15             1  \n",
       "4            6          1             0  "
      ]
     },
     "execution_count": 10,
     "metadata": {},
     "output_type": "execute_result"
    }
   ],
   "source": [
    "data_frame = pd.DataFrame(data=[row1,row2,row3,row4,row5], columns=column_names)\n",
    "data_frame"
   ]
  },
  {
   "cell_type": "code",
   "execution_count": 11,
   "id": "739d32d7",
   "metadata": {},
   "outputs": [
    {
     "data": {
      "text/plain": [
       "0    $235000$248000\n",
       "1    $196000$205000\n",
       "2    $167000$193000\n",
       "3      $79000$90000\n",
       "4    $241000$264000\n",
       "dtype: object"
      ]
     },
     "execution_count": 11,
     "metadata": {},
     "output_type": "execute_result"
    }
   ],
   "source": [
    "data_frame['2018 Revenue']+data_frame['2019 Revenue']"
   ]
  },
  {
   "cell_type": "code",
   "execution_count": 12,
   "id": "4cdaea63",
   "metadata": {},
   "outputs": [
    {
     "data": {
      "text/plain": [
       "Customer ID      float64\n",
       "Customer Name     object\n",
       "2018 Revenue      object\n",
       "2019 Revenue      object\n",
       "Growth            object\n",
       "Start Year         int64\n",
       "Start Month        int64\n",
       "Start Day          int64\n",
       "New Customer       int64\n",
       "dtype: object"
      ]
     },
     "execution_count": 12,
     "metadata": {},
     "output_type": "execute_result"
    }
   ],
   "source": [
    "data_frame.dtypes"
   ]
  },
  {
   "cell_type": "code",
   "execution_count": 13,
   "id": "c4387ade",
   "metadata": {},
   "outputs": [
    {
     "name": "stdout",
     "output_type": "stream",
     "text": [
      "<class 'pandas.core.frame.DataFrame'>\n",
      "RangeIndex: 5 entries, 0 to 4\n",
      "Data columns (total 9 columns):\n",
      " #   Column         Non-Null Count  Dtype  \n",
      "---  ------         --------------  -----  \n",
      " 0   Customer ID    5 non-null      float64\n",
      " 1   Customer Name  5 non-null      object \n",
      " 2   2018 Revenue   5 non-null      object \n",
      " 3   2019 Revenue   5 non-null      object \n",
      " 4   Growth         5 non-null      object \n",
      " 5   Start Year     5 non-null      int64  \n",
      " 6   Start Month    5 non-null      int64  \n",
      " 7   Start Day      5 non-null      int64  \n",
      " 8   New Customer   5 non-null      int64  \n",
      "dtypes: float64(1), int64(4), object(4)\n",
      "memory usage: 488.0+ bytes\n"
     ]
    }
   ],
   "source": [
    "data_frame.info()"
   ]
  },
  {
   "cell_type": "code",
   "execution_count": null,
   "id": "7ef06e93",
   "metadata": {},
   "outputs": [],
   "source": []
  }
 ],
 "metadata": {
  "kernelspec": {
   "display_name": "Python 3 (ipykernel)",
   "language": "python",
   "name": "python3"
  },
  "language_info": {
   "codemirror_mode": {
    "name": "ipython",
    "version": 3
   },
   "file_extension": ".py",
   "mimetype": "text/x-python",
   "name": "python",
   "nbconvert_exporter": "python",
   "pygments_lexer": "ipython3",
   "version": "3.9.13"
  }
 },
 "nbformat": 4,
 "nbformat_minor": 5
}
