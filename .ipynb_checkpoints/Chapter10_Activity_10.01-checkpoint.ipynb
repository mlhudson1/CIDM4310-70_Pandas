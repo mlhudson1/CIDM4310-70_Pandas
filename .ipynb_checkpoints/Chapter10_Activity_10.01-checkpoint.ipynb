{
 "cells": [
  {
   "cell_type": "markdown",
   "id": "8ea7c947",
   "metadata": {},
   "source": [
    "# Activity 10.01 - Normalizing and smoothing data"
   ]
  },
  {
   "cell_type": "markdown",
   "id": "4bd19d99",
   "metadata": {},
   "source": [
    "For this activity, all you will need is the pandas library, a scaling module from sklearn, and matplotlib. Load them in the first cell of the notebook."
   ]
  },
  {
   "cell_type": "code",
   "execution_count": 2,
   "id": "0dcca45d",
   "metadata": {},
   "outputs": [],
   "source": [
    "import pandas as pd\n",
    "from sklearn.preprocessing import StandardScaler\n",
    "import matplotlib.pyplot as plt"
   ]
  },
  {
   "cell_type": "markdown",
   "id": "3cf7a722",
   "metadata": {},
   "source": [
    "1. Use the stocks.csv dataset."
   ]
  },
  {
   "cell_type": "markdown",
   "id": "bd05f50d",
   "metadata": {},
   "source": [
    "2. Inspect .dtypes and convert dates to pandas datetime if needed."
   ]
  },
  {
   "cell_type": "markdown",
   "id": "2d5b8f63",
   "metadata": {},
   "source": [
    "3. Split the data into train and test sets based on the data, keeping the last 3 months as the test set."
   ]
  },
  {
   "cell_type": "markdown",
   "id": "683d650e",
   "metadata": {},
   "source": [
    "4. Generate a scatter plot that shows the prices over time of different stock symbols and identifies the train and test splits."
   ]
  },
  {
   "cell_type": "markdown",
   "id": "c3fea0b7",
   "metadata": {},
   "source": [
    "5. You will find that the initial scatter plot isn't very informative, because different symbols have very different pricing, so some are compressed at the bottom of the y axis. Plot a histogram of the price distribution for each symbol separately, and use enough bins to see the detail."
   ]
  },
  {
   "cell_type": "markdown",
   "id": "98a8aaf9",
   "metadata": {},
   "source": [
    "6. Since you see the prices have very different ranges, you need to scale each symbol separately. Use sklearn's StandardScaler to scale the original price and volume data by symbol, storing each symbol as a new DataFrame in a list, with scalers as another list."
   ]
  },
  {
   "cell_type": "markdown",
   "id": "50b705a5",
   "metadata": {},
   "source": [
    "7. Plot the train/test data as before, using a loop over the symbols."
   ]
  },
  {
   "cell_type": "markdown",
   "id": "a57c2250",
   "metadata": {},
   "source": [
    "8. You can now see that two of the symbols are similar in trend and one differes. Replot the two similar symbols but apply smoothing of 14 days and compare whether the two stocks are behaving the same way over the period from 2017-19 forward."
   ]
  },
  {
   "cell_type": "markdown",
   "id": "c489c94b",
   "metadata": {},
   "source": [
    "The result should indicate some potential similarities between two of th symbols' prices behavior, which motivates some additional market research to look for reasons why they behave this way."
   ]
  },
  {
   "cell_type": "code",
   "execution_count": null,
   "id": "ace9f0fc",
   "metadata": {},
   "outputs": [],
   "source": []
  }
 ],
 "metadata": {
  "kernelspec": {
   "display_name": "Python 3 (ipykernel)",
   "language": "python",
   "name": "python3"
  },
  "language_info": {
   "codemirror_mode": {
    "name": "ipython",
    "version": 3
   },
   "file_extension": ".py",
   "mimetype": "text/x-python",
   "name": "python",
   "nbconvert_exporter": "python",
   "pygments_lexer": "ipython3",
   "version": "3.9.13"
  }
 },
 "nbformat": 4,
 "nbformat_minor": 5
}
