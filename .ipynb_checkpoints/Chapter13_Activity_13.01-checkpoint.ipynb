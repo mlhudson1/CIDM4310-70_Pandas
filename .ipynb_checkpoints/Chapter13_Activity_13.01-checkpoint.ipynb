{
 "cells": [
  {
   "cell_type": "markdown",
   "id": "0cc15d1c",
   "metadata": {},
   "source": [
    "# Activity 13.01 - Creating a time series model"
   ]
  },
  {
   "cell_type": "markdown",
   "id": "54e419fe",
   "metadata": {},
   "source": [
    "In this activity, as a data analyst for a bike-share starup, you are provided witha  dataset that has hourly unit rentals for a bike-share business. You are tasked to create a very simple model to predict the rentals one week in advance"
   ]
  },
  {
   "cell_type": "markdown",
   "id": "0854f1c5",
   "metadata": {},
   "source": [
    "1. For this activity, you will need the pandas library, the matplotlib.pyplot library, and the sklearn.linear_model.LinearRegression module. Load them in the first cell of the  notebook. "
   ]
  },
  {
   "cell_type": "code",
   "execution_count": 1,
   "id": "06136c27",
   "metadata": {},
   "outputs": [],
   "source": [
    "import pandas as pd\n",
    "import matplotlib.pyplot as plt\n",
    "from sklearn.linear_model import LinearRegression"
   ]
  },
  {
   "cell_type": "markdown",
   "id": "7ed3ff9d",
   "metadata": {},
   "source": [
    "2. Read in the bike_share.csv data from the Datasets directory, and list the first few rows:"
   ]
  },
  {
   "cell_type": "markdown",
   "id": "37e0109e",
   "metadata": {},
   "source": [
    "3. You need to create a datetime index. Construct a new datetime-valued column as a combination of the date and the hour and make it the index:"
   ]
  },
  {
   "cell_type": "markdown",
   "id": "aa84991b",
   "metadata": {},
   "source": [
    "4. Generate a simple plot of the data versus time:"
   ]
  },
  {
   "cell_type": "markdown",
   "id": "df0c933b",
   "metadata": {},
   "source": [
    "5. Using the index and the rentals column, downsample the data to 1-day intervals. You want total rentals per day, so choose the appropriate aggregation function:"
   ]
  },
  {
   "cell_type": "markdown",
   "id": "099e8c32",
   "metadata": {},
   "source": [
    "6. Generate a simple plot of the first 8 weeks (56 days) of the resampled data:"
   ]
  },
  {
   "cell_type": "markdown",
   "id": "f273fa72",
   "metadata": {},
   "source": [
    "7. You should notice there are ups and downs that seem to be on about a 7-day cycle. Explore this by plotting the data versus itself, shifted appropriately:"
   ]
  },
  {
   "cell_type": "markdown",
   "id": "6e29cd61",
   "metadata": {},
   "source": [
    "8. Preparing to apply linear regression to the data, create a new column with shifted data:"
   ]
  },
  {
   "cell_type": "markdown",
   "id": "96552a31",
   "metadata": {},
   "source": [
    "9. Now, use the LinearRegression module to fit a linear model, using the lagged data as the X data, and the actual rentals as the Y data."
   ]
  },
  {
   "cell_type": "markdown",
   "id": "582678ea",
   "metadata": {},
   "source": [
    "10. Plot the predicted values versus the actual values and compare them to an ideal prediction."
   ]
  },
  {
   "cell_type": "code",
   "execution_count": null,
   "id": "78ba6544",
   "metadata": {},
   "outputs": [],
   "source": []
  }
 ],
 "metadata": {
  "kernelspec": {
   "display_name": "Python 3 (ipykernel)",
   "language": "python",
   "name": "python3"
  },
  "language_info": {
   "codemirror_mode": {
    "name": "ipython",
    "version": 3
   },
   "file_extension": ".py",
   "mimetype": "text/x-python",
   "name": "python",
   "nbconvert_exporter": "python",
   "pygments_lexer": "ipython3",
   "version": "3.9.13"
  }
 },
 "nbformat": 4,
 "nbformat_minor": 5
}
