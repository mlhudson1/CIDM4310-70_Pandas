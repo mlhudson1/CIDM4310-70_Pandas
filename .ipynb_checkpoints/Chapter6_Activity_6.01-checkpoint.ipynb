{
 "cells": [
  {
   "cell_type": "markdown",
   "id": "f3cf3534",
   "metadata": {},
   "source": [
    "# Activity 6.01 - Series data selection "
   ]
  },
  {
   "cell_type": "markdown",
   "id": "b5ced54d",
   "metadata": {},
   "source": [
    "1. For this activity, all you will need is the pandas library. Load it into the first cell of the notebook."
   ]
  },
  {
   "cell_type": "code",
   "execution_count": 1,
   "id": "a1a27308",
   "metadata": {},
   "outputs": [],
   "source": [
    "import pandas as pd"
   ]
  },
  {
   "cell_type": "markdown",
   "id": "7621a903",
   "metadata": {},
   "source": [
    "2. Read in a pandas Series from the US_Census_SUB-IP-EST2019-ANNRNK_top_20_2010.csv file. This data is from the US Census Bureau. The city names are in the first column, so read them so that they are used as the indexes. List the resulting Series. "
   ]
  },
  {
   "cell_type": "code",
   "execution_count": 2,
   "id": "12f9ae23",
   "metadata": {},
   "outputs": [
    {
     "data": {
      "text/plain": [
       "City\n",
       "New York                8190209\n",
       "Los Angeles             3795512\n",
       "Chicago                 2697477\n",
       "Houston                 2100280\n",
       "Phoenix                 1449038\n",
       "Philadelphia            1528283\n",
       "San Antonio             1332299\n",
       "San Diego               1305906\n",
       "Dallas                  1200350\n",
       "San Jose                 954940\n",
       "Austin                   806164\n",
       "Jacksonville             823114\n",
       "Fort Worth               748441\n",
       "Columbus                 790943\n",
       "Charlotte                738444\n",
       "San Francisco            805505\n",
       "Indianapolis             821579\n",
       "Seattle                  610630\n",
       "Denver                   603359\n",
       "District of Columbia     605226\n",
       "Name: 2010, dtype: int64"
      ]
     },
     "execution_count": 2,
     "metadata": {},
     "output_type": "execute_result"
    }
   ],
   "source": [
    "census_2010=pd.read_csv('Chapter6-Datasets/US_Census_SUB-IP-EST2019-ANNRNK_top_20_2010.csv', index_col=[0]).squeeze()\n",
    "census_2010"
   ]
  },
  {
   "cell_type": "markdown",
   "id": "dea7aa86",
   "metadata": {},
   "source": [
    "3. Calculate the total population of the three largest cities in the 2010 Series(New York, Los Angeles, and Chicago) and save the result in a variable."
   ]
  },
  {
   "cell_type": "code",
   "execution_count": 3,
   "id": "67e67d13",
   "metadata": {},
   "outputs": [
    {
     "data": {
      "text/plain": [
       "14683198"
      ]
     },
     "execution_count": 3,
     "metadata": {},
     "output_type": "execute_result"
    }
   ],
   "source": [
    "big3_2010=sum(census_2010[['New York','Los Angeles','Chicago']])\n",
    "big3_2010"
   ]
  },
  {
   "cell_type": "markdown",
   "id": "16bee422",
   "metadata": {},
   "source": [
    "4. Read in the corresponding data for 2019 from the US_Census_SUB-IP-EST2019-ANNRNK_top_20_2019.csv file, again using the first column as teh index and reading the data into a Series. This data is from the US Census Bureau."
   ]
  },
  {
   "cell_type": "code",
   "execution_count": 4,
   "id": "f417fa88",
   "metadata": {},
   "outputs": [
    {
     "data": {
      "text/plain": [
       "City\n",
       "New York                8336817\n",
       "Los Angeles             3979576\n",
       "Chicago                 2693976\n",
       "Houston                 2320268\n",
       "Phoenix                 1680992\n",
       "Philadelphia            1584064\n",
       "San Antonio             1547253\n",
       "San Diego               1423851\n",
       "Dallas                  1343573\n",
       "San Jose                1021795\n",
       "Austin                   978908\n",
       "Jacksonville             911507\n",
       "Fort Worth               909585\n",
       "Columbus                 898553\n",
       "Charlotte                885708\n",
       "San Francisco            881549\n",
       "Indianapolis             876384\n",
       "Seattle                  753675\n",
       "Denver                   727211\n",
       "District of Columbia     705749\n",
       "Name: 2019, dtype: int64"
      ]
     },
     "execution_count": 4,
     "metadata": {},
     "output_type": "execute_result"
    }
   ],
   "source": [
    "census_2019=pd.read_csv('Chapter6-Datasets/US_Census_SUB-IP-EST2019-ANNRNK_top_20_2019.csv', index_col=[0]).squeeze()\n",
    "census_2019"
   ]
  },
  {
   "cell_type": "markdown",
   "id": "f41a582e",
   "metadata": {},
   "source": [
    "5. Calculate the total population for the same three cities in the 2019 Series and save the result in a variable."
   ]
  },
  {
   "cell_type": "code",
   "execution_count": 5,
   "id": "390548a0",
   "metadata": {},
   "outputs": [
    {
     "data": {
      "text/plain": [
       "15010369"
      ]
     },
     "execution_count": 5,
     "metadata": {},
     "output_type": "execute_result"
    }
   ],
   "source": [
    "big3_2019=sum(census_2019[['New York','Los Angeles','Chicago']])\n",
    "big3_2019"
   ]
  },
  {
   "cell_type": "markdown",
   "id": "5006e345",
   "metadata": {},
   "source": [
    "6. Using the saved values, calculate the percent change from 2010 to 2019 for the three cities. Also, calculate the percent change for all the cities, Print out a compaision of the changes for the three cities versus all cities."
   ]
  },
  {
   "cell_type": "code",
   "execution_count": 6,
   "id": "7c7b760c",
   "metadata": {},
   "outputs": [
    {
     "name": "stdout",
     "output_type": "stream",
     "text": [
      "population change for the top 3 cities from 2010 to 2019 2.2 %\n",
      "population change for all cities from 2010 to 2019 8.0 %\n"
     ]
    }
   ],
   "source": [
    "big3_change=100*(big3_2019-big3_2010)/big3_2010\n",
    "all_change=100*(sum(census_2019-census_2010)/sum(census_2010))\n",
    "print('population change for the top 3 cities from 2010 to 2019',str(round(big3_change,1)),'%')\n",
    "print('population change for all cities from 2010 to 2019',str(round(all_change,1)),'%')"
   ]
  }
 ],
 "metadata": {
  "kernelspec": {
   "display_name": "Python 3 (ipykernel)",
   "language": "python",
   "name": "python3"
  },
  "language_info": {
   "codemirror_mode": {
    "name": "ipython",
    "version": 3
   },
   "file_extension": ".py",
   "mimetype": "text/x-python",
   "name": "python",
   "nbconvert_exporter": "python",
   "pygments_lexer": "ipython3",
   "version": "3.9.13"
  }
 },
 "nbformat": 4,
 "nbformat_minor": 5
}
