{
 "cells": [
  {
   "cell_type": "markdown",
   "id": "19edc68c",
   "metadata": {},
   "source": [
    "# Activity 6.01 - Series data selection "
   ]
  },
  {
   "cell_type": "markdown",
   "id": "54b83dc4",
   "metadata": {},
   "source": [
    "1. For this activity, all you will need is the pandas library. Load it into the first cell of the notebook."
   ]
  },
  {
   "cell_type": "markdown",
   "id": "90016615",
   "metadata": {},
   "source": [
    "2. Read in a pandas Series from the US_Census_SUB-IP-EST2019-ANNRNK_top_20_2010.csv file. This data is from the US Census Bureau. The city names are in the first column, so read them so that they are used as the indexes. List the resulting Series. "
   ]
  },
  {
   "cell_type": "markdown",
   "id": "b6416012",
   "metadata": {},
   "source": [
    "3. Calculate the total population of the three largest cities in the 2010 Series(New York, Los Angeles, and Chicago) and save the result in a variable."
   ]
  },
  {
   "cell_type": "markdown",
   "id": "34a7862b",
   "metadata": {},
   "source": [
    "4. Read in the corresponding data for 2019 from the US_Census_SUB-IP-EST2019-ANNRNK_top_20_2019.csv file, again using the first column as teh index and reading the data into a Series. This data is from the US Census Bureau."
   ]
  },
  {
   "cell_type": "markdown",
   "id": "0711332f",
   "metadata": {},
   "source": [
    "5. Calculate the total population for the same three cities in the 2019 Series and save the result in a variable."
   ]
  },
  {
   "cell_type": "markdown",
   "id": "bfdc5d2d",
   "metadata": {},
   "source": [
    "6. Using the saved values, calculate the perent change from 2010 to 2019 for the three cities. Also, calculate the percent change for all the cities, Print out a compaision of the changes for the three cities versus all cities."
   ]
  },
  {
   "cell_type": "code",
   "execution_count": null,
   "id": "50906e99",
   "metadata": {},
   "outputs": [],
   "source": []
  }
 ],
 "metadata": {
  "kernelspec": {
   "display_name": "Python 3 (ipykernel)",
   "language": "python",
   "name": "python3"
  },
  "language_info": {
   "codemirror_mode": {
    "name": "ipython",
    "version": 3
   },
   "file_extension": ".py",
   "mimetype": "text/x-python",
   "name": "python",
   "nbconvert_exporter": "python",
   "pygments_lexer": "ipython3",
   "version": "3.9.13"
  }
 },
 "nbformat": 4,
 "nbformat_minor": 5
}
