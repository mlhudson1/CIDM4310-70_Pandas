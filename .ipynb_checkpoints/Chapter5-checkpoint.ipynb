{
 "cells": [
  {
   "cell_type": "markdown",
   "id": "8f026c4f",
   "metadata": {},
   "source": [
    "#  Chapter 5 : Data Selection - DataFrames"
   ]
  },
  {
   "cell_type": "code",
   "execution_count": 1,
   "id": "fad7d054",
   "metadata": {},
   "outputs": [],
   "source": [
    "import pandas as pd"
   ]
  },
  {
   "cell_type": "markdown",
   "id": "9daed6a0",
   "metadata": {},
   "source": [
    "## Introduction to DataFrames"
   ]
  },
  {
   "cell_type": "markdown",
   "id": "1382649e",
   "metadata": {},
   "source": [
    "### The need for data selection methods"
   ]
  },
  {
   "cell_type": "code",
   "execution_count": 3,
   "id": "d4024149",
   "metadata": {},
   "outputs": [
    {
     "data": {
      "text/html": [
       "<div>\n",
       "<style scoped>\n",
       "    .dataframe tbody tr th:only-of-type {\n",
       "        vertical-align: middle;\n",
       "    }\n",
       "\n",
       "    .dataframe tbody tr th {\n",
       "        vertical-align: top;\n",
       "    }\n",
       "\n",
       "    .dataframe thead th {\n",
       "        text-align: right;\n",
       "    }\n",
       "</style>\n",
       "<table border=\"1\" class=\"dataframe\">\n",
       "  <thead>\n",
       "    <tr style=\"text-align: right;\">\n",
       "      <th></th>\n",
       "      <th>period</th>\n",
       "      <th>Industry</th>\n",
       "      <th>GDP</th>\n",
       "    </tr>\n",
       "  </thead>\n",
       "  <tbody>\n",
       "    <tr>\n",
       "      <th>0</th>\n",
       "      <td>2015_Q1</td>\n",
       "      <td>All industries</td>\n",
       "      <td>31917.8</td>\n",
       "    </tr>\n",
       "    <tr>\n",
       "      <th>1</th>\n",
       "      <td>2015_Q2</td>\n",
       "      <td>All industries</td>\n",
       "      <td>32266.2</td>\n",
       "    </tr>\n",
       "    <tr>\n",
       "      <th>2</th>\n",
       "      <td>2015_Q3</td>\n",
       "      <td>All industries</td>\n",
       "      <td>32406.6</td>\n",
       "    </tr>\n",
       "    <tr>\n",
       "      <th>3</th>\n",
       "      <td>2015_Q4</td>\n",
       "      <td>All industries</td>\n",
       "      <td>32298.7</td>\n",
       "    </tr>\n",
       "    <tr>\n",
       "      <th>4</th>\n",
       "      <td>2016_Q1</td>\n",
       "      <td>All industries</td>\n",
       "      <td>32303.8</td>\n",
       "    </tr>\n",
       "    <tr>\n",
       "      <th>...</th>\n",
       "      <td>...</td>\n",
       "      <td>...</td>\n",
       "      <td>...</td>\n",
       "    </tr>\n",
       "    <tr>\n",
       "      <th>2129</th>\n",
       "      <td>2019_Q2</td>\n",
       "      <td>Government enterprises</td>\n",
       "      <td>371.4</td>\n",
       "    </tr>\n",
       "    <tr>\n",
       "      <th>2130</th>\n",
       "      <td>2019_Q3</td>\n",
       "      <td>Government enterprises</td>\n",
       "      <td>373.5</td>\n",
       "    </tr>\n",
       "    <tr>\n",
       "      <th>2131</th>\n",
       "      <td>2019_Q4</td>\n",
       "      <td>Government enterprises</td>\n",
       "      <td>375.1</td>\n",
       "    </tr>\n",
       "    <tr>\n",
       "      <th>2132</th>\n",
       "      <td>2020_Q1</td>\n",
       "      <td>Government enterprises</td>\n",
       "      <td>372.8</td>\n",
       "    </tr>\n",
       "    <tr>\n",
       "      <th>2133</th>\n",
       "      <td>2020_Q2</td>\n",
       "      <td>Government enterprises</td>\n",
       "      <td>346.0</td>\n",
       "    </tr>\n",
       "  </tbody>\n",
       "</table>\n",
       "<p>2134 rows × 3 columns</p>\n",
       "</div>"
      ],
      "text/plain": [
       "       period                Industry      GDP\n",
       "0     2015_Q1          All industries  31917.8\n",
       "1     2015_Q2          All industries  32266.2\n",
       "2     2015_Q3          All industries  32406.6\n",
       "3     2015_Q4          All industries  32298.7\n",
       "4     2016_Q1          All industries  32303.8\n",
       "...       ...                     ...      ...\n",
       "2129  2019_Q2  Government enterprises    371.4\n",
       "2130  2019_Q3  Government enterprises    373.5\n",
       "2131  2019_Q4  Government enterprises    375.1\n",
       "2132  2020_Q1  Government enterprises    372.8\n",
       "2133  2020_Q2  Government enterprises    346.0\n",
       "\n",
       "[2134 rows x 3 columns]"
      ]
     },
     "execution_count": 3,
     "metadata": {},
     "output_type": "execute_result"
    }
   ],
   "source": [
    "GDP_data = pd.read_csv('Chapter5-Datasets/US_GDP_Industry.csv')\n",
    "GDP_data"
   ]
  },
  {
   "cell_type": "markdown",
   "id": "8b492fc3",
   "metadata": {},
   "source": [
    "## Data selection in pandas DataFrames"
   ]
  },
  {
   "cell_type": "markdown",
   "id": "2d3128e2",
   "metadata": {},
   "source": [
    "### The index and it's forms"
   ]
  },
  {
   "cell_type": "code",
   "execution_count": 4,
   "id": "90a37839",
   "metadata": {},
   "outputs": [
    {
     "data": {
      "text/plain": [
       "RangeIndex(start=0, stop=2134, step=1)"
      ]
     },
     "execution_count": 4,
     "metadata": {},
     "output_type": "execute_result"
    }
   ],
   "source": [
    "GDP_data.index"
   ]
  },
  {
   "cell_type": "code",
   "execution_count": 5,
   "id": "c6020ed2",
   "metadata": {},
   "outputs": [
    {
     "data": {
      "text/plain": [
       "range(0, 2134)"
      ]
     },
     "execution_count": 5,
     "metadata": {},
     "output_type": "execute_result"
    }
   ],
   "source": [
    "range(0,2134)"
   ]
  },
  {
   "cell_type": "code",
   "execution_count": 6,
   "id": "8b36eccf",
   "metadata": {},
   "outputs": [
    {
     "name": "stdout",
     "output_type": "stream",
     "text": [
      "1\n",
      "2\n",
      "3\n",
      "4\n",
      "5\n",
      "6\n",
      "7\n",
      "8\n",
      "9\n"
     ]
    }
   ],
   "source": [
    "for i in range(0,2134,1):\n",
    "    if(i>0 and i<10):\n",
    "        print(i)"
   ]
  },
  {
   "cell_type": "code",
   "execution_count": 7,
   "id": "52f11e8b",
   "metadata": {},
   "outputs": [
    {
     "name": "stdout",
     "output_type": "stream",
     "text": [
      "[0, 1, 2, 3, 4, 5, 6, 7, 8, 9]\n"
     ]
    }
   ],
   "source": [
    "print(list(range(0,2134,1))[:10])"
   ]
  },
  {
   "cell_type": "code",
   "execution_count": 8,
   "id": "f81c2016",
   "metadata": {},
   "outputs": [
    {
     "name": "stdout",
     "output_type": "stream",
     "text": [
      "1\n",
      "2\n",
      "3\n",
      "4\n",
      "5\n",
      "6\n",
      "7\n",
      "8\n",
      "9\n"
     ]
    }
   ],
   "source": [
    "for i in GDP_data.index:\n",
    "    if(i>0 and i<10):\n",
    "        print(i)"
   ]
  },
  {
   "cell_type": "code",
   "execution_count": 9,
   "id": "52a0543b",
   "metadata": {},
   "outputs": [
    {
     "data": {
      "text/plain": [
       "Index(['period', 'Industry', 'GDP'], dtype='object')"
      ]
     },
     "execution_count": 9,
     "metadata": {},
     "output_type": "execute_result"
    }
   ],
   "source": [
    "GDP_data.columns"
   ]
  },
  {
   "cell_type": "markdown",
   "id": "d5356d09",
   "metadata": {},
   "source": [
    "## Exercise 5.01 - identifying the row and columns indices in a dataset"
   ]
  },
  {
   "cell_type": "code",
   "execution_count": 10,
   "id": "dbab4bfc",
   "metadata": {},
   "outputs": [
    {
     "name": "stdout",
     "output_type": "stream",
     "text": [
      "['AT', 'AP', 'AH', 'AFDP', 'GTEP', 'TIT', 'TAT', 'TEY', 'CDP', 'CO', 'NOX'] \n",
      " ( 11  columns )\n"
     ]
    }
   ],
   "source": [
    "gas_turbine_data = pd.read_csv('Chapter5-Datasets/gt_2015.csv')\n",
    "gt_columns = list(gas_turbine_data.columns)\n",
    "print(gt_columns,'\\n (', len(gt_columns), ' columns )')"
   ]
  },
  {
   "cell_type": "code",
   "execution_count": 11,
   "id": "bf8f0cbd",
   "metadata": {},
   "outputs": [
    {
     "data": {
      "text/plain": [
       "RangeIndex(start=0, stop=7384, step=1)"
      ]
     },
     "execution_count": 11,
     "metadata": {},
     "output_type": "execute_result"
    }
   ],
   "source": [
    "gas_turbine_data.index"
   ]
  },
  {
   "cell_type": "code",
   "execution_count": 12,
   "id": "7fceeaa9",
   "metadata": {},
   "outputs": [
    {
     "data": {
      "text/plain": [
       "119.68"
      ]
     },
     "execution_count": 12,
     "metadata": {},
     "output_type": "execute_result"
    }
   ],
   "source": [
    "gas_turbine_data['NOX'].max()"
   ]
  },
  {
   "cell_type": "markdown",
   "id": "88538575",
   "metadata": {},
   "source": [
    "## Saving the index or columns"
   ]
  },
  {
   "cell_type": "code",
   "execution_count": 13,
   "id": "8d2e5bc9",
   "metadata": {},
   "outputs": [
    {
     "name": "stdout",
     "output_type": "stream",
     "text": [
      "the index is type  <class 'pandas.core.indexes.base.Index'> \n",
      " while the columns are type  <class 'pandas.core.indexes.base.Index'>\n",
      "the second itme in the list is  1 \n",
      " and the second column is  Industry\n"
     ]
    }
   ],
   "source": [
    "GDP_data_index = GDP_data.index\n",
    "GDP_data_cols = GDP_data.columns\n",
    "print('the index is type ',type(GDP_data_cols),'\\n while the columns are type ',type(GDP_data_cols))\n",
    "print('the second itme in the list is ', GDP_data_index[1], '\\n and the second column is ', GDP_data_cols[1])"
   ]
  },
  {
   "cell_type": "code",
   "execution_count": 14,
   "id": "cbedf9f5",
   "metadata": {},
   "outputs": [
    {
     "name": "stdout",
     "output_type": "stream",
     "text": [
      "RangeIndex(start=0, stop=19, step=1) Int64Index([0, 1], dtype='int64')\n"
     ]
    }
   ],
   "source": [
    "bare_data = pd.read_csv('Chapter5-Datasets/bare_csv.csv', header = None)\n",
    "print(bare_data.index, bare_data.columns)"
   ]
  },
  {
   "cell_type": "markdown",
   "id": "58e35691",
   "metadata": {},
   "source": [
    "## Slicing and Indexing Methods"
   ]
  },
  {
   "cell_type": "code",
   "execution_count": 16,
   "id": "44dce7fb",
   "metadata": {},
   "outputs": [
    {
     "data": {
      "text/html": [
       "<div>\n",
       "<style scoped>\n",
       "    .dataframe tbody tr th:only-of-type {\n",
       "        vertical-align: middle;\n",
       "    }\n",
       "\n",
       "    .dataframe tbody tr th {\n",
       "        vertical-align: top;\n",
       "    }\n",
       "\n",
       "    .dataframe thead th {\n",
       "        text-align: right;\n",
       "    }\n",
       "</style>\n",
       "<table border=\"1\" class=\"dataframe\">\n",
       "  <thead>\n",
       "    <tr style=\"text-align: right;\">\n",
       "      <th></th>\n",
       "      <th>values</th>\n",
       "      <th>names</th>\n",
       "    </tr>\n",
       "  </thead>\n",
       "  <tbody>\n",
       "    <tr>\n",
       "      <th>0</th>\n",
       "      <td>6</td>\n",
       "      <td>oranges</td>\n",
       "    </tr>\n",
       "    <tr>\n",
       "      <th>1</th>\n",
       "      <td>1</td>\n",
       "      <td>apples</td>\n",
       "    </tr>\n",
       "    <tr>\n",
       "      <th>2</th>\n",
       "      <td>5</td>\n",
       "      <td>bananas</td>\n",
       "    </tr>\n",
       "    <tr>\n",
       "      <th>3</th>\n",
       "      <td>2</td>\n",
       "      <td>pears</td>\n",
       "    </tr>\n",
       "  </tbody>\n",
       "</table>\n",
       "</div>"
      ],
      "text/plain": [
       "   values    names\n",
       "0       6  oranges\n",
       "1       1   apples\n",
       "2       5  bananas\n",
       "3       2    pears"
      ]
     },
     "execution_count": 16,
     "metadata": {},
     "output_type": "execute_result"
    }
   ],
   "source": [
    "labels_vs_integers=pd.DataFrame({'values': [6,1,5,2], 'names':['oranges','apples','bananas', 'pears']})\n",
    "labels_vs_integers"
   ]
  },
  {
   "cell_type": "code",
   "execution_count": 17,
   "id": "cf73799f",
   "metadata": {},
   "outputs": [
    {
     "data": {
      "text/html": [
       "<div>\n",
       "<style scoped>\n",
       "    .dataframe tbody tr th:only-of-type {\n",
       "        vertical-align: middle;\n",
       "    }\n",
       "\n",
       "    .dataframe tbody tr th {\n",
       "        vertical-align: top;\n",
       "    }\n",
       "\n",
       "    .dataframe thead th {\n",
       "        text-align: right;\n",
       "    }\n",
       "</style>\n",
       "<table border=\"1\" class=\"dataframe\">\n",
       "  <thead>\n",
       "    <tr style=\"text-align: right;\">\n",
       "      <th></th>\n",
       "      <th>values</th>\n",
       "      <th>names</th>\n",
       "    </tr>\n",
       "  </thead>\n",
       "  <tbody>\n",
       "    <tr>\n",
       "      <th>citrus</th>\n",
       "      <td>6</td>\n",
       "      <td>oranges</td>\n",
       "    </tr>\n",
       "    <tr>\n",
       "      <th>non-citrus</th>\n",
       "      <td>1</td>\n",
       "      <td>apples</td>\n",
       "    </tr>\n",
       "    <tr>\n",
       "      <th>non_citrus</th>\n",
       "      <td>5</td>\n",
       "      <td>bananas</td>\n",
       "    </tr>\n",
       "    <tr>\n",
       "      <th>non_citrus</th>\n",
       "      <td>2</td>\n",
       "      <td>pears</td>\n",
       "    </tr>\n",
       "  </tbody>\n",
       "</table>\n",
       "</div>"
      ],
      "text/plain": [
       "            values    names\n",
       "citrus           6  oranges\n",
       "non-citrus       1   apples\n",
       "non_citrus       5  bananas\n",
       "non_citrus       2    pears"
      ]
     },
     "execution_count": 17,
     "metadata": {},
     "output_type": "execute_result"
    }
   ],
   "source": [
    "labels_vs_integers.index = ['citrus','non-citrus','non_citrus','non_citrus']\n",
    "labels_vs_integers"
   ]
  },
  {
   "cell_type": "code",
   "execution_count": 19,
   "id": "b2b6f3d9",
   "metadata": {},
   "outputs": [
    {
     "name": "stdout",
     "output_type": "stream",
     "text": [
      "non-citrus     apples\n",
      "non_citrus    bananas\n",
      "non_citrus      pears\n",
      "Name: names, dtype: object\n",
      "\n",
      "non_citrus    bananas\n",
      "non_citrus      pears\n",
      "Name: names, dtype: object\n"
     ]
    }
   ],
   "source": [
    "print(labels_vs_integers.iloc[1:4,1])\n",
    "print()\n",
    "print(labels_vs_integers.loc['non_citrus', 'names'])"
   ]
  },
  {
   "cell_type": "code",
   "execution_count": 21,
   "id": "b97e261b",
   "metadata": {},
   "outputs": [
    {
     "name": "stdout",
     "output_type": "stream",
     "text": [
      "using .iloc alone:  apples\n",
      "using .loc to subset first, then using .iloc:  pears\n"
     ]
    }
   ],
   "source": [
    "print('using .iloc alone: ', labels_vs_integers.iloc[1,1])\n",
    "print('using .loc to subset first, then using .iloc: ',labels_vs_integers.loc['non_citrus', :].iloc[1,1])"
   ]
  },
  {
   "cell_type": "code",
   "execution_count": 23,
   "id": "94155ccb",
   "metadata": {},
   "outputs": [
    {
     "data": {
      "text/html": [
       "<div>\n",
       "<style scoped>\n",
       "    .dataframe tbody tr th:only-of-type {\n",
       "        vertical-align: middle;\n",
       "    }\n",
       "\n",
       "    .dataframe tbody tr th {\n",
       "        vertical-align: top;\n",
       "    }\n",
       "\n",
       "    .dataframe thead th {\n",
       "        text-align: right;\n",
       "    }\n",
       "</style>\n",
       "<table border=\"1\" class=\"dataframe\">\n",
       "  <thead>\n",
       "    <tr style=\"text-align: right;\">\n",
       "      <th></th>\n",
       "      <th>species</th>\n",
       "      <th>name</th>\n",
       "    </tr>\n",
       "  </thead>\n",
       "  <tbody>\n",
       "    <tr>\n",
       "      <th>0</th>\n",
       "      <td>feline</td>\n",
       "      <td>housecat</td>\n",
       "    </tr>\n",
       "    <tr>\n",
       "      <th>1</th>\n",
       "      <td>canine</td>\n",
       "      <td>wolf</td>\n",
       "    </tr>\n",
       "    <tr>\n",
       "      <th>2</th>\n",
       "      <td>canine</td>\n",
       "      <td>dingo</td>\n",
       "    </tr>\n",
       "    <tr>\n",
       "      <th>3</th>\n",
       "      <td>feline</td>\n",
       "      <td>tiger</td>\n",
       "    </tr>\n",
       "  </tbody>\n",
       "</table>\n",
       "</div>"
      ],
      "text/plain": [
       "  species      name\n",
       "0  feline  housecat\n",
       "1  canine      wolf\n",
       "2  canine     dingo\n",
       "3  feline     tiger"
      ]
     },
     "execution_count": 23,
     "metadata": {},
     "output_type": "execute_result"
    }
   ],
   "source": [
    "int_labels_vs_integers = pd.DataFrame({'species': ['feline','canine', 'canine','feline'], 'name': ['housecat','wolf', 'dingo', 'tiger']})\n",
    "int_labels_vs_integers"
   ]
  },
  {
   "cell_type": "code",
   "execution_count": 25,
   "id": "41259cec",
   "metadata": {},
   "outputs": [
    {
     "data": {
      "text/html": [
       "<div>\n",
       "<style scoped>\n",
       "    .dataframe tbody tr th:only-of-type {\n",
       "        vertical-align: middle;\n",
       "    }\n",
       "\n",
       "    .dataframe tbody tr th {\n",
       "        vertical-align: top;\n",
       "    }\n",
       "\n",
       "    .dataframe thead th {\n",
       "        text-align: right;\n",
       "    }\n",
       "</style>\n",
       "<table border=\"1\" class=\"dataframe\">\n",
       "  <thead>\n",
       "    <tr style=\"text-align: right;\">\n",
       "      <th></th>\n",
       "      <th>species</th>\n",
       "      <th>name</th>\n",
       "    </tr>\n",
       "  </thead>\n",
       "  <tbody>\n",
       "    <tr>\n",
       "      <th>0</th>\n",
       "      <td>feline</td>\n",
       "      <td>housecat</td>\n",
       "    </tr>\n",
       "    <tr>\n",
       "      <th>2</th>\n",
       "      <td>canine</td>\n",
       "      <td>dingo</td>\n",
       "    </tr>\n",
       "    <tr>\n",
       "      <th>3</th>\n",
       "      <td>feline</td>\n",
       "      <td>tiger</td>\n",
       "    </tr>\n",
       "  </tbody>\n",
       "</table>\n",
       "</div>"
      ],
      "text/plain": [
       "  species      name\n",
       "0  feline  housecat\n",
       "2  canine     dingo\n",
       "3  feline     tiger"
      ]
     },
     "execution_count": 25,
     "metadata": {},
     "output_type": "execute_result"
    }
   ],
   "source": [
    "int_labels_vs_integers = int_labels_vs_integers.iloc[[0,2,3],:]\n",
    "int_labels_vs_integers"
   ]
  },
  {
   "cell_type": "code",
   "execution_count": 26,
   "id": "8b388dfc",
   "metadata": {},
   "outputs": [
    {
     "data": {
      "text/plain": [
       "species    feline\n",
       "name        tiger\n",
       "Name: 3, dtype: object"
      ]
     },
     "execution_count": 26,
     "metadata": {},
     "output_type": "execute_result"
    }
   ],
   "source": [
    "int_labels_vs_integers.iloc[2,:]"
   ]
  },
  {
   "cell_type": "code",
   "execution_count": 27,
   "id": "ec26b905",
   "metadata": {},
   "outputs": [
    {
     "data": {
      "text/html": [
       "<div>\n",
       "<style scoped>\n",
       "    .dataframe tbody tr th:only-of-type {\n",
       "        vertical-align: middle;\n",
       "    }\n",
       "\n",
       "    .dataframe tbody tr th {\n",
       "        vertical-align: top;\n",
       "    }\n",
       "\n",
       "    .dataframe thead th {\n",
       "        text-align: right;\n",
       "    }\n",
       "</style>\n",
       "<table border=\"1\" class=\"dataframe\">\n",
       "  <thead>\n",
       "    <tr style=\"text-align: right;\">\n",
       "      <th></th>\n",
       "      <th>period</th>\n",
       "      <th>GDP</th>\n",
       "    </tr>\n",
       "  </thead>\n",
       "  <tbody>\n",
       "    <tr>\n",
       "      <th>0</th>\n",
       "      <td>2015_Q1</td>\n",
       "      <td>31917.8</td>\n",
       "    </tr>\n",
       "    <tr>\n",
       "      <th>1</th>\n",
       "      <td>2015_Q2</td>\n",
       "      <td>32266.2</td>\n",
       "    </tr>\n",
       "    <tr>\n",
       "      <th>2</th>\n",
       "      <td>2015_Q3</td>\n",
       "      <td>32406.6</td>\n",
       "    </tr>\n",
       "    <tr>\n",
       "      <th>3</th>\n",
       "      <td>2015_Q4</td>\n",
       "      <td>32298.7</td>\n",
       "    </tr>\n",
       "    <tr>\n",
       "      <th>4</th>\n",
       "      <td>2016_Q1</td>\n",
       "      <td>32303.8</td>\n",
       "    </tr>\n",
       "  </tbody>\n",
       "</table>\n",
       "</div>"
      ],
      "text/plain": [
       "    period      GDP\n",
       "0  2015_Q1  31917.8\n",
       "1  2015_Q2  32266.2\n",
       "2  2015_Q3  32406.6\n",
       "3  2015_Q4  32298.7\n",
       "4  2016_Q1  32303.8"
      ]
     },
     "execution_count": 27,
     "metadata": {},
     "output_type": "execute_result"
    }
   ],
   "source": [
    "GDP_summary = GDP_data.iloc[:,[0,2]]\n",
    "GDP_summary.head()"
   ]
  },
  {
   "cell_type": "code",
   "execution_count": 28,
   "id": "ce1809e1",
   "metadata": {},
   "outputs": [
    {
     "data": {
      "text/html": [
       "<div>\n",
       "<style scoped>\n",
       "    .dataframe tbody tr th:only-of-type {\n",
       "        vertical-align: middle;\n",
       "    }\n",
       "\n",
       "    .dataframe tbody tr th {\n",
       "        vertical-align: top;\n",
       "    }\n",
       "\n",
       "    .dataframe thead th {\n",
       "        text-align: right;\n",
       "    }\n",
       "</style>\n",
       "<table border=\"1\" class=\"dataframe\">\n",
       "  <thead>\n",
       "    <tr style=\"text-align: right;\">\n",
       "      <th></th>\n",
       "      <th>period</th>\n",
       "      <th>GDP</th>\n",
       "    </tr>\n",
       "  </thead>\n",
       "  <tbody>\n",
       "    <tr>\n",
       "      <th>0</th>\n",
       "      <td>2015_Q1</td>\n",
       "      <td>31917.8</td>\n",
       "    </tr>\n",
       "    <tr>\n",
       "      <th>1</th>\n",
       "      <td>2015_Q2</td>\n",
       "      <td>32266.2</td>\n",
       "    </tr>\n",
       "    <tr>\n",
       "      <th>2</th>\n",
       "      <td>2015_Q3</td>\n",
       "      <td>32406.6</td>\n",
       "    </tr>\n",
       "    <tr>\n",
       "      <th>3</th>\n",
       "      <td>2015_Q4</td>\n",
       "      <td>32298.7</td>\n",
       "    </tr>\n",
       "    <tr>\n",
       "      <th>4</th>\n",
       "      <td>2016_Q1</td>\n",
       "      <td>32303.8</td>\n",
       "    </tr>\n",
       "    <tr>\n",
       "      <th>...</th>\n",
       "      <td>...</td>\n",
       "      <td>...</td>\n",
       "    </tr>\n",
       "    <tr>\n",
       "      <th>2129</th>\n",
       "      <td>2019_Q2</td>\n",
       "      <td>371.4</td>\n",
       "    </tr>\n",
       "    <tr>\n",
       "      <th>2130</th>\n",
       "      <td>2019_Q3</td>\n",
       "      <td>373.5</td>\n",
       "    </tr>\n",
       "    <tr>\n",
       "      <th>2131</th>\n",
       "      <td>2019_Q4</td>\n",
       "      <td>375.1</td>\n",
       "    </tr>\n",
       "    <tr>\n",
       "      <th>2132</th>\n",
       "      <td>2020_Q1</td>\n",
       "      <td>372.8</td>\n",
       "    </tr>\n",
       "    <tr>\n",
       "      <th>2133</th>\n",
       "      <td>2020_Q2</td>\n",
       "      <td>346.0</td>\n",
       "    </tr>\n",
       "  </tbody>\n",
       "</table>\n",
       "<p>2134 rows × 2 columns</p>\n",
       "</div>"
      ],
      "text/plain": [
       "       period      GDP\n",
       "0     2015_Q1  31917.8\n",
       "1     2015_Q2  32266.2\n",
       "2     2015_Q3  32406.6\n",
       "3     2015_Q4  32298.7\n",
       "4     2016_Q1  32303.8\n",
       "...       ...      ...\n",
       "2129  2019_Q2    371.4\n",
       "2130  2019_Q3    373.5\n",
       "2131  2019_Q4    375.1\n",
       "2132  2020_Q1    372.8\n",
       "2133  2020_Q2    346.0\n",
       "\n",
       "[2134 rows x 2 columns]"
      ]
     },
     "execution_count": 28,
     "metadata": {},
     "output_type": "execute_result"
    }
   ],
   "source": [
    "GDP_summary=GDP_data.loc[:, ['period','GDP']]\n",
    "GDP_summary"
   ]
  },
  {
   "cell_type": "code",
   "execution_count": 29,
   "id": "5c679a93",
   "metadata": {},
   "outputs": [
    {
     "data": {
      "text/plain": [
       "Index(['AT', 'AP', 'AH', 'AFDP', 'GTEP', 'TIT', 'TAT', 'TEY', 'CDP', 'CO',\n",
       "       'NOX'],\n",
       "      dtype='object')"
      ]
     },
     "execution_count": 29,
     "metadata": {},
     "output_type": "execute_result"
    }
   ],
   "source": [
    "gas_turbine_data = pd.read_csv('Chapter5-Datasets/gt_2015.csv')\n",
    "gas_turbine_data.columns"
   ]
  },
  {
   "cell_type": "code",
   "execution_count": 30,
   "id": "7f4f3cf8",
   "metadata": {},
   "outputs": [
    {
     "data": {
      "text/html": [
       "<div>\n",
       "<style scoped>\n",
       "    .dataframe tbody tr th:only-of-type {\n",
       "        vertical-align: middle;\n",
       "    }\n",
       "\n",
       "    .dataframe tbody tr th {\n",
       "        vertical-align: top;\n",
       "    }\n",
       "\n",
       "    .dataframe thead th {\n",
       "        text-align: right;\n",
       "    }\n",
       "</style>\n",
       "<table border=\"1\" class=\"dataframe\">\n",
       "  <thead>\n",
       "    <tr style=\"text-align: right;\">\n",
       "      <th></th>\n",
       "      <th>AT</th>\n",
       "      <th>AP</th>\n",
       "      <th>AH</th>\n",
       "      <th>AFDP</th>\n",
       "      <th>GTEP</th>\n",
       "      <th>TIT</th>\n",
       "      <th>TAT</th>\n",
       "      <th>TEY</th>\n",
       "      <th>CDP</th>\n",
       "    </tr>\n",
       "  </thead>\n",
       "  <tbody>\n",
       "    <tr>\n",
       "      <th>0</th>\n",
       "      <td>1.95320</td>\n",
       "      <td>1020.1</td>\n",
       "      <td>84.985</td>\n",
       "      <td>2.5304</td>\n",
       "      <td>20.116</td>\n",
       "      <td>1048.7</td>\n",
       "      <td>544.92</td>\n",
       "      <td>116.27</td>\n",
       "      <td>10.799</td>\n",
       "    </tr>\n",
       "    <tr>\n",
       "      <th>1</th>\n",
       "      <td>1.21910</td>\n",
       "      <td>1020.1</td>\n",
       "      <td>87.523</td>\n",
       "      <td>2.3937</td>\n",
       "      <td>18.584</td>\n",
       "      <td>1045.5</td>\n",
       "      <td>548.50</td>\n",
       "      <td>109.18</td>\n",
       "      <td>10.347</td>\n",
       "    </tr>\n",
       "    <tr>\n",
       "      <th>2</th>\n",
       "      <td>0.94915</td>\n",
       "      <td>1022.2</td>\n",
       "      <td>78.335</td>\n",
       "      <td>2.7789</td>\n",
       "      <td>22.264</td>\n",
       "      <td>1068.8</td>\n",
       "      <td>549.95</td>\n",
       "      <td>125.88</td>\n",
       "      <td>11.256</td>\n",
       "    </tr>\n",
       "    <tr>\n",
       "      <th>3</th>\n",
       "      <td>1.00750</td>\n",
       "      <td>1021.7</td>\n",
       "      <td>76.942</td>\n",
       "      <td>2.8170</td>\n",
       "      <td>23.358</td>\n",
       "      <td>1075.2</td>\n",
       "      <td>549.63</td>\n",
       "      <td>132.21</td>\n",
       "      <td>11.702</td>\n",
       "    </tr>\n",
       "    <tr>\n",
       "      <th>4</th>\n",
       "      <td>1.28580</td>\n",
       "      <td>1021.6</td>\n",
       "      <td>76.732</td>\n",
       "      <td>2.8377</td>\n",
       "      <td>23.483</td>\n",
       "      <td>1076.2</td>\n",
       "      <td>549.68</td>\n",
       "      <td>133.58</td>\n",
       "      <td>11.737</td>\n",
       "    </tr>\n",
       "  </tbody>\n",
       "</table>\n",
       "</div>"
      ],
      "text/plain": [
       "        AT      AP      AH    AFDP    GTEP     TIT     TAT     TEY     CDP\n",
       "0  1.95320  1020.1  84.985  2.5304  20.116  1048.7  544.92  116.27  10.799\n",
       "1  1.21910  1020.1  87.523  2.3937  18.584  1045.5  548.50  109.18  10.347\n",
       "2  0.94915  1022.2  78.335  2.7789  22.264  1068.8  549.95  125.88  11.256\n",
       "3  1.00750  1021.7  76.942  2.8170  23.358  1075.2  549.63  132.21  11.702\n",
       "4  1.28580  1021.6  76.732  2.8377  23.483  1076.2  549.68  133.58  11.737"
      ]
     },
     "execution_count": 30,
     "metadata": {},
     "output_type": "execute_result"
    }
   ],
   "source": [
    "non_emissions_turbine_data = gas_turbine_data.loc[:,'AT':'CDP']\n",
    "non_emissions_turbine_data.head()"
   ]
  },
  {
   "cell_type": "markdown",
   "id": "9298075e",
   "metadata": {},
   "source": [
    "### Boolean indexing"
   ]
  },
  {
   "cell_type": "code",
   "execution_count": 31,
   "id": "9fe0a628",
   "metadata": {},
   "outputs": [
    {
     "data": {
      "text/html": [
       "<div>\n",
       "<style scoped>\n",
       "    .dataframe tbody tr th:only-of-type {\n",
       "        vertical-align: middle;\n",
       "    }\n",
       "\n",
       "    .dataframe tbody tr th {\n",
       "        vertical-align: top;\n",
       "    }\n",
       "\n",
       "    .dataframe thead th {\n",
       "        text-align: right;\n",
       "    }\n",
       "</style>\n",
       "<table border=\"1\" class=\"dataframe\">\n",
       "  <thead>\n",
       "    <tr style=\"text-align: right;\">\n",
       "      <th></th>\n",
       "      <th>CO</th>\n",
       "      <th>NOX</th>\n",
       "    </tr>\n",
       "  </thead>\n",
       "  <tbody>\n",
       "    <tr>\n",
       "      <th>0</th>\n",
       "      <td>7.4491</td>\n",
       "      <td>113.250</td>\n",
       "    </tr>\n",
       "    <tr>\n",
       "      <th>1</th>\n",
       "      <td>6.4684</td>\n",
       "      <td>112.020</td>\n",
       "    </tr>\n",
       "    <tr>\n",
       "      <th>2</th>\n",
       "      <td>3.6335</td>\n",
       "      <td>88.147</td>\n",
       "    </tr>\n",
       "    <tr>\n",
       "      <th>3</th>\n",
       "      <td>3.1972</td>\n",
       "      <td>87.078</td>\n",
       "    </tr>\n",
       "    <tr>\n",
       "      <th>4</th>\n",
       "      <td>2.3833</td>\n",
       "      <td>82.515</td>\n",
       "    </tr>\n",
       "    <tr>\n",
       "      <th>...</th>\n",
       "      <td>...</td>\n",
       "      <td>...</td>\n",
       "    </tr>\n",
       "    <tr>\n",
       "      <th>7379</th>\n",
       "      <td>10.9930</td>\n",
       "      <td>89.172</td>\n",
       "    </tr>\n",
       "    <tr>\n",
       "      <th>7380</th>\n",
       "      <td>11.1440</td>\n",
       "      <td>88.849</td>\n",
       "    </tr>\n",
       "    <tr>\n",
       "      <th>7381</th>\n",
       "      <td>11.4140</td>\n",
       "      <td>96.147</td>\n",
       "    </tr>\n",
       "    <tr>\n",
       "      <th>7382</th>\n",
       "      <td>3.3134</td>\n",
       "      <td>64.738</td>\n",
       "    </tr>\n",
       "    <tr>\n",
       "      <th>7383</th>\n",
       "      <td>11.9810</td>\n",
       "      <td>109.240</td>\n",
       "    </tr>\n",
       "  </tbody>\n",
       "</table>\n",
       "<p>7384 rows × 2 columns</p>\n",
       "</div>"
      ],
      "text/plain": [
       "           CO      NOX\n",
       "0      7.4491  113.250\n",
       "1      6.4684  112.020\n",
       "2      3.6335   88.147\n",
       "3      3.1972   87.078\n",
       "4      2.3833   82.515\n",
       "...       ...      ...\n",
       "7379  10.9930   89.172\n",
       "7380  11.1440   88.849\n",
       "7381  11.4140   96.147\n",
       "7382   3.3134   64.738\n",
       "7383  11.9810  109.240\n",
       "\n",
       "[7384 rows x 2 columns]"
      ]
     },
     "execution_count": 31,
     "metadata": {},
     "output_type": "execute_result"
    }
   ],
   "source": [
    "gas_turbine_data.loc[:, (gas_turbine_data.columns=='NOX') | (gas_turbine_data.columns=='CO')]"
   ]
  },
  {
   "cell_type": "markdown",
   "id": "501aa3ef",
   "metadata": {},
   "source": [
    "## Exercise 5.02 - subsetting rows and columns"
   ]
  },
  {
   "cell_type": "code",
   "execution_count": 32,
   "id": "03199b77",
   "metadata": {},
   "outputs": [],
   "source": [
    "gas_turbine_data = pd.read_csv('Chapter5-Datasets/gt_2015.csv')"
   ]
  },
  {
   "cell_type": "code",
   "execution_count": 33,
   "id": "71d70511",
   "metadata": {},
   "outputs": [
    {
     "name": "stdout",
     "output_type": "stream",
     "text": [
      "(7384, 11)\n",
      "Index(['AT', 'AP', 'AH', 'AFDP', 'GTEP', 'TIT', 'TAT', 'TEY', 'CDP', 'CO',\n",
      "       'NOX'],\n",
      "      dtype='object')\n"
     ]
    }
   ],
   "source": [
    "print(gas_turbine_data.shape)\n",
    "print(gas_turbine_data.columns)"
   ]
  },
  {
   "cell_type": "code",
   "execution_count": 34,
   "id": "7813e4ff",
   "metadata": {},
   "outputs": [
    {
     "name": "stdout",
     "output_type": "stream",
     "text": [
      "               CO         NOX\n",
      "count  100.000000  100.000000\n",
      "mean     3.774012   77.661970\n",
      "std      1.774795   13.708632\n",
      "min      0.475440   58.432000\n",
      "25%      2.656625   64.672000\n",
      "50%      3.501650   78.084000\n",
      "75%      4.078250   85.121250\n",
      "max     12.659000  118.270000\n",
      "                CO          NOX\n",
      "count  7384.000000  7384.000000\n",
      "mean      3.129986    59.890509\n",
      "std       2.234962    11.132464\n",
      "min       0.212800    25.905000\n",
      "25%       1.808175    52.399000\n",
      "50%       2.533400    56.838500\n",
      "75%       3.702550    65.093250\n",
      "max      41.097000   119.680000\n"
     ]
    }
   ],
   "source": [
    "print(gas_turbine_data.iloc[:100, :].loc[:,['CO','NOX']].describe())\n",
    "print(gas_turbine_data.loc[:,['CO','NOX']].describe())"
   ]
  },
  {
   "cell_type": "markdown",
   "id": "fdc2dea5",
   "metadata": {},
   "source": [
    "## Using labels as the index and the pandas multi-index"
   ]
  },
  {
   "cell_type": "code",
   "execution_count": 36,
   "id": "fd3bec9c",
   "metadata": {},
   "outputs": [],
   "source": [
    "species = pd.Series(['cat','dog','pig','chicken'])\n",
    "species = species.sample(100, replace = True, random_state=1).reset_index(drop=True)\n",
    "location = pd.Series(['city','town','farm'])\n",
    "location = location.sample(100, replace = True, random_state=2).reset_index(drop=True)\n",
    "weight = pd.Series(range(10,110)).reset_index(drop=True)\n",
    "fur = pd.Series(['long','short'])\n",
    "fur = fur.sample(100,replace = True, random_state = 3).reset_index(drop=True)\n",
    "color = pd.Series(['solid','spotted','striped'])\n",
    "color = color.sample(100, replace = True, random_state =42).reset_index(drop = True)\n",
    "animals = pd.DataFrame({'species':species, 'location':location, 'weight': weight, 'color': color, 'fur': fur})"
   ]
  },
  {
   "cell_type": "code",
   "execution_count": 38,
   "id": "902b69db",
   "metadata": {},
   "outputs": [
    {
     "data": {
      "text/html": [
       "<div>\n",
       "<style scoped>\n",
       "    .dataframe tbody tr th:only-of-type {\n",
       "        vertical-align: middle;\n",
       "    }\n",
       "\n",
       "    .dataframe tbody tr th {\n",
       "        vertical-align: top;\n",
       "    }\n",
       "\n",
       "    .dataframe thead tr th {\n",
       "        text-align: left;\n",
       "    }\n",
       "\n",
       "    .dataframe thead tr:last-of-type th {\n",
       "        text-align: right;\n",
       "    }\n",
       "</style>\n",
       "<table border=\"1\" class=\"dataframe\">\n",
       "  <thead>\n",
       "    <tr>\n",
       "      <th></th>\n",
       "      <th></th>\n",
       "      <th colspan=\"6\" halign=\"left\">weight</th>\n",
       "    </tr>\n",
       "    <tr>\n",
       "      <th></th>\n",
       "      <th>color</th>\n",
       "      <th colspan=\"2\" halign=\"left\">solid</th>\n",
       "      <th colspan=\"2\" halign=\"left\">spotted</th>\n",
       "      <th colspan=\"2\" halign=\"left\">striped</th>\n",
       "    </tr>\n",
       "    <tr>\n",
       "      <th></th>\n",
       "      <th>fur</th>\n",
       "      <th>long</th>\n",
       "      <th>short</th>\n",
       "      <th>long</th>\n",
       "      <th>short</th>\n",
       "      <th>long</th>\n",
       "      <th>short</th>\n",
       "    </tr>\n",
       "    <tr>\n",
       "      <th>location</th>\n",
       "      <th>species</th>\n",
       "      <th></th>\n",
       "      <th></th>\n",
       "      <th></th>\n",
       "      <th></th>\n",
       "      <th></th>\n",
       "      <th></th>\n",
       "    </tr>\n",
       "  </thead>\n",
       "  <tbody>\n",
       "    <tr>\n",
       "      <th rowspan=\"4\" valign=\"top\">city</th>\n",
       "      <th>cat</th>\n",
       "      <td>74.00</td>\n",
       "      <td>23.50</td>\n",
       "      <td>33.00</td>\n",
       "      <td>84.00</td>\n",
       "      <td>20.00</td>\n",
       "      <td>12.00</td>\n",
       "    </tr>\n",
       "    <tr>\n",
       "      <th>chicken</th>\n",
       "      <td>44.00</td>\n",
       "      <td>91.33</td>\n",
       "      <td>63.67</td>\n",
       "      <td></td>\n",
       "      <td>103.00</td>\n",
       "      <td>87.00</td>\n",
       "    </tr>\n",
       "    <tr>\n",
       "      <th>dog</th>\n",
       "      <td>15.00</td>\n",
       "      <td>44.00</td>\n",
       "      <td>64.00</td>\n",
       "      <td>75.00</td>\n",
       "      <td>39.00</td>\n",
       "      <td>51.00</td>\n",
       "    </tr>\n",
       "    <tr>\n",
       "      <th>pig</th>\n",
       "      <td></td>\n",
       "      <td>86.00</td>\n",
       "      <td>40.00</td>\n",
       "      <td></td>\n",
       "      <td>39.00</td>\n",
       "      <td></td>\n",
       "    </tr>\n",
       "    <tr>\n",
       "      <th rowspan=\"4\" valign=\"top\">farm</th>\n",
       "      <th>cat</th>\n",
       "      <td>49.00</td>\n",
       "      <td>85.00</td>\n",
       "      <td>85.00</td>\n",
       "      <td>82.00</td>\n",
       "      <td>69.00</td>\n",
       "      <td>24.33</td>\n",
       "    </tr>\n",
       "    <tr>\n",
       "      <th>chicken</th>\n",
       "      <td>59.00</td>\n",
       "      <td></td>\n",
       "      <td>81.00</td>\n",
       "      <td>43.00</td>\n",
       "      <td>16.00</td>\n",
       "      <td>75.67</td>\n",
       "    </tr>\n",
       "    <tr>\n",
       "      <th>dog</th>\n",
       "      <td>102.00</td>\n",
       "      <td>99.00</td>\n",
       "      <td>49.20</td>\n",
       "      <td>58.00</td>\n",
       "      <td>44.50</td>\n",
       "      <td></td>\n",
       "    </tr>\n",
       "    <tr>\n",
       "      <th>pig</th>\n",
       "      <td>30.00</td>\n",
       "      <td>36.00</td>\n",
       "      <td>65.00</td>\n",
       "      <td>54.50</td>\n",
       "      <td>47.00</td>\n",
       "      <td>49.00</td>\n",
       "    </tr>\n",
       "    <tr>\n",
       "      <th rowspan=\"4\" valign=\"top\">town</th>\n",
       "      <th>cat</th>\n",
       "      <td></td>\n",
       "      <td>108.00</td>\n",
       "      <td>60.50</td>\n",
       "      <td>64.75</td>\n",
       "      <td>37.00</td>\n",
       "      <td></td>\n",
       "    </tr>\n",
       "    <tr>\n",
       "      <th>chicken</th>\n",
       "      <td>52.50</td>\n",
       "      <td>81.00</td>\n",
       "      <td></td>\n",
       "      <td></td>\n",
       "      <td></td>\n",
       "      <td>44.25</td>\n",
       "    </tr>\n",
       "    <tr>\n",
       "      <th>dog</th>\n",
       "      <td>61.00</td>\n",
       "      <td>71.50</td>\n",
       "      <td></td>\n",
       "      <td>51.50</td>\n",
       "      <td>79.67</td>\n",
       "      <td>55.00</td>\n",
       "    </tr>\n",
       "    <tr>\n",
       "      <th>pig</th>\n",
       "      <td>101.00</td>\n",
       "      <td></td>\n",
       "      <td>95.00</td>\n",
       "      <td>60.50</td>\n",
       "      <td></td>\n",
       "      <td></td>\n",
       "    </tr>\n",
       "  </tbody>\n",
       "</table>\n",
       "</div>"
      ],
      "text/plain": [
       "                 weight                                   \n",
       "color             solid        spotted       striped      \n",
       "fur                long  short    long short    long short\n",
       "location species                                          \n",
       "city     cat      74.00  23.50   33.00 84.00   20.00 12.00\n",
       "         chicken  44.00  91.33   63.67        103.00 87.00\n",
       "         dog      15.00  44.00   64.00 75.00   39.00 51.00\n",
       "         pig             86.00   40.00         39.00      \n",
       "farm     cat      49.00  85.00   85.00 82.00   69.00 24.33\n",
       "         chicken  59.00          81.00 43.00   16.00 75.67\n",
       "         dog     102.00  99.00   49.20 58.00   44.50      \n",
       "         pig      30.00  36.00   65.00 54.50   47.00 49.00\n",
       "town     cat            108.00   60.50 64.75   37.00      \n",
       "         chicken  52.50  81.00                       44.25\n",
       "         dog      61.00  71.50         51.50   79.67 55.00\n",
       "         pig     101.00          95.00 60.50              "
      ]
     },
     "execution_count": 38,
     "metadata": {},
     "output_type": "execute_result"
    }
   ],
   "source": [
    "pd.options.display.float_format = '{:,.2f}'.format\n",
    "animals.sort_values(['location','species']).pivot_table(index = ['location','species'], columns = ['color','fur'], aggfunc = 'mean', fill_value='')"
   ]
  },
  {
   "cell_type": "code",
   "execution_count": 39,
   "id": "cd134d84",
   "metadata": {},
   "outputs": [
    {
     "data": {
      "text/html": [
       "<div>\n",
       "<style scoped>\n",
       "    .dataframe tbody tr th:only-of-type {\n",
       "        vertical-align: middle;\n",
       "    }\n",
       "\n",
       "    .dataframe tbody tr th {\n",
       "        vertical-align: top;\n",
       "    }\n",
       "\n",
       "    .dataframe thead th {\n",
       "        text-align: right;\n",
       "    }\n",
       "</style>\n",
       "<table border=\"1\" class=\"dataframe\">\n",
       "  <thead>\n",
       "    <tr style=\"text-align: right;\">\n",
       "      <th></th>\n",
       "      <th></th>\n",
       "      <th>GDP</th>\n",
       "    </tr>\n",
       "    <tr>\n",
       "      <th>period</th>\n",
       "      <th>Industry</th>\n",
       "      <th></th>\n",
       "    </tr>\n",
       "  </thead>\n",
       "  <tbody>\n",
       "    <tr>\n",
       "      <th rowspan=\"5\" valign=\"top\">2015_Q1</th>\n",
       "      <th>Accommodation</th>\n",
       "      <td>256.20</td>\n",
       "    </tr>\n",
       "    <tr>\n",
       "      <th>Accommodation and food services</th>\n",
       "      <td>973.60</td>\n",
       "    </tr>\n",
       "    <tr>\n",
       "      <th>Administrative and support services</th>\n",
       "      <td>795.70</td>\n",
       "    </tr>\n",
       "    <tr>\n",
       "      <th>Administrative and waste management services</th>\n",
       "      <td>883.00</td>\n",
       "    </tr>\n",
       "    <tr>\n",
       "      <th>Agriculture, forestry, fishing, and hunting</th>\n",
       "      <td>466.30</td>\n",
       "    </tr>\n",
       "    <tr>\n",
       "      <th>...</th>\n",
       "      <th>...</th>\n",
       "      <td>...</td>\n",
       "    </tr>\n",
       "    <tr>\n",
       "      <th rowspan=\"5\" valign=\"top\">2020_Q2</th>\n",
       "      <th>Warehousing and storage</th>\n",
       "      <td>135.10</td>\n",
       "    </tr>\n",
       "    <tr>\n",
       "      <th>Waste management and remediation services</th>\n",
       "      <td>100.60</td>\n",
       "    </tr>\n",
       "    <tr>\n",
       "      <th>Water transportation</th>\n",
       "      <td>32.00</td>\n",
       "    </tr>\n",
       "    <tr>\n",
       "      <th>Wholesale trade</th>\n",
       "      <td>1,810.90</td>\n",
       "    </tr>\n",
       "    <tr>\n",
       "      <th>Wood products</th>\n",
       "      <td>111.90</td>\n",
       "    </tr>\n",
       "  </tbody>\n",
       "</table>\n",
       "<p>2134 rows × 1 columns</p>\n",
       "</div>"
      ],
      "text/plain": [
       "                                                          GDP\n",
       "period  Industry                                             \n",
       "2015_Q1 Accommodation                                  256.20\n",
       "        Accommodation and food services                973.60\n",
       "        Administrative and support services            795.70\n",
       "        Administrative and waste management services   883.00\n",
       "        Agriculture, forestry, fishing, and hunting    466.30\n",
       "...                                                       ...\n",
       "2020_Q2 Warehousing and storage                        135.10\n",
       "        Waste management and remediation services      100.60\n",
       "        Water transportation                            32.00\n",
       "        Wholesale trade                              1,810.90\n",
       "        Wood products                                  111.90\n",
       "\n",
       "[2134 rows x 1 columns]"
      ]
     },
     "execution_count": 39,
     "metadata": {},
     "output_type": "execute_result"
    }
   ],
   "source": [
    "GDP_by_industry = pd.read_csv('Chapter5-Datasets/US_GDP_Industry.csv', index_col = [0,1]).sort_index(level = [0,1])\n",
    "GDP_by_industry"
   ]
  },
  {
   "cell_type": "code",
   "execution_count": 40,
   "id": "f9231044",
   "metadata": {},
   "outputs": [
    {
     "data": {
      "text/html": [
       "<div>\n",
       "<style scoped>\n",
       "    .dataframe tbody tr th:only-of-type {\n",
       "        vertical-align: middle;\n",
       "    }\n",
       "\n",
       "    .dataframe tbody tr th {\n",
       "        vertical-align: top;\n",
       "    }\n",
       "\n",
       "    .dataframe thead th {\n",
       "        text-align: right;\n",
       "    }\n",
       "</style>\n",
       "<table border=\"1\" class=\"dataframe\">\n",
       "  <thead>\n",
       "    <tr style=\"text-align: right;\">\n",
       "      <th></th>\n",
       "      <th></th>\n",
       "      <th>GDP</th>\n",
       "    </tr>\n",
       "    <tr>\n",
       "      <th>period</th>\n",
       "      <th>Industry</th>\n",
       "      <th></th>\n",
       "    </tr>\n",
       "  </thead>\n",
       "  <tbody>\n",
       "    <tr>\n",
       "      <th rowspan=\"4\" valign=\"top\">2017_Q2</th>\n",
       "      <th>Farms</th>\n",
       "      <td>399.70</td>\n",
       "    </tr>\n",
       "    <tr>\n",
       "      <th>Federal</th>\n",
       "      <td>1,124.60</td>\n",
       "    </tr>\n",
       "    <tr>\n",
       "      <th>Federal Reserve banks, credit intermediation, and related activities</th>\n",
       "      <td>926.50</td>\n",
       "    </tr>\n",
       "    <tr>\n",
       "      <th>Finance and insurance</th>\n",
       "      <td>2,827.10</td>\n",
       "    </tr>\n",
       "  </tbody>\n",
       "</table>\n",
       "</div>"
      ],
      "text/plain": [
       "                                                                GDP\n",
       "period  Industry                                                   \n",
       "2017_Q2 Farms                                                399.70\n",
       "        Federal                                            1,124.60\n",
       "        Federal Reserve banks, credit intermediation, a...   926.50\n",
       "        Finance and insurance                              2,827.10"
      ]
     },
     "execution_count": 40,
     "metadata": {},
     "output_type": "execute_result"
    }
   ],
   "source": [
    "GDP_by_industry.loc[('2017_Q2','Farms'):('2017_Q2','Finance and insurance')]"
   ]
  },
  {
   "cell_type": "code",
   "execution_count": 41,
   "id": "1f7795f0",
   "metadata": {},
   "outputs": [
    {
     "data": {
      "text/html": [
       "<div>\n",
       "<style scoped>\n",
       "    .dataframe tbody tr th:only-of-type {\n",
       "        vertical-align: middle;\n",
       "    }\n",
       "\n",
       "    .dataframe tbody tr th {\n",
       "        vertical-align: top;\n",
       "    }\n",
       "\n",
       "    .dataframe thead th {\n",
       "        text-align: right;\n",
       "    }\n",
       "</style>\n",
       "<table border=\"1\" class=\"dataframe\">\n",
       "  <thead>\n",
       "    <tr style=\"text-align: right;\">\n",
       "      <th></th>\n",
       "      <th>period</th>\n",
       "      <th>Industry</th>\n",
       "      <th>GDP</th>\n",
       "    </tr>\n",
       "  </thead>\n",
       "  <tbody>\n",
       "    <tr>\n",
       "      <th>75</th>\n",
       "      <td>2017_Q2</td>\n",
       "      <td>Farms</td>\n",
       "      <td>399.70</td>\n",
       "    </tr>\n",
       "    <tr>\n",
       "      <th>1197</th>\n",
       "      <td>2017_Q2</td>\n",
       "      <td>Finance and insurance</td>\n",
       "      <td>2,827.10</td>\n",
       "    </tr>\n",
       "    <tr>\n",
       "      <th>1219</th>\n",
       "      <td>2017_Q2</td>\n",
       "      <td>Federal Reserve banks, credit intermediation, ...</td>\n",
       "      <td>926.50</td>\n",
       "    </tr>\n",
       "    <tr>\n",
       "      <th>1967</th>\n",
       "      <td>2017_Q2</td>\n",
       "      <td>Federal</td>\n",
       "      <td>1,124.60</td>\n",
       "    </tr>\n",
       "  </tbody>\n",
       "</table>\n",
       "</div>"
      ],
      "text/plain": [
       "       period                                           Industry      GDP\n",
       "75    2017_Q2                                              Farms   399.70\n",
       "1197  2017_Q2                              Finance and insurance 2,827.10\n",
       "1219  2017_Q2  Federal Reserve banks, credit intermediation, ...   926.50\n",
       "1967  2017_Q2                                            Federal 1,124.60"
      ]
     },
     "execution_count": 41,
     "metadata": {},
     "output_type": "execute_result"
    }
   ],
   "source": [
    "GDP_by_industry = pd.read_csv('Chapter5-Datasets/US_GDP_Industry.csv')\n",
    "GDP_by_industry.loc[((GDP_by_industry['Industry']=='Farms')|(GDP_by_industry['Industry']=='Federal')| (GDP_by_industry['Industry']=='Federal Reserve banks, credit intermediation, and related activities')| (GDP_by_industry['Industry']=='Finance and insurance')) & (GDP_by_industry['period']=='2017_Q2'),:]"
   ]
  },
  {
   "cell_type": "code",
   "execution_count": 42,
   "id": "fa932efa",
   "metadata": {},
   "outputs": [
    {
     "data": {
      "text/html": [
       "<div>\n",
       "<style scoped>\n",
       "    .dataframe tbody tr th:only-of-type {\n",
       "        vertical-align: middle;\n",
       "    }\n",
       "\n",
       "    .dataframe tbody tr th {\n",
       "        vertical-align: top;\n",
       "    }\n",
       "\n",
       "    .dataframe thead th {\n",
       "        text-align: right;\n",
       "    }\n",
       "</style>\n",
       "<table border=\"1\" class=\"dataframe\">\n",
       "  <thead>\n",
       "    <tr style=\"text-align: right;\">\n",
       "      <th></th>\n",
       "      <th>period</th>\n",
       "      <th>Industry</th>\n",
       "      <th>GDP</th>\n",
       "    </tr>\n",
       "  </thead>\n",
       "  <tbody>\n",
       "    <tr>\n",
       "      <th>75</th>\n",
       "      <td>2017_Q2</td>\n",
       "      <td>Farms</td>\n",
       "      <td>399.70</td>\n",
       "    </tr>\n",
       "    <tr>\n",
       "      <th>1197</th>\n",
       "      <td>2017_Q2</td>\n",
       "      <td>Finance and insurance</td>\n",
       "      <td>2,827.10</td>\n",
       "    </tr>\n",
       "    <tr>\n",
       "      <th>1219</th>\n",
       "      <td>2017_Q2</td>\n",
       "      <td>Federal Reserve banks, credit intermediation, ...</td>\n",
       "      <td>926.50</td>\n",
       "    </tr>\n",
       "    <tr>\n",
       "      <th>1967</th>\n",
       "      <td>2017_Q2</td>\n",
       "      <td>Federal</td>\n",
       "      <td>1,124.60</td>\n",
       "    </tr>\n",
       "  </tbody>\n",
       "</table>\n",
       "</div>"
      ],
      "text/plain": [
       "       period                                           Industry      GDP\n",
       "75    2017_Q2                                              Farms   399.70\n",
       "1197  2017_Q2                              Finance and insurance 2,827.10\n",
       "1219  2017_Q2  Federal Reserve banks, credit intermediation, ...   926.50\n",
       "1967  2017_Q2                                            Federal 1,124.60"
      ]
     },
     "execution_count": 42,
     "metadata": {},
     "output_type": "execute_result"
    }
   ],
   "source": [
    "GDP_by_industry.iloc[[75,1197,1219,1967],:]"
   ]
  },
  {
   "cell_type": "markdown",
   "id": "2e39796e",
   "metadata": {},
   "source": [
    "## Creating a multi-index from columns"
   ]
  },
  {
   "cell_type": "code",
   "execution_count": 43,
   "id": "9da36142",
   "metadata": {},
   "outputs": [
    {
     "data": {
      "text/html": [
       "<div>\n",
       "<style scoped>\n",
       "    .dataframe tbody tr th:only-of-type {\n",
       "        vertical-align: middle;\n",
       "    }\n",
       "\n",
       "    .dataframe tbody tr th {\n",
       "        vertical-align: top;\n",
       "    }\n",
       "\n",
       "    .dataframe thead th {\n",
       "        text-align: right;\n",
       "    }\n",
       "</style>\n",
       "<table border=\"1\" class=\"dataframe\">\n",
       "  <thead>\n",
       "    <tr style=\"text-align: right;\">\n",
       "      <th></th>\n",
       "      <th>period</th>\n",
       "      <th>Industry</th>\n",
       "      <th>GDP</th>\n",
       "    </tr>\n",
       "  </thead>\n",
       "  <tbody>\n",
       "    <tr>\n",
       "      <th>0</th>\n",
       "      <td>2015_Q1</td>\n",
       "      <td>All industries</td>\n",
       "      <td>31,917.80</td>\n",
       "    </tr>\n",
       "    <tr>\n",
       "      <th>1</th>\n",
       "      <td>2015_Q2</td>\n",
       "      <td>All industries</td>\n",
       "      <td>32,266.20</td>\n",
       "    </tr>\n",
       "    <tr>\n",
       "      <th>2</th>\n",
       "      <td>2015_Q3</td>\n",
       "      <td>All industries</td>\n",
       "      <td>32,406.60</td>\n",
       "    </tr>\n",
       "    <tr>\n",
       "      <th>3</th>\n",
       "      <td>2015_Q4</td>\n",
       "      <td>All industries</td>\n",
       "      <td>32,298.70</td>\n",
       "    </tr>\n",
       "    <tr>\n",
       "      <th>4</th>\n",
       "      <td>2016_Q1</td>\n",
       "      <td>All industries</td>\n",
       "      <td>32,303.80</td>\n",
       "    </tr>\n",
       "  </tbody>\n",
       "</table>\n",
       "</div>"
      ],
      "text/plain": [
       "    period        Industry       GDP\n",
       "0  2015_Q1  All industries 31,917.80\n",
       "1  2015_Q2  All industries 32,266.20\n",
       "2  2015_Q3  All industries 32,406.60\n",
       "3  2015_Q4  All industries 32,298.70\n",
       "4  2016_Q1  All industries 32,303.80"
      ]
     },
     "execution_count": 43,
     "metadata": {},
     "output_type": "execute_result"
    }
   ],
   "source": [
    "GDP_by_industry = pd.read_csv('Chapter5-Datasets/US_GDP_industry.csv')\n",
    "GDP_by_industry.head()"
   ]
  },
  {
   "cell_type": "code",
   "execution_count": 44,
   "id": "a80171ef",
   "metadata": {},
   "outputs": [
    {
     "data": {
      "text/plain": [
       "MultiIndex([('2015_Q1',         'All industries'),\n",
       "            ('2015_Q2',         'All industries'),\n",
       "            ('2015_Q3',         'All industries'),\n",
       "            ('2015_Q4',         'All industries'),\n",
       "            ('2016_Q1',         'All industries'),\n",
       "            ('2016_Q2',         'All industries'),\n",
       "            ('2016_Q3',         'All industries'),\n",
       "            ('2016_Q4',         'All industries'),\n",
       "            ('2017_Q1',         'All industries'),\n",
       "            ('2017_Q2',         'All industries'),\n",
       "            ...\n",
       "            ('2018_Q1', 'Government enterprises'),\n",
       "            ('2018_Q2', 'Government enterprises'),\n",
       "            ('2018_Q3', 'Government enterprises'),\n",
       "            ('2018_Q4', 'Government enterprises'),\n",
       "            ('2019_Q1', 'Government enterprises'),\n",
       "            ('2019_Q2', 'Government enterprises'),\n",
       "            ('2019_Q3', 'Government enterprises'),\n",
       "            ('2019_Q4', 'Government enterprises'),\n",
       "            ('2020_Q1', 'Government enterprises'),\n",
       "            ('2020_Q2', 'Government enterprises')],\n",
       "           names=['period', 'Industry'], length=2134)"
      ]
     },
     "execution_count": 44,
     "metadata": {},
     "output_type": "execute_result"
    }
   ],
   "source": [
    "GDP_index = pd.MultiIndex.from_frame(GDP_by_industry[['period','Industry']])\n",
    "GDP_index"
   ]
  },
  {
   "cell_type": "code",
   "execution_count": 45,
   "id": "bedec698",
   "metadata": {},
   "outputs": [
    {
     "data": {
      "text/html": [
       "<div>\n",
       "<style scoped>\n",
       "    .dataframe tbody tr th:only-of-type {\n",
       "        vertical-align: middle;\n",
       "    }\n",
       "\n",
       "    .dataframe tbody tr th {\n",
       "        vertical-align: top;\n",
       "    }\n",
       "\n",
       "    .dataframe thead th {\n",
       "        text-align: right;\n",
       "    }\n",
       "</style>\n",
       "<table border=\"1\" class=\"dataframe\">\n",
       "  <thead>\n",
       "    <tr style=\"text-align: right;\">\n",
       "      <th></th>\n",
       "      <th></th>\n",
       "      <th>GDP</th>\n",
       "    </tr>\n",
       "    <tr>\n",
       "      <th>period</th>\n",
       "      <th>Industry</th>\n",
       "      <th></th>\n",
       "    </tr>\n",
       "  </thead>\n",
       "  <tbody>\n",
       "    <tr>\n",
       "      <th>2015_Q1</th>\n",
       "      <th>All industries</th>\n",
       "      <td>31,917.80</td>\n",
       "    </tr>\n",
       "    <tr>\n",
       "      <th>2015_Q2</th>\n",
       "      <th>All industries</th>\n",
       "      <td>32,266.20</td>\n",
       "    </tr>\n",
       "    <tr>\n",
       "      <th>2015_Q3</th>\n",
       "      <th>All industries</th>\n",
       "      <td>32,406.60</td>\n",
       "    </tr>\n",
       "    <tr>\n",
       "      <th>2015_Q4</th>\n",
       "      <th>All industries</th>\n",
       "      <td>32,298.70</td>\n",
       "    </tr>\n",
       "    <tr>\n",
       "      <th>2016_Q1</th>\n",
       "      <th>All industries</th>\n",
       "      <td>32,303.80</td>\n",
       "    </tr>\n",
       "    <tr>\n",
       "      <th>...</th>\n",
       "      <th>...</th>\n",
       "      <td>...</td>\n",
       "    </tr>\n",
       "    <tr>\n",
       "      <th>2019_Q2</th>\n",
       "      <th>Government enterprises</th>\n",
       "      <td>371.40</td>\n",
       "    </tr>\n",
       "    <tr>\n",
       "      <th>2019_Q3</th>\n",
       "      <th>Government enterprises</th>\n",
       "      <td>373.50</td>\n",
       "    </tr>\n",
       "    <tr>\n",
       "      <th>2019_Q4</th>\n",
       "      <th>Government enterprises</th>\n",
       "      <td>375.10</td>\n",
       "    </tr>\n",
       "    <tr>\n",
       "      <th>2020_Q1</th>\n",
       "      <th>Government enterprises</th>\n",
       "      <td>372.80</td>\n",
       "    </tr>\n",
       "    <tr>\n",
       "      <th>2020_Q2</th>\n",
       "      <th>Government enterprises</th>\n",
       "      <td>346.00</td>\n",
       "    </tr>\n",
       "  </tbody>\n",
       "</table>\n",
       "<p>2134 rows × 1 columns</p>\n",
       "</div>"
      ],
      "text/plain": [
       "                                     GDP\n",
       "period  Industry                        \n",
       "2015_Q1 All industries         31,917.80\n",
       "2015_Q2 All industries         32,266.20\n",
       "2015_Q3 All industries         32,406.60\n",
       "2015_Q4 All industries         32,298.70\n",
       "2016_Q1 All industries         32,303.80\n",
       "...                                  ...\n",
       "2019_Q2 Government enterprises    371.40\n",
       "2019_Q3 Government enterprises    373.50\n",
       "2019_Q4 Government enterprises    375.10\n",
       "2020_Q1 Government enterprises    372.80\n",
       "2020_Q2 Government enterprises    346.00\n",
       "\n",
       "[2134 rows x 1 columns]"
      ]
     },
     "execution_count": 45,
     "metadata": {},
     "output_type": "execute_result"
    }
   ],
   "source": [
    "GDP_by_industry.drop(columns = ['period','Industry'],inplace=True)\n",
    "GDP_by_industry.set_index(GDP_index, drop=True, inplace=True)\n",
    "GDP_by_industry"
   ]
  },
  {
   "cell_type": "code",
   "execution_count": 46,
   "id": "cadd46a3",
   "metadata": {},
   "outputs": [
    {
     "data": {
      "text/html": [
       "<div>\n",
       "<style scoped>\n",
       "    .dataframe tbody tr th:only-of-type {\n",
       "        vertical-align: middle;\n",
       "    }\n",
       "\n",
       "    .dataframe tbody tr th {\n",
       "        vertical-align: top;\n",
       "    }\n",
       "\n",
       "    .dataframe thead th {\n",
       "        text-align: right;\n",
       "    }\n",
       "</style>\n",
       "<table border=\"1\" class=\"dataframe\">\n",
       "  <thead>\n",
       "    <tr style=\"text-align: right;\">\n",
       "      <th></th>\n",
       "      <th></th>\n",
       "      <th>GDP</th>\n",
       "    </tr>\n",
       "    <tr>\n",
       "      <th>period</th>\n",
       "      <th>Industry</th>\n",
       "      <th></th>\n",
       "    </tr>\n",
       "  </thead>\n",
       "  <tbody>\n",
       "    <tr>\n",
       "      <th rowspan=\"5\" valign=\"top\">2015_Q1</th>\n",
       "      <th>Accommodation</th>\n",
       "      <td>256.20</td>\n",
       "    </tr>\n",
       "    <tr>\n",
       "      <th>Accommodation and food services</th>\n",
       "      <td>973.60</td>\n",
       "    </tr>\n",
       "    <tr>\n",
       "      <th>Administrative and support services</th>\n",
       "      <td>795.70</td>\n",
       "    </tr>\n",
       "    <tr>\n",
       "      <th>Administrative and waste management services</th>\n",
       "      <td>883.00</td>\n",
       "    </tr>\n",
       "    <tr>\n",
       "      <th>Agriculture, forestry, fishing, and hunting</th>\n",
       "      <td>466.30</td>\n",
       "    </tr>\n",
       "    <tr>\n",
       "      <th>...</th>\n",
       "      <th>...</th>\n",
       "      <td>...</td>\n",
       "    </tr>\n",
       "    <tr>\n",
       "      <th rowspan=\"5\" valign=\"top\">2020_Q2</th>\n",
       "      <th>Warehousing and storage</th>\n",
       "      <td>135.10</td>\n",
       "    </tr>\n",
       "    <tr>\n",
       "      <th>Waste management and remediation services</th>\n",
       "      <td>100.60</td>\n",
       "    </tr>\n",
       "    <tr>\n",
       "      <th>Water transportation</th>\n",
       "      <td>32.00</td>\n",
       "    </tr>\n",
       "    <tr>\n",
       "      <th>Wholesale trade</th>\n",
       "      <td>1,810.90</td>\n",
       "    </tr>\n",
       "    <tr>\n",
       "      <th>Wood products</th>\n",
       "      <td>111.90</td>\n",
       "    </tr>\n",
       "  </tbody>\n",
       "</table>\n",
       "<p>2134 rows × 1 columns</p>\n",
       "</div>"
      ],
      "text/plain": [
       "                                                          GDP\n",
       "period  Industry                                             \n",
       "2015_Q1 Accommodation                                  256.20\n",
       "        Accommodation and food services                973.60\n",
       "        Administrative and support services            795.70\n",
       "        Administrative and waste management services   883.00\n",
       "        Agriculture, forestry, fishing, and hunting    466.30\n",
       "...                                                       ...\n",
       "2020_Q2 Warehousing and storage                        135.10\n",
       "        Waste management and remediation services      100.60\n",
       "        Water transportation                            32.00\n",
       "        Wholesale trade                              1,810.90\n",
       "        Wood products                                  111.90\n",
       "\n",
       "[2134 rows x 1 columns]"
      ]
     },
     "execution_count": 46,
     "metadata": {},
     "output_type": "execute_result"
    }
   ],
   "source": [
    "GDP_by_industry.sort_values(by = ['period', 'Industry'], inplace=True)\n",
    "GDP_by_industry"
   ]
  },
  {
   "cell_type": "code",
   "execution_count": null,
   "id": "8ea2c135",
   "metadata": {},
   "outputs": [],
   "source": []
  }
 ],
 "metadata": {
  "kernelspec": {
   "display_name": "Python 3 (ipykernel)",
   "language": "python",
   "name": "python3"
  },
  "language_info": {
   "codemirror_mode": {
    "name": "ipython",
    "version": 3
   },
   "file_extension": ".py",
   "mimetype": "text/x-python",
   "name": "python",
   "nbconvert_exporter": "python",
   "pygments_lexer": "ipython3",
   "version": "3.9.13"
  }
 },
 "nbformat": 4,
 "nbformat_minor": 5
}
