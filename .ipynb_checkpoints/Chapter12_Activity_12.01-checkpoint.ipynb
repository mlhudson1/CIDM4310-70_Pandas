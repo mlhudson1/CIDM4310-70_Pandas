{
 "cells": [
  {
   "cell_type": "markdown",
   "id": "cf7a7979",
   "metadata": {},
   "source": [
    "# Activity 12.01 - Understanding power usage"
   ]
  },
  {
   "cell_type": "markdown",
   "id": "d983755b",
   "metadata": {},
   "source": [
    "In this activity, as a data analyst involved in an energy conservation study, you are provided with data collected from a home in France over several years, which includes frequent measurements of total power usage as well as submeters that isolate the kitchen, laundry room, and some heating and air conditioning use. You have been asked to look at kitchen energy use and understand the time of day trends."
   ]
  },
  {
   "cell_type": "markdown",
   "id": "0ee951ef",
   "metadata": {},
   "source": [
    "1. For this activity, all you will need is the pandas and numpy libraries. Load them in the first cell of the notebook:"
   ]
  },
  {
   "cell_type": "code",
   "execution_count": 1,
   "id": "f2bd45d9",
   "metadata": {},
   "outputs": [],
   "source": [
    "import pandas as pd\n",
    "import numpy as np"
   ]
  },
  {
   "cell_type": "markdown",
   "id": "d54098fd",
   "metadata": {},
   "source": [
    "2. Read in the household_power_consumption.csv data from the Datasets directory, and list the first few rows."
   ]
  },
  {
   "cell_type": "code",
   "execution_count": 2,
   "id": "cc8e10f7",
   "metadata": {},
   "outputs": [
    {
     "data": {
      "text/html": [
       "<div>\n",
       "<style scoped>\n",
       "    .dataframe tbody tr th:only-of-type {\n",
       "        vertical-align: middle;\n",
       "    }\n",
       "\n",
       "    .dataframe tbody tr th {\n",
       "        vertical-align: top;\n",
       "    }\n",
       "\n",
       "    .dataframe thead th {\n",
       "        text-align: right;\n",
       "    }\n",
       "</style>\n",
       "<table border=\"1\" class=\"dataframe\">\n",
       "  <thead>\n",
       "    <tr style=\"text-align: right;\">\n",
       "      <th></th>\n",
       "      <th>Date</th>\n",
       "      <th>Time</th>\n",
       "      <th>Global_active_power</th>\n",
       "      <th>Global_reactive_power</th>\n",
       "      <th>Voltage</th>\n",
       "      <th>Global_intensity</th>\n",
       "      <th>Sub_metering_1</th>\n",
       "      <th>Sub_metering_2</th>\n",
       "      <th>Sub_metering_3</th>\n",
       "    </tr>\n",
       "  </thead>\n",
       "  <tbody>\n",
       "    <tr>\n",
       "      <th>0</th>\n",
       "      <td>1/8/2008</td>\n",
       "      <td>00:00:00</td>\n",
       "      <td>0.500</td>\n",
       "      <td>0.226</td>\n",
       "      <td>239.750</td>\n",
       "      <td>2.400</td>\n",
       "      <td>0.000</td>\n",
       "      <td>0.000</td>\n",
       "      <td>1.0</td>\n",
       "    </tr>\n",
       "    <tr>\n",
       "      <th>1</th>\n",
       "      <td>1/8/2008</td>\n",
       "      <td>00:01:00</td>\n",
       "      <td>0.482</td>\n",
       "      <td>0.224</td>\n",
       "      <td>240.340</td>\n",
       "      <td>2.200</td>\n",
       "      <td>0.000</td>\n",
       "      <td>0.000</td>\n",
       "      <td>1.0</td>\n",
       "    </tr>\n",
       "    <tr>\n",
       "      <th>2</th>\n",
       "      <td>1/8/2008</td>\n",
       "      <td>00:02:00</td>\n",
       "      <td>0.502</td>\n",
       "      <td>0.234</td>\n",
       "      <td>241.680</td>\n",
       "      <td>2.400</td>\n",
       "      <td>0.000</td>\n",
       "      <td>0.000</td>\n",
       "      <td>0.0</td>\n",
       "    </tr>\n",
       "    <tr>\n",
       "      <th>3</th>\n",
       "      <td>1/8/2008</td>\n",
       "      <td>00:03:00</td>\n",
       "      <td>0.556</td>\n",
       "      <td>0.228</td>\n",
       "      <td>241.750</td>\n",
       "      <td>2.600</td>\n",
       "      <td>0.000</td>\n",
       "      <td>0.000</td>\n",
       "      <td>1.0</td>\n",
       "    </tr>\n",
       "    <tr>\n",
       "      <th>4</th>\n",
       "      <td>1/8/2008</td>\n",
       "      <td>00:04:00</td>\n",
       "      <td>0.854</td>\n",
       "      <td>0.342</td>\n",
       "      <td>241.550</td>\n",
       "      <td>4.000</td>\n",
       "      <td>0.000</td>\n",
       "      <td>1.000</td>\n",
       "      <td>7.0</td>\n",
       "    </tr>\n",
       "  </tbody>\n",
       "</table>\n",
       "</div>"
      ],
      "text/plain": [
       "       Date      Time Global_active_power Global_reactive_power  Voltage  \\\n",
       "0  1/8/2008  00:00:00               0.500                 0.226  239.750   \n",
       "1  1/8/2008  00:01:00               0.482                 0.224  240.340   \n",
       "2  1/8/2008  00:02:00               0.502                 0.234  241.680   \n",
       "3  1/8/2008  00:03:00               0.556                 0.228  241.750   \n",
       "4  1/8/2008  00:04:00               0.854                 0.342  241.550   \n",
       "\n",
       "  Global_intensity Sub_metering_1 Sub_metering_2  Sub_metering_3  \n",
       "0            2.400          0.000          0.000             1.0  \n",
       "1            2.200          0.000          0.000             1.0  \n",
       "2            2.400          0.000          0.000             0.0  \n",
       "3            2.600          0.000          0.000             1.0  \n",
       "4            4.000          0.000          1.000             7.0  "
      ]
     },
     "execution_count": 2,
     "metadata": {},
     "output_type": "execute_result"
    }
   ],
   "source": [
    "df=pd.read_csv('Chapter12-Datasets/household_power_consumption.csv',sep=';',low_memory=False)\n",
    "df.head()"
   ]
  },
  {
   "cell_type": "markdown",
   "id": "f88ac046",
   "metadata": {},
   "source": [
    "3. You should inspect the data types of the columns, and the further investigate whether there are non-numeric values. If so, correct them by converting to NA values and then filling them by interpolation."
   ]
  },
  {
   "cell_type": "code",
   "execution_count": 3,
   "id": "edeee2e2",
   "metadata": {},
   "outputs": [
    {
     "data": {
      "text/plain": [
       "Date                      object\n",
       "Time                      object\n",
       "Global_active_power       object\n",
       "Global_reactive_power     object\n",
       "Voltage                   object\n",
       "Global_intensity          object\n",
       "Sub_metering_1            object\n",
       "Sub_metering_2            object\n",
       "Sub_metering_3           float64\n",
       "dtype: object"
      ]
     },
     "execution_count": 3,
     "metadata": {},
     "output_type": "execute_result"
    }
   ],
   "source": [
    "df.dtypes"
   ]
  },
  {
   "cell_type": "markdown",
   "id": "b1f14d66",
   "metadata": {},
   "source": [
    "4. Make a quick visualization to understand the timeframe of the data. Your plan is to identify a year with complete data and focus on that:"
   ]
  },
  {
   "cell_type": "code",
   "execution_count": 4,
   "id": "dcb078ed",
   "metadata": {},
   "outputs": [
    {
     "name": "stdout",
     "output_type": "stream",
     "text": [
      "information for column Date:\n",
      " count      1049760\n",
      "unique         729\n",
      "top       1/8/2008\n",
      "freq          1440\n",
      "Name: Date, dtype: object\n",
      "information for column Time:\n",
      " count      1049760\n",
      "unique        1440\n",
      "top       00:00:00\n",
      "freq           729\n",
      "Name: Time, dtype: object\n",
      "information for column Global_active_power:\n",
      " count     1049760\n",
      "unique       3852\n",
      "top             ?\n",
      "freq         9570\n",
      "Name: Global_active_power, dtype: object\n",
      "information for column Global_reactive_power:\n",
      " count     1049760\n",
      "unique        510\n",
      "top         0.000\n",
      "freq       230359\n",
      "Name: Global_reactive_power, dtype: object\n",
      "information for column Voltage:\n",
      " count     1049760\n",
      "unique       2738\n",
      "top             ?\n",
      "freq         9570\n",
      "Name: Voltage, dtype: object\n",
      "information for column Global_intensity:\n",
      " count     1049760\n",
      "unique        207\n",
      "top         1.400\n",
      "freq        81879\n",
      "Name: Global_intensity, dtype: object\n",
      "information for column Sub_metering_1:\n",
      " count     1049760\n",
      "unique         89\n",
      "top         0.000\n",
      "freq       955562\n",
      "Name: Sub_metering_1, dtype: object\n",
      "information for column Sub_metering_2:\n",
      " count     1049760\n",
      "unique         82\n",
      "top         0.000\n",
      "freq       738513\n",
      "Name: Sub_metering_2, dtype: object\n",
      "information for column Sub_metering_3:\n",
      " count    1.040190e+06\n",
      "mean     6.838058e+00\n",
      "std      8.569015e+00\n",
      "min      0.000000e+00\n",
      "25%      0.000000e+00\n",
      "50%      1.000000e+00\n",
      "75%      1.800000e+01\n",
      "max      3.100000e+01\n",
      "Name: Sub_metering_3, dtype: float64\n"
     ]
    }
   ],
   "source": [
    "for col in df.columns:\n",
    "    print('information for column '+\n",
    "         col +\n",
    "          ':\\n',\n",
    "          df[col].describe()\n",
    "         )"
   ]
  },
  {
   "cell_type": "markdown",
   "id": "966cb99f",
   "metadata": {},
   "source": [
    "5. Using the year you identified, create a new DataFrame having Date, Time and Kitchen_power_use. Not that Sub_metering_1 is the kitchen:"
   ]
  },
  {
   "cell_type": "code",
   "execution_count": 5,
   "id": "ab74840f",
   "metadata": {},
   "outputs": [],
   "source": [
    "df.replace('?',np.nan, inplace=True)\n",
    "df.interpolate(inplace=True)\n",
    "for col in df.columns[2:]:\n",
    "    df[col]=df[col].astype(float)"
   ]
  },
  {
   "cell_type": "code",
   "execution_count": 6,
   "id": "a6bc2b0e",
   "metadata": {},
   "outputs": [
    {
     "data": {
      "text/plain": [
       "Date                      object\n",
       "Time                      object\n",
       "Global_active_power      float64\n",
       "Global_reactive_power    float64\n",
       "Voltage                  float64\n",
       "Global_intensity         float64\n",
       "Sub_metering_1           float64\n",
       "Sub_metering_2           float64\n",
       "Sub_metering_3           float64\n",
       "dtype: object"
      ]
     },
     "execution_count": 6,
     "metadata": {},
     "output_type": "execute_result"
    }
   ],
   "source": [
    "df.dtypes"
   ]
  },
  {
   "cell_type": "markdown",
   "id": "20f2f0b5",
   "metadata": {},
   "source": [
    "6. Date and Time are substrings; combine them on each row, then convert the combined string to a datetime, and store that in a new column called timestamp. Keep in mind the European format of the original date strings."
   ]
  },
  {
   "cell_type": "code",
   "execution_count": 7,
   "id": "2448e123",
   "metadata": {},
   "outputs": [
    {
     "data": {
      "text/plain": [
       "<AxesSubplot:xlabel='Date'>"
      ]
     },
     "execution_count": 7,
     "metadata": {},
     "output_type": "execute_result"
    },
    {
     "data": {
      "image/png": "[encoded data removed]",
      "text/plain": [
       "<Figure size 640x480 with 1 Axes>"
      ]
     },
     "metadata": {},
     "output_type": "display_data"
    }
   ],
   "source": [
    "(df[['Date','Sub_metering_1']].plot(x='Date', y='Sub_metering_1'))"
   ]
  },
  {
   "cell_type": "markdown",
   "id": "2416a9be",
   "metadata": {},
   "source": [
    "7. Create an hour and date column using methods on the timestamp column to represent the hour of the day and the date in a standard format:"
   ]
  },
  {
   "cell_type": "code",
   "execution_count": 8,
   "id": "2693f57d",
   "metadata": {},
   "outputs": [
    {
     "data": {
      "text/html": [
       "<div>\n",
       "<style scoped>\n",
       "    .dataframe tbody tr th:only-of-type {\n",
       "        vertical-align: middle;\n",
       "    }\n",
       "\n",
       "    .dataframe tbody tr th {\n",
       "        vertical-align: top;\n",
       "    }\n",
       "\n",
       "    .dataframe thead th {\n",
       "        text-align: right;\n",
       "    }\n",
       "</style>\n",
       "<table border=\"1\" class=\"dataframe\">\n",
       "  <thead>\n",
       "    <tr style=\"text-align: right;\">\n",
       "      <th></th>\n",
       "      <th>Date</th>\n",
       "      <th>Time</th>\n",
       "      <th>Kitchen_power_use</th>\n",
       "    </tr>\n",
       "  </thead>\n",
       "  <tbody>\n",
       "    <tr>\n",
       "      <th>220320</th>\n",
       "      <td>1/1/2009</td>\n",
       "      <td>00:00:00</td>\n",
       "      <td>0.0</td>\n",
       "    </tr>\n",
       "    <tr>\n",
       "      <th>220321</th>\n",
       "      <td>1/1/2009</td>\n",
       "      <td>00:01:00</td>\n",
       "      <td>0.0</td>\n",
       "    </tr>\n",
       "    <tr>\n",
       "      <th>220322</th>\n",
       "      <td>1/1/2009</td>\n",
       "      <td>00:02:00</td>\n",
       "      <td>0.0</td>\n",
       "    </tr>\n",
       "    <tr>\n",
       "      <th>220323</th>\n",
       "      <td>1/1/2009</td>\n",
       "      <td>00:03:00</td>\n",
       "      <td>0.0</td>\n",
       "    </tr>\n",
       "    <tr>\n",
       "      <th>220324</th>\n",
       "      <td>1/1/2009</td>\n",
       "      <td>00:04:00</td>\n",
       "      <td>0.0</td>\n",
       "    </tr>\n",
       "  </tbody>\n",
       "</table>\n",
       "</div>"
      ],
      "text/plain": [
       "            Date      Time  Kitchen_power_use\n",
       "220320  1/1/2009  00:00:00                0.0\n",
       "220321  1/1/2009  00:01:00                0.0\n",
       "220322  1/1/2009  00:02:00                0.0\n",
       "220323  1/1/2009  00:03:00                0.0\n",
       "220324  1/1/2009  00:04:00                0.0"
      ]
     },
     "execution_count": 8,
     "metadata": {},
     "output_type": "execute_result"
    }
   ],
   "source": [
    "kitchen=df[['Date','Time','Sub_metering_1']]\n",
    "kitchen = kitchen.loc[kitchen['Date'].str.contains('2009'),:]\n",
    "kitchen.columns=['Date','Time','Kitchen_power_use']\n",
    "kitchen.head()"
   ]
  },
  {
   "cell_type": "code",
   "execution_count": 9,
   "id": "9e31fcdc",
   "metadata": {},
   "outputs": [
    {
     "data": {
      "text/html": [
       "<div>\n",
       "<style scoped>\n",
       "    .dataframe tbody tr th:only-of-type {\n",
       "        vertical-align: middle;\n",
       "    }\n",
       "\n",
       "    .dataframe tbody tr th {\n",
       "        vertical-align: top;\n",
       "    }\n",
       "\n",
       "    .dataframe thead th {\n",
       "        text-align: right;\n",
       "    }\n",
       "</style>\n",
       "<table border=\"1\" class=\"dataframe\">\n",
       "  <thead>\n",
       "    <tr style=\"text-align: right;\">\n",
       "      <th></th>\n",
       "      <th>Date</th>\n",
       "      <th>Time</th>\n",
       "      <th>Kitchen_power_use</th>\n",
       "      <th>timestamp</th>\n",
       "    </tr>\n",
       "  </thead>\n",
       "  <tbody>\n",
       "    <tr>\n",
       "      <th>220320</th>\n",
       "      <td>1/1/2009</td>\n",
       "      <td>00:00:00</td>\n",
       "      <td>0.0</td>\n",
       "      <td>2009-01-01 00:00:00</td>\n",
       "    </tr>\n",
       "    <tr>\n",
       "      <th>220321</th>\n",
       "      <td>1/1/2009</td>\n",
       "      <td>00:01:00</td>\n",
       "      <td>0.0</td>\n",
       "      <td>2009-01-01 00:01:00</td>\n",
       "    </tr>\n",
       "    <tr>\n",
       "      <th>220322</th>\n",
       "      <td>1/1/2009</td>\n",
       "      <td>00:02:00</td>\n",
       "      <td>0.0</td>\n",
       "      <td>2009-01-01 00:02:00</td>\n",
       "    </tr>\n",
       "    <tr>\n",
       "      <th>220323</th>\n",
       "      <td>1/1/2009</td>\n",
       "      <td>00:03:00</td>\n",
       "      <td>0.0</td>\n",
       "      <td>2009-01-01 00:03:00</td>\n",
       "    </tr>\n",
       "    <tr>\n",
       "      <th>220324</th>\n",
       "      <td>1/1/2009</td>\n",
       "      <td>00:04:00</td>\n",
       "      <td>0.0</td>\n",
       "      <td>2009-01-01 00:04:00</td>\n",
       "    </tr>\n",
       "  </tbody>\n",
       "</table>\n",
       "</div>"
      ],
      "text/plain": [
       "            Date      Time  Kitchen_power_use           timestamp\n",
       "220320  1/1/2009  00:00:00                0.0 2009-01-01 00:00:00\n",
       "220321  1/1/2009  00:01:00                0.0 2009-01-01 00:01:00\n",
       "220322  1/1/2009  00:02:00                0.0 2009-01-01 00:02:00\n",
       "220323  1/1/2009  00:03:00                0.0 2009-01-01 00:03:00\n",
       "220324  1/1/2009  00:04:00                0.0 2009-01-01 00:04:00"
      ]
     },
     "execution_count": 9,
     "metadata": {},
     "output_type": "execute_result"
    }
   ],
   "source": [
    "kitchen.loc[:, 'timestamp'] = pd.to_datetime(kitchen.loc[:,'Date']+' '+kitchen.loc[:,'Time'],dayfirst=True)\n",
    "kitchen.sort_values('timestamp', inplace=True);\n",
    "kitchen.head() "
   ]
  },
  {
   "cell_type": "code",
   "execution_count": 10,
   "id": "61762f45",
   "metadata": {},
   "outputs": [
    {
     "data": {
      "text/html": [
       "<div>\n",
       "<style scoped>\n",
       "    .dataframe tbody tr th:only-of-type {\n",
       "        vertical-align: middle;\n",
       "    }\n",
       "\n",
       "    .dataframe tbody tr th {\n",
       "        vertical-align: top;\n",
       "    }\n",
       "\n",
       "    .dataframe thead th {\n",
       "        text-align: right;\n",
       "    }\n",
       "</style>\n",
       "<table border=\"1\" class=\"dataframe\">\n",
       "  <thead>\n",
       "    <tr style=\"text-align: right;\">\n",
       "      <th></th>\n",
       "      <th>Date</th>\n",
       "      <th>Time</th>\n",
       "      <th>Kitchen_power_use</th>\n",
       "      <th>timestamp</th>\n",
       "      <th>hour</th>\n",
       "      <th>date</th>\n",
       "    </tr>\n",
       "  </thead>\n",
       "  <tbody>\n",
       "    <tr>\n",
       "      <th>220320</th>\n",
       "      <td>1/1/2009</td>\n",
       "      <td>00:00:00</td>\n",
       "      <td>0.0</td>\n",
       "      <td>2009-01-01 00:00:00</td>\n",
       "      <td>0</td>\n",
       "      <td>2009-01-01</td>\n",
       "    </tr>\n",
       "    <tr>\n",
       "      <th>220321</th>\n",
       "      <td>1/1/2009</td>\n",
       "      <td>00:01:00</td>\n",
       "      <td>0.0</td>\n",
       "      <td>2009-01-01 00:01:00</td>\n",
       "      <td>0</td>\n",
       "      <td>2009-01-01</td>\n",
       "    </tr>\n",
       "    <tr>\n",
       "      <th>220322</th>\n",
       "      <td>1/1/2009</td>\n",
       "      <td>00:02:00</td>\n",
       "      <td>0.0</td>\n",
       "      <td>2009-01-01 00:02:00</td>\n",
       "      <td>0</td>\n",
       "      <td>2009-01-01</td>\n",
       "    </tr>\n",
       "    <tr>\n",
       "      <th>220323</th>\n",
       "      <td>1/1/2009</td>\n",
       "      <td>00:03:00</td>\n",
       "      <td>0.0</td>\n",
       "      <td>2009-01-01 00:03:00</td>\n",
       "      <td>0</td>\n",
       "      <td>2009-01-01</td>\n",
       "    </tr>\n",
       "    <tr>\n",
       "      <th>220324</th>\n",
       "      <td>1/1/2009</td>\n",
       "      <td>00:04:00</td>\n",
       "      <td>0.0</td>\n",
       "      <td>2009-01-01 00:04:00</td>\n",
       "      <td>0</td>\n",
       "      <td>2009-01-01</td>\n",
       "    </tr>\n",
       "    <tr>\n",
       "      <th>...</th>\n",
       "      <td>...</td>\n",
       "      <td>...</td>\n",
       "      <td>...</td>\n",
       "      <td>...</td>\n",
       "      <td>...</td>\n",
       "      <td>...</td>\n",
       "    </tr>\n",
       "    <tr>\n",
       "      <th>745915</th>\n",
       "      <td>31/12/2009</td>\n",
       "      <td>23:55:00</td>\n",
       "      <td>0.0</td>\n",
       "      <td>2009-12-31 23:55:00</td>\n",
       "      <td>23</td>\n",
       "      <td>2009-12-31</td>\n",
       "    </tr>\n",
       "    <tr>\n",
       "      <th>745916</th>\n",
       "      <td>31/12/2009</td>\n",
       "      <td>23:56:00</td>\n",
       "      <td>0.0</td>\n",
       "      <td>2009-12-31 23:56:00</td>\n",
       "      <td>23</td>\n",
       "      <td>2009-12-31</td>\n",
       "    </tr>\n",
       "    <tr>\n",
       "      <th>745917</th>\n",
       "      <td>31/12/2009</td>\n",
       "      <td>23:57:00</td>\n",
       "      <td>0.0</td>\n",
       "      <td>2009-12-31 23:57:00</td>\n",
       "      <td>23</td>\n",
       "      <td>2009-12-31</td>\n",
       "    </tr>\n",
       "    <tr>\n",
       "      <th>745918</th>\n",
       "      <td>31/12/2009</td>\n",
       "      <td>23:58:00</td>\n",
       "      <td>0.0</td>\n",
       "      <td>2009-12-31 23:58:00</td>\n",
       "      <td>23</td>\n",
       "      <td>2009-12-31</td>\n",
       "    </tr>\n",
       "    <tr>\n",
       "      <th>745919</th>\n",
       "      <td>31/12/2009</td>\n",
       "      <td>23:59:00</td>\n",
       "      <td>0.0</td>\n",
       "      <td>2009-12-31 23:59:00</td>\n",
       "      <td>23</td>\n",
       "      <td>2009-12-31</td>\n",
       "    </tr>\n",
       "  </tbody>\n",
       "</table>\n",
       "<p>525600 rows × 6 columns</p>\n",
       "</div>"
      ],
      "text/plain": [
       "              Date      Time  Kitchen_power_use           timestamp  hour  \\\n",
       "220320    1/1/2009  00:00:00                0.0 2009-01-01 00:00:00     0   \n",
       "220321    1/1/2009  00:01:00                0.0 2009-01-01 00:01:00     0   \n",
       "220322    1/1/2009  00:02:00                0.0 2009-01-01 00:02:00     0   \n",
       "220323    1/1/2009  00:03:00                0.0 2009-01-01 00:03:00     0   \n",
       "220324    1/1/2009  00:04:00                0.0 2009-01-01 00:04:00     0   \n",
       "...            ...       ...                ...                 ...   ...   \n",
       "745915  31/12/2009  23:55:00                0.0 2009-12-31 23:55:00    23   \n",
       "745916  31/12/2009  23:56:00                0.0 2009-12-31 23:56:00    23   \n",
       "745917  31/12/2009  23:57:00                0.0 2009-12-31 23:57:00    23   \n",
       "745918  31/12/2009  23:58:00                0.0 2009-12-31 23:58:00    23   \n",
       "745919  31/12/2009  23:59:00                0.0 2009-12-31 23:59:00    23   \n",
       "\n",
       "              date  \n",
       "220320  2009-01-01  \n",
       "220321  2009-01-01  \n",
       "220322  2009-01-01  \n",
       "220323  2009-01-01  \n",
       "220324  2009-01-01  \n",
       "...            ...  \n",
       "745915  2009-12-31  \n",
       "745916  2009-12-31  \n",
       "745917  2009-12-31  \n",
       "745918  2009-12-31  \n",
       "745919  2009-12-31  \n",
       "\n",
       "[525600 rows x 6 columns]"
      ]
     },
     "execution_count": 10,
     "metadata": {},
     "output_type": "execute_result"
    }
   ],
   "source": [
    "kitchen['hour']=kitchen['timestamp'].dt.hour\n",
    "kitchen['date']=kitchen['timestamp'].dt.date\n",
    "kitchen"
   ]
  },
  {
   "cell_type": "markdown",
   "id": "85e20274",
   "metadata": {},
   "source": [
    "8. Group the data by date and hour aggregating Kitchen_power_use:"
   ]
  },
  {
   "cell_type": "code",
   "execution_count": 11,
   "id": "0cfe92c1",
   "metadata": {},
   "outputs": [
    {
     "data": {
      "text/html": [
       "<div>\n",
       "<style scoped>\n",
       "    .dataframe tbody tr th:only-of-type {\n",
       "        vertical-align: middle;\n",
       "    }\n",
       "\n",
       "    .dataframe tbody tr th {\n",
       "        vertical-align: top;\n",
       "    }\n",
       "\n",
       "    .dataframe thead th {\n",
       "        text-align: right;\n",
       "    }\n",
       "</style>\n",
       "<table border=\"1\" class=\"dataframe\">\n",
       "  <thead>\n",
       "    <tr style=\"text-align: right;\">\n",
       "      <th></th>\n",
       "      <th>date</th>\n",
       "      <th>hour</th>\n",
       "      <th>Kitchen_power_use</th>\n",
       "    </tr>\n",
       "  </thead>\n",
       "  <tbody>\n",
       "    <tr>\n",
       "      <th>20</th>\n",
       "      <td>2009-01-01</td>\n",
       "      <td>20</td>\n",
       "      <td>0.0</td>\n",
       "    </tr>\n",
       "    <tr>\n",
       "      <th>21</th>\n",
       "      <td>2009-01-01</td>\n",
       "      <td>21</td>\n",
       "      <td>0.0</td>\n",
       "    </tr>\n",
       "    <tr>\n",
       "      <th>22</th>\n",
       "      <td>2009-01-01</td>\n",
       "      <td>22</td>\n",
       "      <td>0.0</td>\n",
       "    </tr>\n",
       "    <tr>\n",
       "      <th>23</th>\n",
       "      <td>2009-01-01</td>\n",
       "      <td>23</td>\n",
       "      <td>0.0</td>\n",
       "    </tr>\n",
       "    <tr>\n",
       "      <th>24</th>\n",
       "      <td>2009-01-02</td>\n",
       "      <td>0</td>\n",
       "      <td>0.0</td>\n",
       "    </tr>\n",
       "    <tr>\n",
       "      <th>25</th>\n",
       "      <td>2009-01-02</td>\n",
       "      <td>1</td>\n",
       "      <td>0.0</td>\n",
       "    </tr>\n",
       "    <tr>\n",
       "      <th>26</th>\n",
       "      <td>2009-01-02</td>\n",
       "      <td>2</td>\n",
       "      <td>0.0</td>\n",
       "    </tr>\n",
       "    <tr>\n",
       "      <th>27</th>\n",
       "      <td>2009-01-02</td>\n",
       "      <td>3</td>\n",
       "      <td>0.0</td>\n",
       "    </tr>\n",
       "  </tbody>\n",
       "</table>\n",
       "</div>"
      ],
      "text/plain": [
       "          date  hour  Kitchen_power_use\n",
       "20  2009-01-01    20                0.0\n",
       "21  2009-01-01    21                0.0\n",
       "22  2009-01-01    22                0.0\n",
       "23  2009-01-01    23                0.0\n",
       "24  2009-01-02     0                0.0\n",
       "25  2009-01-02     1                0.0\n",
       "26  2009-01-02     2                0.0\n",
       "27  2009-01-02     3                0.0"
      ]
     },
     "execution_count": 11,
     "metadata": {},
     "output_type": "execute_result"
    }
   ],
   "source": [
    "kitchen = (kitchen[['date','hour','Kitchen_power_use']].groupby(['date', 'hour']).sum())\n",
    "kitchen.reset_index(inplace=True)\n",
    "kitchen.iloc[20:28, :]"
   ]
  },
  {
   "cell_type": "markdown",
   "id": "6969a26d",
   "metadata": {},
   "source": [
    "9. For January, aggregate the data by hour and make a bar plot by hour of kitchen energy use:"
   ]
  },
  {
   "cell_type": "code",
   "execution_count": 12,
   "id": "bb283547",
   "metadata": {},
   "outputs": [
    {
     "name": "stderr",
     "output_type": "stream",
     "text": [
      "C:\\Users\\miran\\anaconda3\\lib\\site-packages\\pandas\\core\\ops\\array_ops.py:73: FutureWarning: Comparison of Timestamp with datetime.date is deprecated in order to match the standard library behavior. In a future version these will be considered non-comparable. Use 'ts == pd.Timestamp(date)' or 'ts.date() == date' instead.\n",
      "  result = libops.scalar_compare(x.ravel(), y, op)\n"
     ]
    },
    {
     "data": {
      "text/plain": [
       "<AxesSubplot:xlabel='hour'>"
      ]
     },
     "execution_count": 12,
     "metadata": {},
     "output_type": "execute_result"
    },
    {
     "data": {
      "image/png": "[encoded data removed]",
      "text/plain": [
       "<Figure size 640x480 with 1 Axes>"
      ]
     },
     "metadata": {},
     "output_type": "display_data"
    }
   ],
   "source": [
    "(kitchen.loc[((kitchen['date']>= pd.to_datetime('2009-01-01'))&(kitchen['date']<pd.to_datetime('2009-02-01'))),['hour','Kitchen_power_use']].groupby('hour').mean().plot(kind='bar'))"
   ]
  },
  {
   "cell_type": "markdown",
   "id": "6913e108",
   "metadata": {},
   "source": [
    "10. You see that usage seems to begin around breakfast time, continue through the day with a peak at dinner time, then trail off. Make a similar plot for the entire year to compare:"
   ]
  },
  {
   "cell_type": "code",
   "execution_count": 13,
   "id": "f6803b17",
   "metadata": {},
   "outputs": [
    {
     "data": {
      "text/plain": [
       "<AxesSubplot:xlabel='hour'>"
      ]
     },
     "execution_count": 13,
     "metadata": {},
     "output_type": "execute_result"
    },
    {
     "data": {
      "image/png": "[encoded data removed]",
      "text/plain": [
       "<Figure size 640x480 with 1 Axes>"
      ]
     },
     "metadata": {},
     "output_type": "display_data"
    }
   ],
   "source": [
    "(kitchen.loc[:,['hour','Kitchen_power_use']].groupby('hour').mean().plot(kind='bar'))"
   ]
  }
 ],
 "metadata": {
  "kernelspec": {
   "display_name": "Python 3 (ipykernel)",
   "language": "python",
   "name": "python3"
  },
  "language_info": {
   "codemirror_mode": {
    "name": "ipython",
    "version": 3
   },
   "file_extension": ".py",
   "mimetype": "text/x-python",
   "name": "python",
   "nbconvert_exporter": "python",
   "pygments_lexer": "ipython3",
   "version": "3.9.13"
  }
 },
 "nbformat": 4,
 "nbformat_minor": 5
}
