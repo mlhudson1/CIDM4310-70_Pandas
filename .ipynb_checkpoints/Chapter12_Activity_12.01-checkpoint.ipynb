{
 "cells": [
  {
   "cell_type": "markdown",
   "id": "cf7a7979",
   "metadata": {},
   "source": [
    "# Activity 12.01 - Understanding power usage"
   ]
  },
  {
   "cell_type": "markdown",
   "id": "d983755b",
   "metadata": {},
   "source": [
    "In this activity, as a data analyst involved in an energy conservation study, you are provided with data collected from a home in France over several years, which includes frequent measurements of total power usage as well as submeters that isolate the kitchen, laundry room, and some heating and air conditioning use. You have been asked to look at kitchen energy use and understand the time of day trends."
   ]
  },
  {
   "cell_type": "markdown",
   "id": "0ee951ef",
   "metadata": {},
   "source": [
    "1. For this activity, all you will need is the pandas and numpy libraries. Load them in the first cell of the notebook:"
   ]
  },
  {
   "cell_type": "code",
   "execution_count": 1,
   "id": "f2bd45d9",
   "metadata": {},
   "outputs": [],
   "source": [
    "import pandas as pd\n",
    "import numpy as np"
   ]
  },
  {
   "cell_type": "markdown",
   "id": "d54098fd",
   "metadata": {},
   "source": [
    "2. Read in the household_power_consumption.csv data from the Datasets directory, and list the first few rows."
   ]
  },
  {
   "cell_type": "markdown",
   "id": "f88ac046",
   "metadata": {},
   "source": [
    "3. You should inspect the data types of the columns, and the further investigate whether there are non-numeric values. If so, correct them by converting to NA valeus and then filling them by interpolation."
   ]
  },
  {
   "cell_type": "markdown",
   "id": "b1f14d66",
   "metadata": {},
   "source": [
    "4. Make a quick visualization to understand the timeframe of the data. Your plan is to identify a year with complete data and focus on that:"
   ]
  },
  {
   "cell_type": "markdown",
   "id": "966cb99f",
   "metadata": {},
   "source": [
    "5. Using the your you identified, create a new DataFrame having Date, Time and Kitchen_power_use. Not that Sub_metering_1 is the kitchen:"
   ]
  },
  {
   "cell_type": "markdown",
   "id": "20f2f0b5",
   "metadata": {},
   "source": [
    "6. Date and Time are substrings; combine them on each row, then convert the combined string to a datetime, and store that in a new column called timestamp. Keep in mind the European format of the original date strings."
   ]
  },
  {
   "cell_type": "markdown",
   "id": "2416a9be",
   "metadata": {},
   "source": [
    "7. Create an hour and date column using methods on the timestamp column to represent the hour of the day and the date in a standard format:"
   ]
  },
  {
   "cell_type": "markdown",
   "id": "85e20274",
   "metadata": {},
   "source": [
    "8. Group the data by date and hour aggregating Kitchen_power_use:"
   ]
  },
  {
   "cell_type": "markdown",
   "id": "6969a26d",
   "metadata": {},
   "source": [
    "9. For January, aggregate the data by hour and make a bar plot by hour of kitchen energy use:"
   ]
  },
  {
   "cell_type": "markdown",
   "id": "6913e108",
   "metadata": {},
   "source": [
    "10. You see that usage seems to begin around breakfast time, continue through the day with a peak at dinner time, then trail off. Make a similar plot for the entire year to compare:"
   ]
  },
  {
   "cell_type": "code",
   "execution_count": null,
   "id": "0cfe92c1",
   "metadata": {},
   "outputs": [],
   "source": []
  }
 ],
 "metadata": {
  "kernelspec": {
   "display_name": "Python 3 (ipykernel)",
   "language": "python",
   "name": "python3"
  },
  "language_info": {
   "codemirror_mode": {
    "name": "ipython",
    "version": 3
   },
   "file_extension": ".py",
   "mimetype": "text/x-python",
   "name": "python",
   "nbconvert_exporter": "python",
   "pygments_lexer": "ipython3",
   "version": "3.9.13"
  }
 },
 "nbformat": 4,
 "nbformat_minor": 5
}
