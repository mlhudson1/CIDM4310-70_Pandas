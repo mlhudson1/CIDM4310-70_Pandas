{
 "cells": [
  {
   "cell_type": "markdown",
   "id": "bf1b6807",
   "metadata": {},
   "source": [
    "# Activity 9.01 - Data splitting, scaling, and modeling"
   ]
  },
  {
   "cell_type": "markdown",
   "id": "9b2da4c1",
   "metadata": {},
   "source": [
    "1. For this activity, all you will need is the Pandas library, the modules from sklearn, and numpy. Load them in the first cell of the notebook."
   ]
  },
  {
   "cell_type": "code",
   "execution_count": 1,
   "id": "253d6673",
   "metadata": {},
   "outputs": [],
   "source": [
    "import pandas as pd\n",
    "import numpy as np\n",
    "from sklearn.model_selection import train_test_split\n",
    "from sklearn.preprocessing import StandardScaler\n",
    "from sklearn.linear_model import LinearRegression as OLS\n",
    "from sklearn.metrics import mean_squared_error"
   ]
  },
  {
   "cell_type": "markdown",
   "id": "68133a4a",
   "metadata": {},
   "source": [
    "2. Use the power_plant.csv dataset. Read the data into a Pandas DataFrame, print out the shape, and list the first five rows.\n",
    "\n",
    "    The independent variables are as follows.\n",
    "    \n",
    "        AT - ambient temperature\n",
    "        V - exhaust vacuum level\n",
    "        AP - ambient pressure\n",
    "        RH - relative humidity\n",
    "        \n",
    "    The dependent variable is EP - electrical power produced."
   ]
  },
  {
   "cell_type": "code",
   "execution_count": 2,
   "id": "03d0669b",
   "metadata": {},
   "outputs": [
    {
     "name": "stdout",
     "output_type": "stream",
     "text": [
      "(9568, 5)\n"
     ]
    },
    {
     "data": {
      "text/html": [
       "<div>\n",
       "<style scoped>\n",
       "    .dataframe tbody tr th:only-of-type {\n",
       "        vertical-align: middle;\n",
       "    }\n",
       "\n",
       "    .dataframe tbody tr th {\n",
       "        vertical-align: top;\n",
       "    }\n",
       "\n",
       "    .dataframe thead th {\n",
       "        text-align: right;\n",
       "    }\n",
       "</style>\n",
       "<table border=\"1\" class=\"dataframe\">\n",
       "  <thead>\n",
       "    <tr style=\"text-align: right;\">\n",
       "      <th></th>\n",
       "      <th>AT</th>\n",
       "      <th>V</th>\n",
       "      <th>AP</th>\n",
       "      <th>RH</th>\n",
       "      <th>EP</th>\n",
       "    </tr>\n",
       "  </thead>\n",
       "  <tbody>\n",
       "    <tr>\n",
       "      <th>0</th>\n",
       "      <td>8.34</td>\n",
       "      <td>40.77</td>\n",
       "      <td>1010.84</td>\n",
       "      <td>90.01</td>\n",
       "      <td>480.48</td>\n",
       "    </tr>\n",
       "    <tr>\n",
       "      <th>1</th>\n",
       "      <td>23.64</td>\n",
       "      <td>58.49</td>\n",
       "      <td>1011.40</td>\n",
       "      <td>74.20</td>\n",
       "      <td>445.75</td>\n",
       "    </tr>\n",
       "    <tr>\n",
       "      <th>2</th>\n",
       "      <td>29.74</td>\n",
       "      <td>56.90</td>\n",
       "      <td>1007.15</td>\n",
       "      <td>41.91</td>\n",
       "      <td>438.76</td>\n",
       "    </tr>\n",
       "    <tr>\n",
       "      <th>3</th>\n",
       "      <td>19.07</td>\n",
       "      <td>49.69</td>\n",
       "      <td>1007.22</td>\n",
       "      <td>76.79</td>\n",
       "      <td>453.09</td>\n",
       "    </tr>\n",
       "    <tr>\n",
       "      <th>4</th>\n",
       "      <td>11.80</td>\n",
       "      <td>40.66</td>\n",
       "      <td>1017.13</td>\n",
       "      <td>97.20</td>\n",
       "      <td>464.43</td>\n",
       "    </tr>\n",
       "  </tbody>\n",
       "</table>\n",
       "</div>"
      ],
      "text/plain": [
       "      AT      V       AP     RH      EP\n",
       "0   8.34  40.77  1010.84  90.01  480.48\n",
       "1  23.64  58.49  1011.40  74.20  445.75\n",
       "2  29.74  56.90  1007.15  41.91  438.76\n",
       "3  19.07  49.69  1007.22  76.79  453.09\n",
       "4  11.80  40.66  1017.13  97.20  464.43"
      ]
     },
     "execution_count": 2,
     "metadata": {},
     "output_type": "execute_result"
    }
   ],
   "source": [
    "df=pd.read_csv('Chapter9-Datasets/power_plant.csv')\n",
    "print(df.shape)\n",
    "df.head()"
   ]
  },
  {
   "cell_type": "markdown",
   "id": "ef17003a",
   "metadata": {},
   "source": [
    "3. Split the data into a train, val, and test set with fractions of 0.8, 0.1 and 0.1 respectively, using Python and Pandas but not sklearn methods. You will use 0.8 for the train split because there is a large number of rows, so the validation and test splits will still have enough rows."
   ]
  },
  {
   "cell_type": "code",
   "execution_count": 3,
   "id": "02a5f6c6",
   "metadata": {},
   "outputs": [
    {
     "name": "stdout",
     "output_type": "stream",
     "text": [
      "train is (7654, 5) rows, cols\n",
      " val is (956, 5) rows,cols\n",
      " test is (958, 5) rows,cols\n"
     ]
    }
   ],
   "source": [
    "np.random.seed(42)\n",
    "train_rows=pd.Series(np.random.choice(list(df.index),int(0.8*df.shape[0]),replace=False))\n",
    "val_rows=pd.Series(np.random.choice(list(df.drop(train_rows,axis=0).index),int(0.1*df.shape[0]), replace = False))\n",
    "test_rows=pd.Series(df.drop(pd.concat([train_rows,val_rows]),axis=0).index)\n",
    "train_data=df.iloc[train_rows,:]\n",
    "val_data = df.iloc[val_rows,:]\n",
    "test_data = df.iloc[test_rows,:]\n",
    "print( 'train is', train_data.shape, 'rows, cols\\n',\n",
    "         'val is',val_data.shape,'rows,cols\\n',\n",
    "         'test is', test_data.shape,'rows,cols')"
   ]
  },
  {
   "cell_type": "markdown",
   "id": "3db33992",
   "metadata": {},
   "source": [
    "4. Repeat the split in step 3 but use train_test_split. Call it once to split the train data, and then call it again to split what remains into val and test."
   ]
  },
  {
   "cell_type": "code",
   "execution_count": 4,
   "id": "d6f389cc",
   "metadata": {},
   "outputs": [
    {
     "name": "stdout",
     "output_type": "stream",
     "text": [
      "train is (7654, 5) rows, cols\n",
      " val is (957, 5) rows, cols\n",
      " test is (957, 5) rows, cols\n"
     ]
    }
   ],
   "source": [
    "train_data_2, val_data_2= train_test_split(df, train_size=.8, random_state=42)\n",
    "val_data_2, test_data_2 = train_test_split(val_data_2, test_size=.5,random_state=42)\n",
    "print('train is',train_data_2.shape, 'rows, cols\\n',\n",
    "     'val is',val_data_2.shape,'rows, cols\\n',\n",
    "     'test is',test_data_2.shape,'rows, cols')"
   ]
  },
  {
   "cell_type": "markdown",
   "id": "d8001b41",
   "metadata": {},
   "source": [
    "5. Ensure that the row counts are correct in all cases."
   ]
  },
  {
   "cell_type": "code",
   "execution_count": 5,
   "id": "9ecc8e42",
   "metadata": {},
   "outputs": [
    {
     "name": "stdout",
     "output_type": "stream",
     "text": [
      "train is (7654, 5) rows, cols\n",
      " val is (956, 5) rows,cols\n",
      " test is (958, 5) rows,cols\n",
      "train is (7654, 5) rows, cols\n",
      " val is (957, 5) rows, cols\n",
      " test is (957, 5) rows, cols\n"
     ]
    }
   ],
   "source": [
    "print( 'train is', train_data.shape, 'rows, cols\\n',\n",
    "         'val is',val_data.shape,'rows,cols\\n',\n",
    "         'test is', test_data.shape,'rows,cols')\n",
    "\n",
    "print('train is',train_data_2.shape, 'rows, cols\\n',\n",
    "     'val is',val_data_2.shape,'rows, cols\\n',\n",
    "     'test is',test_data_2.shape,'rows, cols')"
   ]
  },
  {
   "cell_type": "markdown",
   "id": "cc570294",
   "metadata": {},
   "source": [
    "6. Fit .StandardScaler() to the train data from step 3, then transform train, validation, and test X. Do not transform the EP column, as it is the target."
   ]
  },
  {
   "cell_type": "code",
   "execution_count": 6,
   "id": "4f3b57e7",
   "metadata": {},
   "outputs": [],
   "source": [
    "scaler = StandardScaler()\n",
    "scaler.fit(train_data.iloc[:,:-1])\n",
    "train_X=scaler.transform(train_data.iloc[:,:-1])\n",
    "train_Y=train_data['EP']\n",
    "val_X=scaler.transform(val_data.iloc[:,:-1])\n",
    "val_Y=val_data['EP']\n",
    "test_X=scaler.transform(test_data.iloc[:,:-1])\n",
    "test_Y=test_data['EP']"
   ]
  },
  {
   "cell_type": "markdown",
   "id": "2c1d322a",
   "metadata": {},
   "source": [
    "7. Fit a .LinearRegression() model to the scaled train data, using the X variables to predict y (the EP column)."
   ]
  },
  {
   "cell_type": "code",
   "execution_count": 7,
   "id": "7b6fb818",
   "metadata": {},
   "outputs": [
    {
     "data": {
      "text/plain": [
       "LinearRegression()"
      ]
     },
     "execution_count": 7,
     "metadata": {},
     "output_type": "execute_result"
    }
   ],
   "source": [
    "linear_model = OLS()\n",
    "linear_model.fit(train_X,train_Y)"
   ]
  },
  {
   "cell_type": "markdown",
   "id": "d3fe44a2",
   "metadata": {},
   "source": [
    "8. Print the R2 score and the RMSE of the model n the train, validation, and test datasets."
   ]
  },
  {
   "cell_type": "code",
   "execution_count": 8,
   "id": "95e7be37",
   "metadata": {},
   "outputs": [
    {
     "name": "stdout",
     "output_type": "stream",
     "text": [
      "Train Score: 0.9287072840354756 \n",
      "Validation Score: 0.9238845251967255 \n",
      "Test Score: 0.9333918854821254\n",
      "train RMSE: 20.732519659228675 \n",
      "Validation RMSE: 22.820591843766223 \n",
      "Test RMSE: 19.023390952574694\n"
     ]
    }
   ],
   "source": [
    "print('Train Score:',linear_model.score(train_X,train_Y),'\\nValidation Score:',linear_model.score(val_X,val_Y),\n",
    "     '\\nTest Score:', linear_model.score(test_X,test_Y))\n",
    "print('train RMSE:',mean_squared_error(linear_model.predict(train_X),train_Y),\n",
    "     '\\nValidation RMSE:',mean_squared_error(linear_model.predict(val_X),val_Y),\n",
    "     '\\nTest RMSE:',mean_squared_error(linear_model.predict(test_X),test_Y))"
   ]
  }
 ],
 "metadata": {
  "kernelspec": {
   "display_name": "Python 3 (ipykernel)",
   "language": "python",
   "name": "python3"
  },
  "language_info": {
   "codemirror_mode": {
    "name": "ipython",
    "version": 3
   },
   "file_extension": ".py",
   "mimetype": "text/x-python",
   "name": "python",
   "nbconvert_exporter": "python",
   "pygments_lexer": "ipython3",
   "version": "3.9.13"
  }
 },
 "nbformat": 4,
 "nbformat_minor": 5
}
