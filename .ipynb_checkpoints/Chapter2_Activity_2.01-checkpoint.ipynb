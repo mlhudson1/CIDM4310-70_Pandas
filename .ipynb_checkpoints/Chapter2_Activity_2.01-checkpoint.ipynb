{
 "cells": [
  {
   "cell_type": "markdown",
   "id": "5b3cacdb",
   "metadata": {},
   "source": [
    "# Activity 2.01 - Working with pandas data structures"
   ]
  },
  {
   "cell_type": "code",
   "execution_count": 25,
   "id": "6e419668",
   "metadata": {},
   "outputs": [],
   "source": [
    "import pandas as pd\n",
    "import numpy as np"
   ]
  },
  {
   "cell_type": "code",
   "execution_count": 26,
   "id": "e696dfa3",
   "metadata": {},
   "outputs": [
    {
     "data": {
      "text/html": [
       "<div>\n",
       "<style scoped>\n",
       "    .dataframe tbody tr th:only-of-type {\n",
       "        vertical-align: middle;\n",
       "    }\n",
       "\n",
       "    .dataframe tbody tr th {\n",
       "        vertical-align: top;\n",
       "    }\n",
       "\n",
       "    .dataframe thead th {\n",
       "        text-align: right;\n",
       "    }\n",
       "</style>\n",
       "<table border=\"1\" class=\"dataframe\">\n",
       "  <thead>\n",
       "    <tr style=\"text-align: right;\">\n",
       "      <th></th>\n",
       "      <th>date</th>\n",
       "      <th>GDP</th>\n",
       "    </tr>\n",
       "  </thead>\n",
       "  <tbody>\n",
       "    <tr>\n",
       "      <th>0</th>\n",
       "      <td>2017-03-31</td>\n",
       "      <td>19190.4</td>\n",
       "    </tr>\n",
       "    <tr>\n",
       "      <th>1</th>\n",
       "      <td>2017-06-30</td>\n",
       "      <td>19356.6</td>\n",
       "    </tr>\n",
       "    <tr>\n",
       "      <th>2</th>\n",
       "      <td>2017-09-30</td>\n",
       "      <td>19611.7</td>\n",
       "    </tr>\n",
       "    <tr>\n",
       "      <th>3</th>\n",
       "      <td>2017-12-31</td>\n",
       "      <td>19918.9</td>\n",
       "    </tr>\n",
       "    <tr>\n",
       "      <th>4</th>\n",
       "      <td>2018-03-31</td>\n",
       "      <td>20163.2</td>\n",
       "    </tr>\n",
       "  </tbody>\n",
       "</table>\n",
       "</div>"
      ],
      "text/plain": [
       "         date      GDP\n",
       "0  2017-03-31  19190.4\n",
       "1  2017-06-30  19356.6\n",
       "2  2017-09-30  19611.7\n",
       "3  2017-12-31  19918.9\n",
       "4  2018-03-31  20163.2"
      ]
     },
     "execution_count": 26,
     "metadata": {},
     "output_type": "execute_result"
    }
   ],
   "source": [
    "GDP_data = pd.read_csv('Chapter2-Datasets/US_GDP.csv')\n",
    "GDP_data.head()"
   ]
  },
  {
   "cell_type": "code",
   "execution_count": 27,
   "id": "2b202ee1",
   "metadata": {},
   "outputs": [
    {
     "data": {
      "text/plain": [
       "pandas._libs.tslibs.timestamps.Timestamp"
      ]
     },
     "execution_count": 27,
     "metadata": {},
     "output_type": "execute_result"
    }
   ],
   "source": [
    "GDP_data['date'] = pd.to_datetime(GDP_data['date'])\n",
    "GDP_data.head()\n",
    "type(GDP_data['date'][0])"
   ]
  },
  {
   "cell_type": "code",
   "execution_count": 28,
   "id": "b0d2a257",
   "metadata": {},
   "outputs": [
    {
     "data": {
      "text/html": [
       "<div>\n",
       "<style scoped>\n",
       "    .dataframe tbody tr th:only-of-type {\n",
       "        vertical-align: middle;\n",
       "    }\n",
       "\n",
       "    .dataframe tbody tr th {\n",
       "        vertical-align: top;\n",
       "    }\n",
       "\n",
       "    .dataframe thead th {\n",
       "        text-align: right;\n",
       "    }\n",
       "</style>\n",
       "<table border=\"1\" class=\"dataframe\">\n",
       "  <thead>\n",
       "    <tr style=\"text-align: right;\">\n",
       "      <th></th>\n",
       "      <th>GDP</th>\n",
       "    </tr>\n",
       "    <tr>\n",
       "      <th>date</th>\n",
       "      <th></th>\n",
       "    </tr>\n",
       "  </thead>\n",
       "  <tbody>\n",
       "    <tr>\n",
       "      <th>2017-03-31</th>\n",
       "      <td>19190.4</td>\n",
       "    </tr>\n",
       "    <tr>\n",
       "      <th>2017-06-30</th>\n",
       "      <td>19356.6</td>\n",
       "    </tr>\n",
       "    <tr>\n",
       "      <th>2017-09-30</th>\n",
       "      <td>19611.7</td>\n",
       "    </tr>\n",
       "    <tr>\n",
       "      <th>2017-12-31</th>\n",
       "      <td>19918.9</td>\n",
       "    </tr>\n",
       "    <tr>\n",
       "      <th>2018-03-31</th>\n",
       "      <td>20163.2</td>\n",
       "    </tr>\n",
       "  </tbody>\n",
       "</table>\n",
       "</div>"
      ],
      "text/plain": [
       "                GDP\n",
       "date               \n",
       "2017-03-31  19190.4\n",
       "2017-06-30  19356.6\n",
       "2017-09-30  19611.7\n",
       "2017-12-31  19918.9\n",
       "2018-03-31  20163.2"
      ]
     },
     "execution_count": 28,
     "metadata": {},
     "output_type": "execute_result"
    }
   ],
   "source": [
    "GDP_data.set_index('date', inplace=True)\n",
    "GDP_data.head()"
   ]
  },
  {
   "cell_type": "code",
   "execution_count": 29,
   "id": "f7b7fca5",
   "metadata": {},
   "outputs": [
    {
     "data": {
      "text/plain": [
       "pandas.core.frame.DataFrame"
      ]
     },
     "execution_count": 29,
     "metadata": {},
     "output_type": "execute_result"
    }
   ],
   "source": [
    "type(GDP_data)"
   ]
  },
  {
   "cell_type": "code",
   "execution_count": 30,
   "id": "e33baff2",
   "metadata": {},
   "outputs": [
    {
     "name": "stdout",
     "output_type": "stream",
     "text": [
      "Index(['GDP'], dtype='object')\n"
     ]
    }
   ],
   "source": [
    "print(GDP_data.columns)"
   ]
  },
  {
   "cell_type": "code",
   "execution_count": 31,
   "id": "7bf4d8b9",
   "metadata": {},
   "outputs": [],
   "source": [
    "GDP_data.to_csv('Chapter2-Datasets/US_GDP_date_index.csv')"
   ]
  }
 ],
 "metadata": {
  "kernelspec": {
   "display_name": "Python 3 (ipykernel)",
   "language": "python",
   "name": "python3"
  },
  "language_info": {
   "codemirror_mode": {
    "name": "ipython",
    "version": 3
   },
   "file_extension": ".py",
   "mimetype": "text/x-python",
   "name": "python",
   "nbconvert_exporter": "python",
   "pygments_lexer": "ipython3",
   "version": "3.9.13"
  }
 },
 "nbformat": 4,
 "nbformat_minor": 5
}
