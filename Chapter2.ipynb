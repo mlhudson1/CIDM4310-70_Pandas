{
 "cells": [
  {
   "cell_type": "markdown",
   "id": "7e230760",
   "metadata": {},
   "source": [
    "# Chapter 2 : Working with Data Structures"
   ]
  },
  {
   "cell_type": "code",
   "execution_count": 8,
   "id": "d5ebe7d3",
   "metadata": {},
   "outputs": [],
   "source": [
    "import pandas as pd\n",
    "import numpy as np"
   ]
  },
  {
   "cell_type": "code",
   "execution_count": 9,
   "id": "9c9e40db",
   "metadata": {},
   "outputs": [],
   "source": [
    "sample_df_construction = pd.DataFrame({'col1': range(0,100), 'col2': range(1,200,2)})"
   ]
  },
  {
   "cell_type": "code",
   "execution_count": 10,
   "id": "fec65792",
   "metadata": {},
   "outputs": [
    {
     "data": {
      "text/html": [
       "<div>\n",
       "<style scoped>\n",
       "    .dataframe tbody tr th:only-of-type {\n",
       "        vertical-align: middle;\n",
       "    }\n",
       "\n",
       "    .dataframe tbody tr th {\n",
       "        vertical-align: top;\n",
       "    }\n",
       "\n",
       "    .dataframe thead th {\n",
       "        text-align: right;\n",
       "    }\n",
       "</style>\n",
       "<table border=\"1\" class=\"dataframe\">\n",
       "  <thead>\n",
       "    <tr style=\"text-align: right;\">\n",
       "      <th></th>\n",
       "      <th>col1</th>\n",
       "      <th>col2</th>\n",
       "    </tr>\n",
       "  </thead>\n",
       "  <tbody>\n",
       "    <tr>\n",
       "      <th>0</th>\n",
       "      <td>0</td>\n",
       "      <td>1</td>\n",
       "    </tr>\n",
       "    <tr>\n",
       "      <th>1</th>\n",
       "      <td>1</td>\n",
       "      <td>3</td>\n",
       "    </tr>\n",
       "    <tr>\n",
       "      <th>2</th>\n",
       "      <td>2</td>\n",
       "      <td>5</td>\n",
       "    </tr>\n",
       "    <tr>\n",
       "      <th>3</th>\n",
       "      <td>3</td>\n",
       "      <td>7</td>\n",
       "    </tr>\n",
       "    <tr>\n",
       "      <th>4</th>\n",
       "      <td>4</td>\n",
       "      <td>9</td>\n",
       "    </tr>\n",
       "  </tbody>\n",
       "</table>\n",
       "</div>"
      ],
      "text/plain": [
       "   col1  col2\n",
       "0     0     1\n",
       "1     1     3\n",
       "2     2     5\n",
       "3     3     7\n",
       "4     4     9"
      ]
     },
     "execution_count": 10,
     "metadata": {},
     "output_type": "execute_result"
    }
   ],
   "source": [
    "sample_df_construction.head()"
   ]
  },
  {
   "cell_type": "code",
   "execution_count": 11,
   "id": "94be5f91",
   "metadata": {},
   "outputs": [
    {
     "data": {
      "text/html": [
       "<div>\n",
       "<style scoped>\n",
       "    .dataframe tbody tr th:only-of-type {\n",
       "        vertical-align: middle;\n",
       "    }\n",
       "\n",
       "    .dataframe tbody tr th {\n",
       "        vertical-align: top;\n",
       "    }\n",
       "\n",
       "    .dataframe thead th {\n",
       "        text-align: right;\n",
       "    }\n",
       "</style>\n",
       "<table border=\"1\" class=\"dataframe\">\n",
       "  <thead>\n",
       "    <tr style=\"text-align: right;\">\n",
       "      <th></th>\n",
       "      <th>col1</th>\n",
       "      <th>col2</th>\n",
       "    </tr>\n",
       "  </thead>\n",
       "  <tbody>\n",
       "    <tr>\n",
       "      <th>95</th>\n",
       "      <td>95</td>\n",
       "      <td>191</td>\n",
       "    </tr>\n",
       "    <tr>\n",
       "      <th>96</th>\n",
       "      <td>96</td>\n",
       "      <td>193</td>\n",
       "    </tr>\n",
       "    <tr>\n",
       "      <th>97</th>\n",
       "      <td>97</td>\n",
       "      <td>195</td>\n",
       "    </tr>\n",
       "    <tr>\n",
       "      <th>98</th>\n",
       "      <td>98</td>\n",
       "      <td>197</td>\n",
       "    </tr>\n",
       "    <tr>\n",
       "      <th>99</th>\n",
       "      <td>99</td>\n",
       "      <td>199</td>\n",
       "    </tr>\n",
       "  </tbody>\n",
       "</table>\n",
       "</div>"
      ],
      "text/plain": [
       "    col1  col2\n",
       "95    95   191\n",
       "96    96   193\n",
       "97    97   195\n",
       "98    98   197\n",
       "99    99   199"
      ]
     },
     "execution_count": 11,
     "metadata": {},
     "output_type": "execute_result"
    }
   ],
   "source": [
    "sample_df_construction.tail()"
   ]
  },
  {
   "cell_type": "code",
   "execution_count": 12,
   "id": "4548b48a",
   "metadata": {},
   "outputs": [
    {
     "data": {
      "text/plain": [
       "pandas.core.frame.DataFrame"
      ]
     },
     "execution_count": 12,
     "metadata": {},
     "output_type": "execute_result"
    }
   ],
   "source": [
    "type(sample_df_construction)"
   ]
  },
  {
   "cell_type": "code",
   "execution_count": 13,
   "id": "f96f3fc7",
   "metadata": {},
   "outputs": [],
   "source": [
    "?pd.DataFrame"
   ]
  },
  {
   "cell_type": "code",
   "execution_count": 14,
   "id": "87dbf1c9",
   "metadata": {},
   "outputs": [],
   "source": [
    "sample_np_array_1 = np.array(range(0,100))\n",
    "sample_np_array_2 = np.array(range(1,200,2))"
   ]
  },
  {
   "cell_type": "code",
   "execution_count": 15,
   "id": "eca443b3",
   "metadata": {},
   "outputs": [
    {
     "name": "stdout",
     "output_type": "stream",
     "text": [
      "[[0 1]\n",
      " [1 3]\n",
      " [2 5]\n",
      " [3 7]\n",
      " [4 9]]\n"
     ]
    }
   ],
   "source": [
    "sample_np_2D = np.column_stack((sample_np_array_1, sample_np_array_2))\n",
    "print(sample_np_2D[0:5])"
   ]
  },
  {
   "cell_type": "code",
   "execution_count": 17,
   "id": "b50a573b",
   "metadata": {},
   "outputs": [
    {
     "name": "stdout",
     "output_type": "stream",
     "text": [
      "   col1  col2\n",
      "0     0     1\n",
      "1     1     3\n",
      "2     2     5\n",
      "3     3     7\n",
      "4     4     9\n"
     ]
    }
   ],
   "source": [
    "sample_df_from_np = pd.DataFrame(sample_np_2D, columns = ['col1','col2'])\n",
    "print(sample_df_from_np.head())"
   ]
  },
  {
   "cell_type": "code",
   "execution_count": 18,
   "id": "80fbab8d",
   "metadata": {},
   "outputs": [
    {
     "name": "stdout",
     "output_type": "stream",
     "text": [
      "[0, 1, 2, 3, 4, 5, 6, 7, 8, 9, 10, 11, 12, 13, 14, 15, 16, 17, 18, 19, 20, 21, 22, 23, 24, 25, 26, 27, 28, 29, 30, 31, 32, 33, 34, 35, 36, 37, 38, 39, 40, 41, 42, 43, 44, 45, 46, 47, 48, 49, 50, 51, 52, 53, 54, 55, 56, 57, 58, 59, 60, 61, 62, 63, 64, 65, 66, 67, 68, 69, 70, 71, 72, 73, 74, 75, 76, 77, 78, 79, 80, 81, 82, 83, 84, 85, 86, 87, 88, 89, 90, 91, 92, 93, 94, 95, 96, 97, 98, 99] [1, 3, 5, 7, 9, 11, 13, 15, 17, 19, 21, 23, 25, 27, 29, 31, 33, 35, 37, 39, 41, 43, 45, 47, 49, 51, 53, 55, 57, 59, 61, 63, 65, 67, 69, 71, 73, 75, 77, 79, 81, 83, 85, 87, 89, 91, 93, 95, 97, 99, 101, 103, 105, 107, 109, 111, 113, 115, 117, 119, 121, 123, 125, 127, 129, 131, 133, 135, 137, 139, 141, 143, 145, 147, 149, 151, 153, 155, 157, 159, 161, 163, 165, 167, 169, 171, 173, 175, 177, 179, 181, 183, 185, 187, 189, 191, 193, 195, 197, 199]\n"
     ]
    }
   ],
   "source": [
    "list_1 = [i for i in range(100)]\n",
    "list_2 = [i for i in range(1,200,2)]\n",
    "print(list_1, list_2)"
   ]
  },
  {
   "cell_type": "code",
   "execution_count": 19,
   "id": "d86d3188",
   "metadata": {},
   "outputs": [
    {
     "data": {
      "text/html": [
       "<div>\n",
       "<style scoped>\n",
       "    .dataframe tbody tr th:only-of-type {\n",
       "        vertical-align: middle;\n",
       "    }\n",
       "\n",
       "    .dataframe tbody tr th {\n",
       "        vertical-align: top;\n",
       "    }\n",
       "\n",
       "    .dataframe thead th {\n",
       "        text-align: right;\n",
       "    }\n",
       "</style>\n",
       "<table border=\"1\" class=\"dataframe\">\n",
       "  <thead>\n",
       "    <tr style=\"text-align: right;\">\n",
       "      <th></th>\n",
       "      <th>col1</th>\n",
       "      <th>col2</th>\n",
       "    </tr>\n",
       "  </thead>\n",
       "  <tbody>\n",
       "    <tr>\n",
       "      <th>0</th>\n",
       "      <td>0</td>\n",
       "      <td>1</td>\n",
       "    </tr>\n",
       "    <tr>\n",
       "      <th>1</th>\n",
       "      <td>1</td>\n",
       "      <td>3</td>\n",
       "    </tr>\n",
       "    <tr>\n",
       "      <th>2</th>\n",
       "      <td>2</td>\n",
       "      <td>5</td>\n",
       "    </tr>\n",
       "    <tr>\n",
       "      <th>3</th>\n",
       "      <td>3</td>\n",
       "      <td>7</td>\n",
       "    </tr>\n",
       "    <tr>\n",
       "      <th>4</th>\n",
       "      <td>4</td>\n",
       "      <td>9</td>\n",
       "    </tr>\n",
       "    <tr>\n",
       "      <th>...</th>\n",
       "      <td>...</td>\n",
       "      <td>...</td>\n",
       "    </tr>\n",
       "    <tr>\n",
       "      <th>95</th>\n",
       "      <td>95</td>\n",
       "      <td>191</td>\n",
       "    </tr>\n",
       "    <tr>\n",
       "      <th>96</th>\n",
       "      <td>96</td>\n",
       "      <td>193</td>\n",
       "    </tr>\n",
       "    <tr>\n",
       "      <th>97</th>\n",
       "      <td>97</td>\n",
       "      <td>195</td>\n",
       "    </tr>\n",
       "    <tr>\n",
       "      <th>98</th>\n",
       "      <td>98</td>\n",
       "      <td>197</td>\n",
       "    </tr>\n",
       "    <tr>\n",
       "      <th>99</th>\n",
       "      <td>99</td>\n",
       "      <td>199</td>\n",
       "    </tr>\n",
       "  </tbody>\n",
       "</table>\n",
       "<p>100 rows × 2 columns</p>\n",
       "</div>"
      ],
      "text/plain": [
       "    col1  col2\n",
       "0      0     1\n",
       "1      1     3\n",
       "2      2     5\n",
       "3      3     7\n",
       "4      4     9\n",
       "..   ...   ...\n",
       "95    95   191\n",
       "96    96   193\n",
       "97    97   195\n",
       "98    98   197\n",
       "99    99   199\n",
       "\n",
       "[100 rows x 2 columns]"
      ]
     },
     "execution_count": 19,
     "metadata": {},
     "output_type": "execute_result"
    }
   ],
   "source": [
    "sample_df_from_iterable = pd.DataFrame(zip(list_1,list_2), columns = ['col1','col2'])\n",
    "sample_df_from_iterable"
   ]
  },
  {
   "cell_type": "code",
   "execution_count": 21,
   "id": "b40a208f",
   "metadata": {},
   "outputs": [],
   "source": [
    "?zip"
   ]
  },
  {
   "cell_type": "code",
   "execution_count": 22,
   "id": "0e072a81",
   "metadata": {},
   "outputs": [
    {
     "name": "stdout",
     "output_type": "stream",
     "text": [
      "   col1  col2\n",
      "0     0     1\n",
      "1     1     3\n",
      "2     2     5\n",
      "3     3     7\n",
      "4     4     9\n",
      "    col1  col2\n",
      "95    95   191\n",
      "96    96   193\n",
      "97    97   195\n",
      "98    98   197\n",
      "99    99   199\n"
     ]
    }
   ],
   "source": [
    "sample_df_from_lists = pd.DataFrame({'col1':list_1,'col2': list_2})\n",
    "print(sample_df_from_lists.head())\n",
    "print(sample_df_from_lists.tail())"
   ]
  },
  {
   "cell_type": "code",
   "execution_count": 24,
   "id": "b761eb09",
   "metadata": {},
   "outputs": [
    {
     "data": {
      "text/plain": [
       "(0, 0)"
      ]
     },
     "execution_count": 24,
     "metadata": {},
     "output_type": "execute_result"
    }
   ],
   "source": [
    "empty_data = pd.DataFrame()\n",
    "empty_data.shape"
   ]
  },
  {
   "cell_type": "code",
   "execution_count": 25,
   "id": "745d5c4e",
   "metadata": {},
   "outputs": [
    {
     "data": {
      "text/html": [
       "<div>\n",
       "<style scoped>\n",
       "    .dataframe tbody tr th:only-of-type {\n",
       "        vertical-align: middle;\n",
       "    }\n",
       "\n",
       "    .dataframe tbody tr th {\n",
       "        vertical-align: top;\n",
       "    }\n",
       "\n",
       "    .dataframe thead th {\n",
       "        text-align: right;\n",
       "    }\n",
       "</style>\n",
       "<table border=\"1\" class=\"dataframe\">\n",
       "  <thead>\n",
       "    <tr style=\"text-align: right;\">\n",
       "      <th></th>\n",
       "      <th>0</th>\n",
       "      <th>1</th>\n",
       "      <th>2</th>\n",
       "      <th>3</th>\n",
       "      <th>4</th>\n",
       "    </tr>\n",
       "  </thead>\n",
       "  <tbody>\n",
       "    <tr>\n",
       "      <th>0</th>\n",
       "      <td>0</td>\n",
       "      <td>1</td>\n",
       "      <td>2</td>\n",
       "      <td>3</td>\n",
       "      <td>4</td>\n",
       "    </tr>\n",
       "    <tr>\n",
       "      <th>1</th>\n",
       "      <td>2</td>\n",
       "      <td>3</td>\n",
       "      <td>4</td>\n",
       "      <td>5</td>\n",
       "      <td>6</td>\n",
       "    </tr>\n",
       "  </tbody>\n",
       "</table>\n",
       "</div>"
      ],
      "text/plain": [
       "   0  1  2  3  4\n",
       "0  0  1  2  3  4\n",
       "1  2  3  4  5  6"
      ]
     },
     "execution_count": 25,
     "metadata": {},
     "output_type": "execute_result"
    }
   ],
   "source": [
    "my_array = np.array([[0,1,2,3,4],[2,3,4,5,6]])\n",
    "filled_dataframe=pd.concat([empty_data, pd.DataFrame(my_array)], axis=0)\n",
    "filled_dataframe"
   ]
  },
  {
   "cell_type": "code",
   "execution_count": 26,
   "id": "c61166ed",
   "metadata": {},
   "outputs": [
    {
     "data": {
      "text/html": [
       "<div>\n",
       "<style scoped>\n",
       "    .dataframe tbody tr th:only-of-type {\n",
       "        vertical-align: middle;\n",
       "    }\n",
       "\n",
       "    .dataframe tbody tr th {\n",
       "        vertical-align: top;\n",
       "    }\n",
       "\n",
       "    .dataframe thead th {\n",
       "        text-align: right;\n",
       "    }\n",
       "</style>\n",
       "<table border=\"1\" class=\"dataframe\">\n",
       "  <thead>\n",
       "    <tr style=\"text-align: right;\">\n",
       "      <th></th>\n",
       "      <th>0</th>\n",
       "      <th>1</th>\n",
       "      <th>2</th>\n",
       "      <th>3</th>\n",
       "      <th>4</th>\n",
       "    </tr>\n",
       "  </thead>\n",
       "  <tbody>\n",
       "    <tr>\n",
       "      <th>0</th>\n",
       "      <td>0</td>\n",
       "      <td>1</td>\n",
       "      <td>2</td>\n",
       "      <td>3</td>\n",
       "      <td>4</td>\n",
       "    </tr>\n",
       "    <tr>\n",
       "      <th>1</th>\n",
       "      <td>2</td>\n",
       "      <td>3</td>\n",
       "      <td>4</td>\n",
       "      <td>5</td>\n",
       "      <td>6</td>\n",
       "    </tr>\n",
       "  </tbody>\n",
       "</table>\n",
       "</div>"
      ],
      "text/plain": [
       "   0  1  2  3  4\n",
       "0  0  1  2  3  4\n",
       "1  2  3  4  5  6"
      ]
     },
     "execution_count": 26,
     "metadata": {},
     "output_type": "execute_result"
    }
   ],
   "source": [
    "filled_data_from_np = pd.DataFrame(my_array)\n",
    "filled_data_from_np"
   ]
  },
  {
   "cell_type": "markdown",
   "id": "55ac8894",
   "metadata": {},
   "source": [
    "## Exercise 2.01 - Creating a DataFrame"
   ]
  },
  {
   "cell_type": "code",
   "execution_count": 28,
   "id": "32f2342a",
   "metadata": {},
   "outputs": [
    {
     "data": {
      "text/html": [
       "<div>\n",
       "<style scoped>\n",
       "    .dataframe tbody tr th:only-of-type {\n",
       "        vertical-align: middle;\n",
       "    }\n",
       "\n",
       "    .dataframe tbody tr th {\n",
       "        vertical-align: top;\n",
       "    }\n",
       "\n",
       "    .dataframe thead th {\n",
       "        text-align: right;\n",
       "    }\n",
       "</style>\n",
       "<table border=\"1\" class=\"dataframe\">\n",
       "  <thead>\n",
       "    <tr style=\"text-align: right;\">\n",
       "      <th></th>\n",
       "      <th>time</th>\n",
       "      <th>measurement</th>\n",
       "    </tr>\n",
       "  </thead>\n",
       "  <tbody>\n",
       "    <tr>\n",
       "      <th>0</th>\n",
       "      <td>0.0</td>\n",
       "      <td>0.000000e+00</td>\n",
       "    </tr>\n",
       "    <tr>\n",
       "      <th>1</th>\n",
       "      <td>0.1</td>\n",
       "      <td>5.877853e-01</td>\n",
       "    </tr>\n",
       "    <tr>\n",
       "      <th>2</th>\n",
       "      <td>0.2</td>\n",
       "      <td>9.510565e-01</td>\n",
       "    </tr>\n",
       "    <tr>\n",
       "      <th>3</th>\n",
       "      <td>0.3</td>\n",
       "      <td>9.510565e-01</td>\n",
       "    </tr>\n",
       "    <tr>\n",
       "      <th>4</th>\n",
       "      <td>0.4</td>\n",
       "      <td>5.877853e-01</td>\n",
       "    </tr>\n",
       "    <tr>\n",
       "      <th>5</th>\n",
       "      <td>0.5</td>\n",
       "      <td>1.224647e-16</td>\n",
       "    </tr>\n",
       "    <tr>\n",
       "      <th>6</th>\n",
       "      <td>0.6</td>\n",
       "      <td>-5.877853e-01</td>\n",
       "    </tr>\n",
       "    <tr>\n",
       "      <th>7</th>\n",
       "      <td>0.7</td>\n",
       "      <td>-9.510565e-01</td>\n",
       "    </tr>\n",
       "    <tr>\n",
       "      <th>8</th>\n",
       "      <td>0.8</td>\n",
       "      <td>-9.510565e-01</td>\n",
       "    </tr>\n",
       "    <tr>\n",
       "      <th>9</th>\n",
       "      <td>0.9</td>\n",
       "      <td>-5.877853e-01</td>\n",
       "    </tr>\n",
       "    <tr>\n",
       "      <th>10</th>\n",
       "      <td>1.0</td>\n",
       "      <td>-2.449294e-16</td>\n",
       "    </tr>\n",
       "  </tbody>\n",
       "</table>\n",
       "</div>"
      ],
      "text/plain": [
       "    time   measurement\n",
       "0    0.0  0.000000e+00\n",
       "1    0.1  5.877853e-01\n",
       "2    0.2  9.510565e-01\n",
       "3    0.3  9.510565e-01\n",
       "4    0.4  5.877853e-01\n",
       "5    0.5  1.224647e-16\n",
       "6    0.6 -5.877853e-01\n",
       "7    0.7 -9.510565e-01\n",
       "8    0.8 -9.510565e-01\n",
       "9    0.9 -5.877853e-01\n",
       "10   1.0 -2.449294e-16"
      ]
     },
     "execution_count": 28,
     "metadata": {},
     "output_type": "execute_result"
    }
   ],
   "source": [
    "test_data = pd.DataFrame({'time':pd.Series(range(1000))/10, 'measurement' : np.sin(2*np.pi * pd.Series(range(1000))/10/1)})\n",
    "test_data.head(11)"
   ]
  },
  {
   "cell_type": "markdown",
   "id": "e7ae6b56",
   "metadata": {},
   "source": [
    "## Indexes and Columns"
   ]
  },
  {
   "cell_type": "code",
   "execution_count": 29,
   "id": "7c153a93",
   "metadata": {},
   "outputs": [
    {
     "data": {
      "text/plain": [
       "RangeIndex(start=0, stop=100, step=1)"
      ]
     },
     "execution_count": 29,
     "metadata": {},
     "output_type": "execute_result"
    }
   ],
   "source": [
    "sample_df_from_lists.index"
   ]
  },
  {
   "cell_type": "code",
   "execution_count": 32,
   "id": "109f1463",
   "metadata": {},
   "outputs": [
    {
     "data": {
      "text/html": [
       "<div>\n",
       "<style scoped>\n",
       "    .dataframe tbody tr th:only-of-type {\n",
       "        vertical-align: middle;\n",
       "    }\n",
       "\n",
       "    .dataframe tbody tr th {\n",
       "        vertical-align: top;\n",
       "    }\n",
       "\n",
       "    .dataframe thead th {\n",
       "        text-align: right;\n",
       "    }\n",
       "</style>\n",
       "<table border=\"1\" class=\"dataframe\">\n",
       "  <thead>\n",
       "    <tr style=\"text-align: right;\">\n",
       "      <th></th>\n",
       "      <th>letter</th>\n",
       "    </tr>\n",
       "  </thead>\n",
       "  <tbody>\n",
       "    <tr>\n",
       "      <th>21</th>\n",
       "      <td>v</td>\n",
       "    </tr>\n",
       "    <tr>\n",
       "      <th>22</th>\n",
       "      <td>w</td>\n",
       "    </tr>\n",
       "    <tr>\n",
       "      <th>23</th>\n",
       "      <td>x</td>\n",
       "    </tr>\n",
       "    <tr>\n",
       "      <th>24</th>\n",
       "      <td>y</td>\n",
       "    </tr>\n",
       "    <tr>\n",
       "      <th>25</th>\n",
       "      <td>aa</td>\n",
       "    </tr>\n",
       "    <tr>\n",
       "      <th>26</th>\n",
       "      <td>bb</td>\n",
       "    </tr>\n",
       "    <tr>\n",
       "      <th>27</th>\n",
       "      <td>cc</td>\n",
       "    </tr>\n",
       "    <tr>\n",
       "      <th>28</th>\n",
       "      <td>dd</td>\n",
       "    </tr>\n",
       "  </tbody>\n",
       "</table>\n",
       "</div>"
      ],
      "text/plain": [
       "   letter\n",
       "21      v\n",
       "22      w\n",
       "23      x\n",
       "24      y\n",
       "25     aa\n",
       "26     bb\n",
       "27     cc\n",
       "28     dd"
      ]
     },
     "execution_count": 32,
     "metadata": {},
     "output_type": "execute_result"
    }
   ],
   "source": [
    "letters = pd.Series(map(chr, range(97,122)))\n",
    "letters = pd.DataFrame({'letter': (list(letters)+list(letters*2)+list(letters *3)+list(letters*4))})\n",
    "letters[21:29]"
   ]
  },
  {
   "cell_type": "code",
   "execution_count": 33,
   "id": "d3f5d2bf",
   "metadata": {},
   "outputs": [
    {
     "name": "stdout",
     "output_type": "stream",
     "text": [
      "RangeIndex(start=0, stop=100, step=1)\n",
      "Index(['a', 'b', 'c', 'd', 'e', 'f', 'g', 'h', 'i', 'j', 'k', 'l', 'm', 'n',\n",
      "       'o', 'p', 'q', 'r', 's', 't', 'u', 'v', 'w', 'x', 'y', 'aa', 'bb', 'cc',\n",
      "       'dd', 'ee', 'ff', 'gg', 'hh', 'ii', 'jj', 'kk', 'll', 'mm', 'nn', 'oo',\n",
      "       'pp', 'qq', 'rr', 'ss', 'tt', 'uu', 'vv', 'ww', 'xx', 'yy', 'aaa',\n",
      "       'bbb', 'ccc', 'ddd', 'eee', 'fff', 'ggg', 'hhh', 'iii', 'jjj', 'kkk',\n",
      "       'lll', 'mmm', 'nnn', 'ooo', 'ppp', 'qqq', 'rrr', 'sss', 'ttt', 'uuu',\n",
      "       'vvv', 'www', 'xxx', 'yyy', 'aaaa', 'bbbb', 'cccc', 'dddd', 'eeee',\n",
      "       'ffff', 'gggg', 'hhhh', 'iiii', 'jjjj', 'kkkk', 'llll', 'mmmm', 'nnnn',\n",
      "       'oooo', 'pppp', 'qqqq', 'rrrr', 'ssss', 'tttt', 'uuuu', 'vvvv', 'wwww',\n",
      "       'xxxx', 'yyyy'],\n",
      "      dtype='object', name='letter')\n"
     ]
    }
   ],
   "source": [
    "print(sample_df_from_lists.index)\n",
    "sample_df_from_lists.set_index(keys = letters.iloc[:,0], inplace = True)\n",
    "print(sample_df_from_lists.index)"
   ]
  },
  {
   "cell_type": "code",
   "execution_count": 37,
   "id": "84cd0510",
   "metadata": {},
   "outputs": [
    {
     "data": {
      "text/html": [
       "<div>\n",
       "<style scoped>\n",
       "    .dataframe tbody tr th:only-of-type {\n",
       "        vertical-align: middle;\n",
       "    }\n",
       "\n",
       "    .dataframe tbody tr th {\n",
       "        vertical-align: top;\n",
       "    }\n",
       "\n",
       "    .dataframe thead th {\n",
       "        text-align: right;\n",
       "    }\n",
       "</style>\n",
       "<table border=\"1\" class=\"dataframe\">\n",
       "  <thead>\n",
       "    <tr style=\"text-align: right;\">\n",
       "      <th></th>\n",
       "      <th>col1</th>\n",
       "      <th>col2</th>\n",
       "    </tr>\n",
       "    <tr>\n",
       "      <th>letter</th>\n",
       "      <th></th>\n",
       "      <th></th>\n",
       "    </tr>\n",
       "  </thead>\n",
       "  <tbody>\n",
       "    <tr>\n",
       "      <th>uuuu</th>\n",
       "      <td>95</td>\n",
       "      <td>191</td>\n",
       "    </tr>\n",
       "    <tr>\n",
       "      <th>vvvv</th>\n",
       "      <td>96</td>\n",
       "      <td>193</td>\n",
       "    </tr>\n",
       "    <tr>\n",
       "      <th>wwww</th>\n",
       "      <td>97</td>\n",
       "      <td>195</td>\n",
       "    </tr>\n",
       "    <tr>\n",
       "      <th>xxxx</th>\n",
       "      <td>98</td>\n",
       "      <td>197</td>\n",
       "    </tr>\n",
       "    <tr>\n",
       "      <th>yyyy</th>\n",
       "      <td>99</td>\n",
       "      <td>199</td>\n",
       "    </tr>\n",
       "  </tbody>\n",
       "</table>\n",
       "</div>"
      ],
      "text/plain": [
       "        col1  col2\n",
       "letter            \n",
       "uuuu      95   191\n",
       "vvvv      96   193\n",
       "wwww      97   195\n",
       "xxxx      98   197\n",
       "yyyy      99   199"
      ]
     },
     "execution_count": 37,
     "metadata": {},
     "output_type": "execute_result"
    }
   ],
   "source": [
    "sample_df_from_lists.loc['uuuu':'yyyy', :]"
   ]
  },
  {
   "cell_type": "code",
   "execution_count": 38,
   "id": "de1bc3c1",
   "metadata": {},
   "outputs": [
    {
     "name": "stdout",
     "output_type": "stream",
     "text": [
      "['cat', 'cat', 'cat', 'cat', 'cat'] ['dog', 'dog', 'dog', 'dog', 'dog']\n"
     ]
    }
   ],
   "source": [
    "animal_type = ['cat']*50 + ['dog']*50\n",
    "print(animal_type[:5], animal_type[-5:])"
   ]
  },
  {
   "cell_type": "code",
   "execution_count": 39,
   "id": "bdf15624",
   "metadata": {},
   "outputs": [
    {
     "data": {
      "text/html": [
       "<div>\n",
       "<style scoped>\n",
       "    .dataframe tbody tr th:only-of-type {\n",
       "        vertical-align: middle;\n",
       "    }\n",
       "\n",
       "    .dataframe tbody tr th {\n",
       "        vertical-align: top;\n",
       "    }\n",
       "\n",
       "    .dataframe thead th {\n",
       "        text-align: right;\n",
       "    }\n",
       "</style>\n",
       "<table border=\"1\" class=\"dataframe\">\n",
       "  <thead>\n",
       "    <tr style=\"text-align: right;\">\n",
       "      <th></th>\n",
       "      <th>col1</th>\n",
       "      <th>col2</th>\n",
       "      <th>animal_type</th>\n",
       "    </tr>\n",
       "    <tr>\n",
       "      <th>letter</th>\n",
       "      <th></th>\n",
       "      <th></th>\n",
       "      <th></th>\n",
       "    </tr>\n",
       "  </thead>\n",
       "  <tbody>\n",
       "    <tr>\n",
       "      <th>a</th>\n",
       "      <td>0</td>\n",
       "      <td>1</td>\n",
       "      <td>cat</td>\n",
       "    </tr>\n",
       "    <tr>\n",
       "      <th>b</th>\n",
       "      <td>1</td>\n",
       "      <td>3</td>\n",
       "      <td>cat</td>\n",
       "    </tr>\n",
       "    <tr>\n",
       "      <th>c</th>\n",
       "      <td>2</td>\n",
       "      <td>5</td>\n",
       "      <td>cat</td>\n",
       "    </tr>\n",
       "    <tr>\n",
       "      <th>d</th>\n",
       "      <td>3</td>\n",
       "      <td>7</td>\n",
       "      <td>cat</td>\n",
       "    </tr>\n",
       "    <tr>\n",
       "      <th>e</th>\n",
       "      <td>4</td>\n",
       "      <td>9</td>\n",
       "      <td>cat</td>\n",
       "    </tr>\n",
       "    <tr>\n",
       "      <th>...</th>\n",
       "      <td>...</td>\n",
       "      <td>...</td>\n",
       "      <td>...</td>\n",
       "    </tr>\n",
       "    <tr>\n",
       "      <th>uuuu</th>\n",
       "      <td>95</td>\n",
       "      <td>191</td>\n",
       "      <td>dog</td>\n",
       "    </tr>\n",
       "    <tr>\n",
       "      <th>vvvv</th>\n",
       "      <td>96</td>\n",
       "      <td>193</td>\n",
       "      <td>dog</td>\n",
       "    </tr>\n",
       "    <tr>\n",
       "      <th>wwww</th>\n",
       "      <td>97</td>\n",
       "      <td>195</td>\n",
       "      <td>dog</td>\n",
       "    </tr>\n",
       "    <tr>\n",
       "      <th>xxxx</th>\n",
       "      <td>98</td>\n",
       "      <td>197</td>\n",
       "      <td>dog</td>\n",
       "    </tr>\n",
       "    <tr>\n",
       "      <th>yyyy</th>\n",
       "      <td>99</td>\n",
       "      <td>199</td>\n",
       "      <td>dog</td>\n",
       "    </tr>\n",
       "  </tbody>\n",
       "</table>\n",
       "<p>100 rows × 3 columns</p>\n",
       "</div>"
      ],
      "text/plain": [
       "        col1  col2 animal_type\n",
       "letter                        \n",
       "a          0     1         cat\n",
       "b          1     3         cat\n",
       "c          2     5         cat\n",
       "d          3     7         cat\n",
       "e          4     9         cat\n",
       "...      ...   ...         ...\n",
       "uuuu      95   191         dog\n",
       "vvvv      96   193         dog\n",
       "wwww      97   195         dog\n",
       "xxxx      98   197         dog\n",
       "yyyy      99   199         dog\n",
       "\n",
       "[100 rows x 3 columns]"
      ]
     },
     "execution_count": 39,
     "metadata": {},
     "output_type": "execute_result"
    }
   ],
   "source": [
    "sample_df_from_lists['animal_type'] = animal_type\n",
    "sample_df_from_lists"
   ]
  },
  {
   "cell_type": "code",
   "execution_count": 40,
   "id": "7f18c3f0",
   "metadata": {},
   "outputs": [
    {
     "data": {
      "text/html": [
       "<div>\n",
       "<style scoped>\n",
       "    .dataframe tbody tr th:only-of-type {\n",
       "        vertical-align: middle;\n",
       "    }\n",
       "\n",
       "    .dataframe tbody tr th {\n",
       "        vertical-align: top;\n",
       "    }\n",
       "\n",
       "    .dataframe thead th {\n",
       "        text-align: right;\n",
       "    }\n",
       "</style>\n",
       "<table border=\"1\" class=\"dataframe\">\n",
       "  <thead>\n",
       "    <tr style=\"text-align: right;\">\n",
       "      <th></th>\n",
       "      <th>col1</th>\n",
       "      <th>col2</th>\n",
       "    </tr>\n",
       "    <tr>\n",
       "      <th>animal_type</th>\n",
       "      <th></th>\n",
       "      <th></th>\n",
       "    </tr>\n",
       "  </thead>\n",
       "  <tbody>\n",
       "    <tr>\n",
       "      <th>cat</th>\n",
       "      <td>0</td>\n",
       "      <td>1</td>\n",
       "    </tr>\n",
       "    <tr>\n",
       "      <th>cat</th>\n",
       "      <td>1</td>\n",
       "      <td>3</td>\n",
       "    </tr>\n",
       "    <tr>\n",
       "      <th>cat</th>\n",
       "      <td>2</td>\n",
       "      <td>5</td>\n",
       "    </tr>\n",
       "    <tr>\n",
       "      <th>cat</th>\n",
       "      <td>3</td>\n",
       "      <td>7</td>\n",
       "    </tr>\n",
       "    <tr>\n",
       "      <th>cat</th>\n",
       "      <td>4</td>\n",
       "      <td>9</td>\n",
       "    </tr>\n",
       "    <tr>\n",
       "      <th>...</th>\n",
       "      <td>...</td>\n",
       "      <td>...</td>\n",
       "    </tr>\n",
       "    <tr>\n",
       "      <th>dog</th>\n",
       "      <td>95</td>\n",
       "      <td>191</td>\n",
       "    </tr>\n",
       "    <tr>\n",
       "      <th>dog</th>\n",
       "      <td>96</td>\n",
       "      <td>193</td>\n",
       "    </tr>\n",
       "    <tr>\n",
       "      <th>dog</th>\n",
       "      <td>97</td>\n",
       "      <td>195</td>\n",
       "    </tr>\n",
       "    <tr>\n",
       "      <th>dog</th>\n",
       "      <td>98</td>\n",
       "      <td>197</td>\n",
       "    </tr>\n",
       "    <tr>\n",
       "      <th>dog</th>\n",
       "      <td>99</td>\n",
       "      <td>199</td>\n",
       "    </tr>\n",
       "  </tbody>\n",
       "</table>\n",
       "<p>100 rows × 2 columns</p>\n",
       "</div>"
      ],
      "text/plain": [
       "             col1  col2\n",
       "animal_type            \n",
       "cat             0     1\n",
       "cat             1     3\n",
       "cat             2     5\n",
       "cat             3     7\n",
       "cat             4     9\n",
       "...           ...   ...\n",
       "dog            95   191\n",
       "dog            96   193\n",
       "dog            97   195\n",
       "dog            98   197\n",
       "dog            99   199\n",
       "\n",
       "[100 rows x 2 columns]"
      ]
     },
     "execution_count": 40,
     "metadata": {},
     "output_type": "execute_result"
    }
   ],
   "source": [
    "sample_df_from_lists.set_index('animal_type', inplace = True)\n",
    "sample_df_from_lists"
   ]
  },
  {
   "cell_type": "code",
   "execution_count": 42,
   "id": "c7523c0b",
   "metadata": {},
   "outputs": [
    {
     "name": "stdout",
     "output_type": "stream",
     "text": [
      "Index(['col1', 'col2'], dtype='object')\n"
     ]
    }
   ],
   "source": [
    "print(sample_df_from_lists.columns)"
   ]
  },
  {
   "cell_type": "code",
   "execution_count": 43,
   "id": "7cd44b21",
   "metadata": {},
   "outputs": [
    {
     "data": {
      "text/html": [
       "<div>\n",
       "<style scoped>\n",
       "    .dataframe tbody tr th:only-of-type {\n",
       "        vertical-align: middle;\n",
       "    }\n",
       "\n",
       "    .dataframe tbody tr th {\n",
       "        vertical-align: top;\n",
       "    }\n",
       "\n",
       "    .dataframe thead th {\n",
       "        text-align: right;\n",
       "    }\n",
       "</style>\n",
       "<table border=\"1\" class=\"dataframe\">\n",
       "  <thead>\n",
       "    <tr style=\"text-align: right;\">\n",
       "      <th></th>\n",
       "      <th>good</th>\n",
       "      <th>bad</th>\n",
       "    </tr>\n",
       "    <tr>\n",
       "      <th>animal_type</th>\n",
       "      <th></th>\n",
       "      <th></th>\n",
       "    </tr>\n",
       "  </thead>\n",
       "  <tbody>\n",
       "    <tr>\n",
       "      <th>cat</th>\n",
       "      <td>0</td>\n",
       "      <td>1</td>\n",
       "    </tr>\n",
       "    <tr>\n",
       "      <th>cat</th>\n",
       "      <td>1</td>\n",
       "      <td>3</td>\n",
       "    </tr>\n",
       "    <tr>\n",
       "      <th>cat</th>\n",
       "      <td>2</td>\n",
       "      <td>5</td>\n",
       "    </tr>\n",
       "    <tr>\n",
       "      <th>cat</th>\n",
       "      <td>3</td>\n",
       "      <td>7</td>\n",
       "    </tr>\n",
       "    <tr>\n",
       "      <th>cat</th>\n",
       "      <td>4</td>\n",
       "      <td>9</td>\n",
       "    </tr>\n",
       "  </tbody>\n",
       "</table>\n",
       "</div>"
      ],
      "text/plain": [
       "             good  bad\n",
       "animal_type           \n",
       "cat             0    1\n",
       "cat             1    3\n",
       "cat             2    5\n",
       "cat             3    7\n",
       "cat             4    9"
      ]
     },
     "execution_count": 43,
     "metadata": {},
     "output_type": "execute_result"
    }
   ],
   "source": [
    "sample_df_from_lists.columns = ['good','bad']\n",
    "sample_df_from_lists.head()"
   ]
  },
  {
   "cell_type": "code",
   "execution_count": 44,
   "id": "acdb225c",
   "metadata": {},
   "outputs": [
    {
     "data": {
      "text/html": [
       "<div>\n",
       "<style scoped>\n",
       "    .dataframe tbody tr th:only-of-type {\n",
       "        vertical-align: middle;\n",
       "    }\n",
       "\n",
       "    .dataframe tbody tr th {\n",
       "        vertical-align: top;\n",
       "    }\n",
       "\n",
       "    .dataframe thead th {\n",
       "        text-align: right;\n",
       "    }\n",
       "</style>\n",
       "<table border=\"1\" class=\"dataframe\">\n",
       "  <thead>\n",
       "    <tr style=\"text-align: right;\">\n",
       "      <th></th>\n",
       "      <th>good</th>\n",
       "      <th>bad</th>\n",
       "    </tr>\n",
       "    <tr>\n",
       "      <th>animal_type</th>\n",
       "      <th></th>\n",
       "      <th></th>\n",
       "    </tr>\n",
       "  </thead>\n",
       "  <tbody>\n",
       "    <tr>\n",
       "      <th>cat</th>\n",
       "      <td>0</td>\n",
       "      <td>1</td>\n",
       "    </tr>\n",
       "    <tr>\n",
       "      <th>cat</th>\n",
       "      <td>1</td>\n",
       "      <td>3</td>\n",
       "    </tr>\n",
       "    <tr>\n",
       "      <th>cat</th>\n",
       "      <td>2</td>\n",
       "      <td>5</td>\n",
       "    </tr>\n",
       "    <tr>\n",
       "      <th>cat</th>\n",
       "      <td>3</td>\n",
       "      <td>7</td>\n",
       "    </tr>\n",
       "    <tr>\n",
       "      <th>cat</th>\n",
       "      <td>4</td>\n",
       "      <td>9</td>\n",
       "    </tr>\n",
       "    <tr>\n",
       "      <th>cat</th>\n",
       "      <td>5</td>\n",
       "      <td>11</td>\n",
       "    </tr>\n",
       "    <tr>\n",
       "      <th>cat</th>\n",
       "      <td>6</td>\n",
       "      <td>13</td>\n",
       "    </tr>\n",
       "    <tr>\n",
       "      <th>cat</th>\n",
       "      <td>7</td>\n",
       "      <td>15</td>\n",
       "    </tr>\n",
       "    <tr>\n",
       "      <th>cat</th>\n",
       "      <td>8</td>\n",
       "      <td>17</td>\n",
       "    </tr>\n",
       "    <tr>\n",
       "      <th>cat</th>\n",
       "      <td>9</td>\n",
       "      <td>19</td>\n",
       "    </tr>\n",
       "  </tbody>\n",
       "</table>\n",
       "</div>"
      ],
      "text/plain": [
       "             good  bad\n",
       "animal_type           \n",
       "cat             0    1\n",
       "cat             1    3\n",
       "cat             2    5\n",
       "cat             3    7\n",
       "cat             4    9\n",
       "cat             5   11\n",
       "cat             6   13\n",
       "cat             7   15\n",
       "cat             8   17\n",
       "cat             9   19"
      ]
     },
     "execution_count": 44,
     "metadata": {},
     "output_type": "execute_result"
    }
   ],
   "source": [
    "sample_df_from_lists.loc['cat',:][:10]"
   ]
  },
  {
   "cell_type": "code",
   "execution_count": 45,
   "id": "a61d978d",
   "metadata": {},
   "outputs": [
    {
     "name": "stdout",
     "output_type": "stream",
     "text": [
      "good cats 1225\n",
      "good dogs 3725\n"
     ]
    }
   ],
   "source": [
    "print('good cats', sample_df_from_lists.loc['cat','good'].sum())\n",
    "print('good dogs', sample_df_from_lists.loc['dog','good'].sum())"
   ]
  },
  {
   "cell_type": "markdown",
   "id": "57d903f9",
   "metadata": {},
   "source": [
    "## Exercise 2.02 - Reading DataFrames and manipulating the index"
   ]
  },
  {
   "cell_type": "code",
   "execution_count": 47,
   "id": "08e88b02",
   "metadata": {},
   "outputs": [
    {
     "name": "stdout",
     "output_type": "stream",
     "text": [
      "            product  wholesale_price   msrp  qty_ordered  qty_shipped\n",
      "0     skippys_dream             8.99  18.38          100          100\n",
      "1     just_the_beef             4.99  10.43          200          195\n",
      "2  potatos_and_lamb             5.19  11.43           50           50\n",
      "          product  wholesale_price   msrp  qty_ordered  qty_shipped\n",
      "0     cat_delight             4.95   9.98           50            0\n",
      "1   tuna_surprise             7.17  15.27          100          100\n",
      "2  hint_of_catnip             3.99   8.23           25           25\n"
     ]
    }
   ],
   "source": [
    "dog_food_orders = pd.read_csv('Chapter2-Datasets/dog_food_orders.csv')\n",
    "cat_food_orders = pd.read_csv('Chapter2-Datasets/cat_food_orders.csv')\n",
    "print(dog_food_orders.head(3))\n",
    "print(cat_food_orders.head(3))\n"
   ]
  },
  {
   "cell_type": "code",
   "execution_count": 50,
   "id": "00338a69",
   "metadata": {},
   "outputs": [
    {
     "name": "stdout",
     "output_type": "stream",
     "text": [
      "            product  wholesale_price   msrp  qty_ordered  qty_shipped animal\n",
      "0     skippys_dream             8.99  18.38          100          100    dog\n",
      "1     just_the_beef             4.99  10.43          200          195    dog\n",
      "2  potatos_and_lamb             5.19  11.43           50           50    dog\n",
      "          product  wholesale_price   msrp  qty_ordered  qty_shipped animal\n",
      "0     cat_delight             4.95   9.98           50            0    cat\n",
      "1   tuna_surprise             7.17  15.27          100          100    cat\n",
      "2  hint_of_catnip             3.99   8.23           25           25    cat\n"
     ]
    }
   ],
   "source": [
    "dog_food_orders['animal'] = 'dog'\n",
    "cat_food_orders['animal'] = 'cat'\n",
    "print(dog_food_orders.head(3))\n",
    "print(cat_food_orders.head(3))"
   ]
  },
  {
   "cell_type": "code",
   "execution_count": 51,
   "id": "a5309ea9",
   "metadata": {},
   "outputs": [
    {
     "data": {
      "text/html": [
       "<div>\n",
       "<style scoped>\n",
       "    .dataframe tbody tr th:only-of-type {\n",
       "        vertical-align: middle;\n",
       "    }\n",
       "\n",
       "    .dataframe tbody tr th {\n",
       "        vertical-align: top;\n",
       "    }\n",
       "\n",
       "    .dataframe thead th {\n",
       "        text-align: right;\n",
       "    }\n",
       "</style>\n",
       "<table border=\"1\" class=\"dataframe\">\n",
       "  <thead>\n",
       "    <tr style=\"text-align: right;\">\n",
       "      <th></th>\n",
       "      <th>product</th>\n",
       "      <th>wholesale_price</th>\n",
       "      <th>msrp</th>\n",
       "      <th>qty_ordered</th>\n",
       "      <th>qty_shipped</th>\n",
       "      <th>animal</th>\n",
       "    </tr>\n",
       "  </thead>\n",
       "  <tbody>\n",
       "    <tr>\n",
       "      <th>0</th>\n",
       "      <td>skippys_dream</td>\n",
       "      <td>8.99</td>\n",
       "      <td>18.38</td>\n",
       "      <td>100</td>\n",
       "      <td>100</td>\n",
       "      <td>dog</td>\n",
       "    </tr>\n",
       "    <tr>\n",
       "      <th>1</th>\n",
       "      <td>just_the_beef</td>\n",
       "      <td>4.99</td>\n",
       "      <td>10.43</td>\n",
       "      <td>200</td>\n",
       "      <td>195</td>\n",
       "      <td>dog</td>\n",
       "    </tr>\n",
       "    <tr>\n",
       "      <th>2</th>\n",
       "      <td>potatos_and_lamb</td>\n",
       "      <td>5.19</td>\n",
       "      <td>11.43</td>\n",
       "      <td>50</td>\n",
       "      <td>50</td>\n",
       "      <td>dog</td>\n",
       "    </tr>\n",
       "    <tr>\n",
       "      <th>3</th>\n",
       "      <td>turkey_and_cranberries</td>\n",
       "      <td>5.98</td>\n",
       "      <td>12.00</td>\n",
       "      <td>50</td>\n",
       "      <td>50</td>\n",
       "      <td>dog</td>\n",
       "    </tr>\n",
       "    <tr>\n",
       "      <th>4</th>\n",
       "      <td>roasted_duck</td>\n",
       "      <td>9.59</td>\n",
       "      <td>17.48</td>\n",
       "      <td>15</td>\n",
       "      <td>15</td>\n",
       "      <td>dog</td>\n",
       "    </tr>\n",
       "    <tr>\n",
       "      <th>0</th>\n",
       "      <td>cat_delight</td>\n",
       "      <td>4.95</td>\n",
       "      <td>9.98</td>\n",
       "      <td>50</td>\n",
       "      <td>0</td>\n",
       "      <td>cat</td>\n",
       "    </tr>\n",
       "    <tr>\n",
       "      <th>1</th>\n",
       "      <td>tuna_surprise</td>\n",
       "      <td>7.17</td>\n",
       "      <td>15.27</td>\n",
       "      <td>100</td>\n",
       "      <td>100</td>\n",
       "      <td>cat</td>\n",
       "    </tr>\n",
       "    <tr>\n",
       "      <th>2</th>\n",
       "      <td>hint_of_catnip</td>\n",
       "      <td>3.99</td>\n",
       "      <td>8.23</td>\n",
       "      <td>25</td>\n",
       "      <td>25</td>\n",
       "      <td>cat</td>\n",
       "    </tr>\n",
       "    <tr>\n",
       "      <th>3</th>\n",
       "      <td>roast_chicken</td>\n",
       "      <td>5.57</td>\n",
       "      <td>12.08</td>\n",
       "      <td>30</td>\n",
       "      <td>30</td>\n",
       "      <td>cat</td>\n",
       "    </tr>\n",
       "    <tr>\n",
       "      <th>4</th>\n",
       "      <td>lamb_w_rice</td>\n",
       "      <td>5.83</td>\n",
       "      <td>11.68</td>\n",
       "      <td>30</td>\n",
       "      <td>30</td>\n",
       "      <td>cat</td>\n",
       "    </tr>\n",
       "  </tbody>\n",
       "</table>\n",
       "</div>"
      ],
      "text/plain": [
       "                  product  wholesale_price   msrp  qty_ordered  qty_shipped  \\\n",
       "0           skippys_dream             8.99  18.38          100          100   \n",
       "1           just_the_beef             4.99  10.43          200          195   \n",
       "2        potatos_and_lamb             5.19  11.43           50           50   \n",
       "3  turkey_and_cranberries             5.98  12.00           50           50   \n",
       "4            roasted_duck             9.59  17.48           15           15   \n",
       "0             cat_delight             4.95   9.98           50            0   \n",
       "1           tuna_surprise             7.17  15.27          100          100   \n",
       "2          hint_of_catnip             3.99   8.23           25           25   \n",
       "3           roast_chicken             5.57  12.08           30           30   \n",
       "4             lamb_w_rice             5.83  11.68           30           30   \n",
       "\n",
       "  animal  \n",
       "0    dog  \n",
       "1    dog  \n",
       "2    dog  \n",
       "3    dog  \n",
       "4    dog  \n",
       "0    cat  \n",
       "1    cat  \n",
       "2    cat  \n",
       "3    cat  \n",
       "4    cat  "
      ]
     },
     "execution_count": 51,
     "metadata": {},
     "output_type": "execute_result"
    }
   ],
   "source": [
    "orders = pd.concat([dog_food_orders, cat_food_orders], axis=0)\n",
    "orders"
   ]
  },
  {
   "cell_type": "code",
   "execution_count": 52,
   "id": "ba80c585",
   "metadata": {},
   "outputs": [
    {
     "data": {
      "text/html": [
       "<div>\n",
       "<style scoped>\n",
       "    .dataframe tbody tr th:only-of-type {\n",
       "        vertical-align: middle;\n",
       "    }\n",
       "\n",
       "    .dataframe tbody tr th {\n",
       "        vertical-align: top;\n",
       "    }\n",
       "\n",
       "    .dataframe thead th {\n",
       "        text-align: right;\n",
       "    }\n",
       "</style>\n",
       "<table border=\"1\" class=\"dataframe\">\n",
       "  <thead>\n",
       "    <tr style=\"text-align: right;\">\n",
       "      <th></th>\n",
       "      <th>product</th>\n",
       "      <th>wholesale_price</th>\n",
       "      <th>msrp</th>\n",
       "      <th>qty_ordered</th>\n",
       "      <th>qty_shipped</th>\n",
       "    </tr>\n",
       "    <tr>\n",
       "      <th>animal</th>\n",
       "      <th></th>\n",
       "      <th></th>\n",
       "      <th></th>\n",
       "      <th></th>\n",
       "      <th></th>\n",
       "    </tr>\n",
       "  </thead>\n",
       "  <tbody>\n",
       "    <tr>\n",
       "      <th>dog</th>\n",
       "      <td>skippys_dream</td>\n",
       "      <td>8.99</td>\n",
       "      <td>18.38</td>\n",
       "      <td>100</td>\n",
       "      <td>100</td>\n",
       "    </tr>\n",
       "    <tr>\n",
       "      <th>dog</th>\n",
       "      <td>just_the_beef</td>\n",
       "      <td>4.99</td>\n",
       "      <td>10.43</td>\n",
       "      <td>200</td>\n",
       "      <td>195</td>\n",
       "    </tr>\n",
       "    <tr>\n",
       "      <th>dog</th>\n",
       "      <td>potatos_and_lamb</td>\n",
       "      <td>5.19</td>\n",
       "      <td>11.43</td>\n",
       "      <td>50</td>\n",
       "      <td>50</td>\n",
       "    </tr>\n",
       "    <tr>\n",
       "      <th>dog</th>\n",
       "      <td>turkey_and_cranberries</td>\n",
       "      <td>5.98</td>\n",
       "      <td>12.00</td>\n",
       "      <td>50</td>\n",
       "      <td>50</td>\n",
       "    </tr>\n",
       "    <tr>\n",
       "      <th>dog</th>\n",
       "      <td>roasted_duck</td>\n",
       "      <td>9.59</td>\n",
       "      <td>17.48</td>\n",
       "      <td>15</td>\n",
       "      <td>15</td>\n",
       "    </tr>\n",
       "    <tr>\n",
       "      <th>cat</th>\n",
       "      <td>cat_delight</td>\n",
       "      <td>4.95</td>\n",
       "      <td>9.98</td>\n",
       "      <td>50</td>\n",
       "      <td>0</td>\n",
       "    </tr>\n",
       "    <tr>\n",
       "      <th>cat</th>\n",
       "      <td>tuna_surprise</td>\n",
       "      <td>7.17</td>\n",
       "      <td>15.27</td>\n",
       "      <td>100</td>\n",
       "      <td>100</td>\n",
       "    </tr>\n",
       "    <tr>\n",
       "      <th>cat</th>\n",
       "      <td>hint_of_catnip</td>\n",
       "      <td>3.99</td>\n",
       "      <td>8.23</td>\n",
       "      <td>25</td>\n",
       "      <td>25</td>\n",
       "    </tr>\n",
       "    <tr>\n",
       "      <th>cat</th>\n",
       "      <td>roast_chicken</td>\n",
       "      <td>5.57</td>\n",
       "      <td>12.08</td>\n",
       "      <td>30</td>\n",
       "      <td>30</td>\n",
       "    </tr>\n",
       "    <tr>\n",
       "      <th>cat</th>\n",
       "      <td>lamb_w_rice</td>\n",
       "      <td>5.83</td>\n",
       "      <td>11.68</td>\n",
       "      <td>30</td>\n",
       "      <td>30</td>\n",
       "    </tr>\n",
       "  </tbody>\n",
       "</table>\n",
       "</div>"
      ],
      "text/plain": [
       "                       product  wholesale_price   msrp  qty_ordered  \\\n",
       "animal                                                                \n",
       "dog              skippys_dream             8.99  18.38          100   \n",
       "dog              just_the_beef             4.99  10.43          200   \n",
       "dog           potatos_and_lamb             5.19  11.43           50   \n",
       "dog     turkey_and_cranberries             5.98  12.00           50   \n",
       "dog               roasted_duck             9.59  17.48           15   \n",
       "cat                cat_delight             4.95   9.98           50   \n",
       "cat              tuna_surprise             7.17  15.27          100   \n",
       "cat             hint_of_catnip             3.99   8.23           25   \n",
       "cat              roast_chicken             5.57  12.08           30   \n",
       "cat                lamb_w_rice             5.83  11.68           30   \n",
       "\n",
       "        qty_shipped  \n",
       "animal               \n",
       "dog             100  \n",
       "dog             195  \n",
       "dog              50  \n",
       "dog              50  \n",
       "dog              15  \n",
       "cat               0  \n",
       "cat             100  \n",
       "cat              25  \n",
       "cat              30  \n",
       "cat              30  "
      ]
     },
     "execution_count": 52,
     "metadata": {},
     "output_type": "execute_result"
    }
   ],
   "source": [
    "orders.set_index('animal', inplace = True)\n",
    "orders"
   ]
  },
  {
   "cell_type": "code",
   "execution_count": 55,
   "id": "fc1e4132",
   "metadata": {},
   "outputs": [
    {
     "name": "stdout",
     "output_type": "stream",
     "text": [
      "cat food orders due: 1158.75 \n",
      "dog food orders due:  2574.4\n"
     ]
    }
   ],
   "source": [
    "orders['net_due']= (orders['wholesale_price']*orders['qty_shipped'])\n",
    "print ('cat food orders due:',orders.loc['cat','net_due'].sum(),'\\ndog food orders due: ',orders.loc['dog','net_due'].sum())"
   ]
  },
  {
   "cell_type": "markdown",
   "id": "e1c1bf06",
   "metadata": {},
   "source": [
    "## Working with columns"
   ]
  },
  {
   "cell_type": "code",
   "execution_count": 58,
   "id": "40b82c66",
   "metadata": {},
   "outputs": [
    {
     "data": {
      "text/plain": [
       "Index(['col1', 'col2'], dtype='object')"
      ]
     },
     "execution_count": 58,
     "metadata": {},
     "output_type": "execute_result"
    }
   ],
   "source": [
    "food_taste = pd.DataFrame(data=np.array([[60,3.5],[40,8]]), columns= ['col1','col2'])\n",
    "food_taste.columns"
   ]
  },
  {
   "cell_type": "code",
   "execution_count": 60,
   "id": "1fcf0946",
   "metadata": {},
   "outputs": [
    {
     "data": {
      "text/plain": [
       "Index(['col1', 'col2'], dtype='object')"
      ]
     },
     "execution_count": 60,
     "metadata": {},
     "output_type": "execute_result"
    }
   ],
   "source": [
    "food_columns = food_taste.columns\n",
    "food_columns"
   ]
  },
  {
   "cell_type": "code",
   "execution_count": 61,
   "id": "0071a1ff",
   "metadata": {},
   "outputs": [
    {
     "data": {
      "text/plain": [
       "['col1', 'col2']"
      ]
     },
     "execution_count": 61,
     "metadata": {},
     "output_type": "execute_result"
    }
   ],
   "source": [
    "food_columns = list(food_columns)\n",
    "food_columns"
   ]
  },
  {
   "cell_type": "code",
   "execution_count": 63,
   "id": "62221f7f",
   "metadata": {},
   "outputs": [
    {
     "data": {
      "text/html": [
       "<div>\n",
       "<style scoped>\n",
       "    .dataframe tbody tr th:only-of-type {\n",
       "        vertical-align: middle;\n",
       "    }\n",
       "\n",
       "    .dataframe tbody tr th {\n",
       "        vertical-align: top;\n",
       "    }\n",
       "\n",
       "    .dataframe thead th {\n",
       "        text-align: right;\n",
       "    }\n",
       "</style>\n",
       "<table border=\"1\" class=\"dataframe\">\n",
       "  <thead>\n",
       "    <tr style=\"text-align: right;\">\n",
       "      <th></th>\n",
       "      <th>food_consumption</th>\n",
       "      <th>taste_index</th>\n",
       "    </tr>\n",
       "  </thead>\n",
       "  <tbody>\n",
       "    <tr>\n",
       "      <th>0</th>\n",
       "      <td>60.0</td>\n",
       "      <td>3.5</td>\n",
       "    </tr>\n",
       "    <tr>\n",
       "      <th>1</th>\n",
       "      <td>40.0</td>\n",
       "      <td>8.0</td>\n",
       "    </tr>\n",
       "  </tbody>\n",
       "</table>\n",
       "</div>"
      ],
      "text/plain": [
       "   food_consumption  taste_index\n",
       "0              60.0          3.5\n",
       "1              40.0          8.0"
      ]
     },
     "execution_count": 63,
     "metadata": {},
     "output_type": "execute_result"
    }
   ],
   "source": [
    "food_taste.rename({'col1':'food_consumption','col2': 'taste_index'}, axis = 1, inplace = True)\n",
    "food_taste"
   ]
  },
  {
   "cell_type": "code",
   "execution_count": 64,
   "id": "7e54d8aa",
   "metadata": {},
   "outputs": [
    {
     "data": {
      "text/html": [
       "<div>\n",
       "<style scoped>\n",
       "    .dataframe tbody tr th:only-of-type {\n",
       "        vertical-align: middle;\n",
       "    }\n",
       "\n",
       "    .dataframe tbody tr th {\n",
       "        vertical-align: top;\n",
       "    }\n",
       "\n",
       "    .dataframe thead th {\n",
       "        text-align: right;\n",
       "    }\n",
       "</style>\n",
       "<table border=\"1\" class=\"dataframe\">\n",
       "  <thead>\n",
       "    <tr style=\"text-align: right;\">\n",
       "      <th></th>\n",
       "      <th>food_cons</th>\n",
       "      <th>taste</th>\n",
       "    </tr>\n",
       "  </thead>\n",
       "  <tbody>\n",
       "    <tr>\n",
       "      <th>0</th>\n",
       "      <td>60.0</td>\n",
       "      <td>3.5</td>\n",
       "    </tr>\n",
       "    <tr>\n",
       "      <th>1</th>\n",
       "      <td>40.0</td>\n",
       "      <td>8.0</td>\n",
       "    </tr>\n",
       "  </tbody>\n",
       "</table>\n",
       "</div>"
      ],
      "text/plain": [
       "   food_cons  taste\n",
       "0       60.0    3.5\n",
       "1       40.0    8.0"
      ]
     },
     "execution_count": 64,
     "metadata": {},
     "output_type": "execute_result"
    }
   ],
   "source": [
    "food_taste.columns = ['food_cons','taste']\n",
    "food_taste"
   ]
  },
  {
   "cell_type": "markdown",
   "id": "0b3bc6df",
   "metadata": {},
   "source": [
    "## Series"
   ]
  },
  {
   "cell_type": "code",
   "execution_count": 65,
   "id": "c50629a7",
   "metadata": {},
   "outputs": [
    {
     "data": {
      "text/plain": [
       "pandas.core.series.Series"
      ]
     },
     "execution_count": 65,
     "metadata": {},
     "output_type": "execute_result"
    }
   ],
   "source": [
    "type(food_taste['food_cons'])"
   ]
  },
  {
   "cell_type": "code",
   "execution_count": 66,
   "id": "45b16da3",
   "metadata": {},
   "outputs": [],
   "source": [
    "?pd.Series"
   ]
  },
  {
   "cell_type": "markdown",
   "id": "db91b2ce",
   "metadata": {},
   "source": [
    "## The Series Index"
   ]
  },
  {
   "cell_type": "code",
   "execution_count": 67,
   "id": "d88fa4ee",
   "metadata": {},
   "outputs": [
    {
     "name": "stderr",
     "output_type": "stream",
     "text": [
      "C:\\Users\\miran\\AppData\\Local\\Temp\\ipykernel_10816\\1575587722.py:1: FutureWarning: The squeeze argument has been deprecated and will be removed in a future version. Append .squeeze(\"columns\") to the call to squeeze.\n",
      "\n",
      "\n",
      "  noisy_series = pd.read_csv('Chapter2-Datasets/noisy_series.csv', squeeze= True)\n"
     ]
    }
   ],
   "source": [
    "noisy_series = pd.read_csv('Chapter2-Datasets/noisy_series.csv', squeeze= True)"
   ]
  },
  {
   "cell_type": "code",
   "execution_count": 69,
   "id": "a77ba23d",
   "metadata": {},
   "outputs": [
    {
     "data": {
      "text/plain": [
       "<AxesSubplot:>"
      ]
     },
     "execution_count": 69,
     "metadata": {},
     "output_type": "execute_result"
    },
    {
     "data": {
      "image/png": "[encoded data removed]",
      "text/plain": [
       "<Figure size 640x480 with 1 Axes>"
      ]
     },
     "metadata": {},
     "output_type": "display_data"
    }
   ],
   "source": [
    "noisy_series.plot()"
   ]
  },
  {
   "cell_type": "code",
   "execution_count": 71,
   "id": "976967df",
   "metadata": {},
   "outputs": [
    {
     "name": "stdout",
     "output_type": "stream",
     "text": [
      "(3330,)\n",
      "RangeIndex(start=0, stop=3330, step=1)\n"
     ]
    }
   ],
   "source": [
    "print(noisy_series.shape)\n",
    "print(noisy_series.index)"
   ]
  },
  {
   "cell_type": "code",
   "execution_count": 72,
   "id": "4ced7f73",
   "metadata": {},
   "outputs": [
    {
     "data": {
      "text/plain": [
       "0    0\n",
       "1    1\n",
       "2    2\n",
       "3    3\n",
       "4    4\n",
       "dtype: int64"
      ]
     },
     "execution_count": 72,
     "metadata": {},
     "output_type": "execute_result"
    }
   ],
   "source": [
    "my_series= pd.Series(range(26))\n",
    "my_series.head()"
   ]
  },
  {
   "cell_type": "code",
   "execution_count": 73,
   "id": "ebe54490",
   "metadata": {},
   "outputs": [
    {
     "name": "stdout",
     "output_type": "stream",
     "text": [
      "0    a\n",
      "1    b\n",
      "2    c\n",
      "3    d\n",
      "4    e\n",
      "dtype: object \n",
      " 21    v\n",
      "22    w\n",
      "23    x\n",
      "24    y\n",
      "25    z\n",
      "dtype: object\n"
     ]
    }
   ],
   "source": [
    "letters=pd.Series(map(chr,range(97,123)))\n",
    "print(letters.head(),'\\n',letters.tail())"
   ]
  },
  {
   "cell_type": "code",
   "execution_count": 75,
   "id": "093799f4",
   "metadata": {},
   "outputs": [
    {
     "data": {
      "text/plain": [
       "n    13\n",
       "o    14\n",
       "p    15\n",
       "q    16\n",
       "r    17\n",
       "s    18\n",
       "t    19\n",
       "u    20\n",
       "v    21\n",
       "w    22\n",
       "x    23\n",
       "y    24\n",
       "z    25\n",
       "dtype: int64"
      ]
     },
     "execution_count": 75,
     "metadata": {},
     "output_type": "execute_result"
    }
   ],
   "source": [
    "my_series.index = letters\n",
    "my_series[13:27]"
   ]
  },
  {
   "cell_type": "code",
   "execution_count": 76,
   "id": "0dacb578",
   "metadata": {},
   "outputs": [
    {
     "data": {
      "text/plain": [
       "0                  1\n",
       "1                cat\n",
       "2          yesterday\n",
       "3          [1, 2, 3]\n",
       "4    (0, 1, 2, 3, 4)\n",
       "dtype: object"
      ]
     },
     "execution_count": 76,
     "metadata": {},
     "output_type": "execute_result"
    }
   ],
   "source": [
    "my_mixed_series = pd.Series([1,'cat','yesterday',[1,2,3],range(5)])\n",
    "my_mixed_series"
   ]
  },
  {
   "cell_type": "code",
   "execution_count": 77,
   "id": "0e91ce89",
   "metadata": {},
   "outputs": [
    {
     "name": "stdout",
     "output_type": "stream",
     "text": [
      "1  is type  <class 'int'>\n",
      "cat  is type  <class 'str'>\n",
      "yesterday  is type  <class 'str'>\n",
      "[1, 2, 3]  is type  <class 'list'>\n",
      "range(0, 5)  is type  <class 'range'>\n"
     ]
    }
   ],
   "source": [
    "for i in my_mixed_series.index:\n",
    "    print(my_mixed_series[i],' is type ',type( my_mixed_series[i]))"
   ]
  },
  {
   "cell_type": "markdown",
   "id": "1ea5a77e",
   "metadata": {},
   "source": [
    "## Exercise 2.03 - Series to DataFrames"
   ]
  },
  {
   "cell_type": "code",
   "execution_count": 78,
   "id": "e30b0f49",
   "metadata": {},
   "outputs": [
    {
     "name": "stderr",
     "output_type": "stream",
     "text": [
      "C:\\Users\\miran\\AppData\\Local\\Temp\\ipykernel_10816\\1134639006.py:2: FutureWarning: The squeeze argument has been deprecated and will be removed in a future version. Append .squeeze(\"columns\") to the call to squeeze.\n",
      "\n",
      "\n",
      "  my_series = pd.read_csv(fname,squeeze = True)\n"
     ]
    },
    {
     "data": {
      "text/plain": [
       "0     -0.161666\n",
       "1     -0.487261\n",
       "2     -0.392687\n",
       "3     -0.489594\n",
       "4     -0.334385\n",
       "         ...   \n",
       "360   -0.386292\n",
       "361   -0.311027\n",
       "362   -0.437957\n",
       "363   -0.569164\n",
       "364   -0.727658\n",
       "Name: data, Length: 365, dtype: float64"
      ]
     },
     "execution_count": 78,
     "metadata": {},
     "output_type": "execute_result"
    }
   ],
   "source": [
    "fname = 'Chapter2-Datasets/test_series.csv'\n",
    "my_series = pd.read_csv(fname,squeeze = True)\n",
    "my_series"
   ]
  },
  {
   "cell_type": "code",
   "execution_count": 79,
   "id": "834a95a1",
   "metadata": {},
   "outputs": [
    {
     "data": {
      "text/plain": [
       "pandas.core.series.Series"
      ]
     },
     "execution_count": 79,
     "metadata": {},
     "output_type": "execute_result"
    }
   ],
   "source": [
    "type(my_series)"
   ]
  },
  {
   "cell_type": "code",
   "execution_count": 80,
   "id": "ce020bf0",
   "metadata": {},
   "outputs": [
    {
     "data": {
      "text/plain": [
       "0      0.000000\n",
       "1      0.068242\n",
       "2      0.136167\n",
       "3      0.203456\n",
       "4      0.269797\n",
       "         ...   \n",
       "360   -0.519584\n",
       "361   -0.460065\n",
       "362   -0.398401\n",
       "363   -0.334880\n",
       "364   -0.269797\n",
       "Length: 365, dtype: float64"
      ]
     },
     "execution_count": 80,
     "metadata": {},
     "output_type": "execute_result"
    }
   ],
   "source": [
    "new_series = (pd.Series(np.sin((my_series.index)*2*np.pi/92)))\n",
    "new_series"
   ]
  },
  {
   "cell_type": "code",
   "execution_count": 81,
   "id": "f6262339",
   "metadata": {},
   "outputs": [
    {
     "data": {
      "text/html": [
       "<div>\n",
       "<style scoped>\n",
       "    .dataframe tbody tr th:only-of-type {\n",
       "        vertical-align: middle;\n",
       "    }\n",
       "\n",
       "    .dataframe tbody tr th {\n",
       "        vertical-align: top;\n",
       "    }\n",
       "\n",
       "    .dataframe thead th {\n",
       "        text-align: right;\n",
       "    }\n",
       "</style>\n",
       "<table border=\"1\" class=\"dataframe\">\n",
       "  <thead>\n",
       "    <tr style=\"text-align: right;\">\n",
       "      <th></th>\n",
       "      <th>col1</th>\n",
       "      <th>col2</th>\n",
       "    </tr>\n",
       "  </thead>\n",
       "  <tbody>\n",
       "    <tr>\n",
       "      <th>0</th>\n",
       "      <td>-0.161666</td>\n",
       "      <td>0.000000</td>\n",
       "    </tr>\n",
       "    <tr>\n",
       "      <th>1</th>\n",
       "      <td>-0.487261</td>\n",
       "      <td>0.068242</td>\n",
       "    </tr>\n",
       "    <tr>\n",
       "      <th>2</th>\n",
       "      <td>-0.392687</td>\n",
       "      <td>0.136167</td>\n",
       "    </tr>\n",
       "    <tr>\n",
       "      <th>3</th>\n",
       "      <td>-0.489594</td>\n",
       "      <td>0.203456</td>\n",
       "    </tr>\n",
       "    <tr>\n",
       "      <th>4</th>\n",
       "      <td>-0.334385</td>\n",
       "      <td>0.269797</td>\n",
       "    </tr>\n",
       "  </tbody>\n",
       "</table>\n",
       "</div>"
      ],
      "text/plain": [
       "       col1      col2\n",
       "0 -0.161666  0.000000\n",
       "1 -0.487261  0.068242\n",
       "2 -0.392687  0.136167\n",
       "3 -0.489594  0.203456\n",
       "4 -0.334385  0.269797"
      ]
     },
     "execution_count": 81,
     "metadata": {},
     "output_type": "execute_result"
    }
   ],
   "source": [
    "model_data = pd.DataFrame({'col1':my_series,'col2': new_series})\n",
    "model_data.head()"
   ]
  },
  {
   "cell_type": "code",
   "execution_count": 82,
   "id": "20646610",
   "metadata": {},
   "outputs": [],
   "source": [
    "model_data.to_csv('Chapter2-Datasets/model_data.csv', index = None)"
   ]
  },
  {
   "cell_type": "markdown",
   "id": "a12e1445",
   "metadata": {},
   "source": [
    "## Using time as the Index"
   ]
  },
  {
   "cell_type": "code",
   "execution_count": 88,
   "id": "412806ac",
   "metadata": {},
   "outputs": [
    {
     "data": {
      "text/html": [
       "<div>\n",
       "<style scoped>\n",
       "    .dataframe tbody tr th:only-of-type {\n",
       "        vertical-align: middle;\n",
       "    }\n",
       "\n",
       "    .dataframe tbody tr th {\n",
       "        vertical-align: top;\n",
       "    }\n",
       "\n",
       "    .dataframe thead th {\n",
       "        text-align: right;\n",
       "    }\n",
       "</style>\n",
       "<table border=\"1\" class=\"dataframe\">\n",
       "  <thead>\n",
       "    <tr style=\"text-align: right;\">\n",
       "      <th></th>\n",
       "      <th>date</th>\n",
       "      <th>data</th>\n",
       "    </tr>\n",
       "  </thead>\n",
       "  <tbody>\n",
       "    <tr>\n",
       "      <th>0</th>\n",
       "      <td>2017-01-01</td>\n",
       "      <td>0</td>\n",
       "    </tr>\n",
       "    <tr>\n",
       "      <th>1</th>\n",
       "      <td>2017-01-02</td>\n",
       "      <td>1</td>\n",
       "    </tr>\n",
       "    <tr>\n",
       "      <th>2</th>\n",
       "      <td>2017-01-03</td>\n",
       "      <td>2</td>\n",
       "    </tr>\n",
       "    <tr>\n",
       "      <th>3</th>\n",
       "      <td>2017-01-04</td>\n",
       "      <td>3</td>\n",
       "    </tr>\n",
       "    <tr>\n",
       "      <th>4</th>\n",
       "      <td>2017-01-05</td>\n",
       "      <td>4</td>\n",
       "    </tr>\n",
       "    <tr>\n",
       "      <th>5</th>\n",
       "      <td>2017-01-06</td>\n",
       "      <td>5</td>\n",
       "    </tr>\n",
       "  </tbody>\n",
       "</table>\n",
       "</div>"
      ],
      "text/plain": [
       "         date  data\n",
       "0  2017-01-01     0\n",
       "1  2017-01-02     1\n",
       "2  2017-01-03     2\n",
       "3  2017-01-04     3\n",
       "4  2017-01-05     4\n",
       "5  2017-01-06     5"
      ]
     },
     "execution_count": 88,
     "metadata": {},
     "output_type": "execute_result"
    }
   ],
   "source": [
    "dates = pd.Series(['2017-01-01','2017-01-02', '2017-01-03', '2017-01-04', '2017-01-05', '2017-01-06'])\n",
    "time_series = pd.Series(range(6))\n",
    "time_series_df = pd.DataFrame({'date':dates,'data': time_series})\n",
    "time_series_df"
   ]
  },
  {
   "cell_type": "code",
   "execution_count": 89,
   "id": "d8d677a6",
   "metadata": {},
   "outputs": [
    {
     "data": {
      "text/plain": [
       "str"
      ]
     },
     "execution_count": 89,
     "metadata": {},
     "output_type": "execute_result"
    }
   ],
   "source": [
    "type(time_series_df['date'][0])"
   ]
  },
  {
   "cell_type": "code",
   "execution_count": 90,
   "id": "89421d15",
   "metadata": {},
   "outputs": [
    {
     "data": {
      "text/plain": [
       "pandas._libs.tslibs.timestamps.Timestamp"
      ]
     },
     "execution_count": 90,
     "metadata": {},
     "output_type": "execute_result"
    }
   ],
   "source": [
    "time_series_df['date']= pd.to_datetime(time_series_df['date'])\n",
    "type(time_series_df['date'][0])"
   ]
  },
  {
   "cell_type": "code",
   "execution_count": 91,
   "id": "500738bd",
   "metadata": {},
   "outputs": [
    {
     "data": {
      "text/html": [
       "<div>\n",
       "<style scoped>\n",
       "    .dataframe tbody tr th:only-of-type {\n",
       "        vertical-align: middle;\n",
       "    }\n",
       "\n",
       "    .dataframe tbody tr th {\n",
       "        vertical-align: top;\n",
       "    }\n",
       "\n",
       "    .dataframe thead th {\n",
       "        text-align: right;\n",
       "    }\n",
       "</style>\n",
       "<table border=\"1\" class=\"dataframe\">\n",
       "  <thead>\n",
       "    <tr style=\"text-align: right;\">\n",
       "      <th></th>\n",
       "      <th>data</th>\n",
       "    </tr>\n",
       "    <tr>\n",
       "      <th>date</th>\n",
       "      <th></th>\n",
       "    </tr>\n",
       "  </thead>\n",
       "  <tbody>\n",
       "    <tr>\n",
       "      <th>2017-01-01</th>\n",
       "      <td>0</td>\n",
       "    </tr>\n",
       "    <tr>\n",
       "      <th>2017-01-02</th>\n",
       "      <td>1</td>\n",
       "    </tr>\n",
       "    <tr>\n",
       "      <th>2017-01-03</th>\n",
       "      <td>2</td>\n",
       "    </tr>\n",
       "    <tr>\n",
       "      <th>2017-01-04</th>\n",
       "      <td>3</td>\n",
       "    </tr>\n",
       "    <tr>\n",
       "      <th>2017-01-05</th>\n",
       "      <td>4</td>\n",
       "    </tr>\n",
       "    <tr>\n",
       "      <th>2017-01-06</th>\n",
       "      <td>5</td>\n",
       "    </tr>\n",
       "  </tbody>\n",
       "</table>\n",
       "</div>"
      ],
      "text/plain": [
       "            data\n",
       "date            \n",
       "2017-01-01     0\n",
       "2017-01-02     1\n",
       "2017-01-03     2\n",
       "2017-01-04     3\n",
       "2017-01-05     4\n",
       "2017-01-06     5"
      ]
     },
     "execution_count": 91,
     "metadata": {},
     "output_type": "execute_result"
    }
   ],
   "source": [
    "time_series_df.set_index('date',inplace=True)\n",
    "time_series_df"
   ]
  },
  {
   "cell_type": "code",
   "execution_count": 92,
   "id": "7fe406be",
   "metadata": {},
   "outputs": [
    {
     "data": {
      "text/html": [
       "<div>\n",
       "<style scoped>\n",
       "    .dataframe tbody tr th:only-of-type {\n",
       "        vertical-align: middle;\n",
       "    }\n",
       "\n",
       "    .dataframe tbody tr th {\n",
       "        vertical-align: top;\n",
       "    }\n",
       "\n",
       "    .dataframe thead th {\n",
       "        text-align: right;\n",
       "    }\n",
       "</style>\n",
       "<table border=\"1\" class=\"dataframe\">\n",
       "  <thead>\n",
       "    <tr style=\"text-align: right;\">\n",
       "      <th></th>\n",
       "      <th>data</th>\n",
       "    </tr>\n",
       "    <tr>\n",
       "      <th>date</th>\n",
       "      <th></th>\n",
       "    </tr>\n",
       "  </thead>\n",
       "  <tbody>\n",
       "    <tr>\n",
       "      <th>2017-01-01 00:00:00</th>\n",
       "      <td>0.0</td>\n",
       "    </tr>\n",
       "    <tr>\n",
       "      <th>2017-01-01 12:00:00</th>\n",
       "      <td>0.5</td>\n",
       "    </tr>\n",
       "    <tr>\n",
       "      <th>2017-01-02 00:00:00</th>\n",
       "      <td>1.0</td>\n",
       "    </tr>\n",
       "    <tr>\n",
       "      <th>2017-01-02 12:00:00</th>\n",
       "      <td>1.5</td>\n",
       "    </tr>\n",
       "    <tr>\n",
       "      <th>2017-01-03 00:00:00</th>\n",
       "      <td>2.0</td>\n",
       "    </tr>\n",
       "    <tr>\n",
       "      <th>2017-01-03 12:00:00</th>\n",
       "      <td>2.5</td>\n",
       "    </tr>\n",
       "    <tr>\n",
       "      <th>2017-01-04 00:00:00</th>\n",
       "      <td>3.0</td>\n",
       "    </tr>\n",
       "    <tr>\n",
       "      <th>2017-01-04 12:00:00</th>\n",
       "      <td>3.5</td>\n",
       "    </tr>\n",
       "    <tr>\n",
       "      <th>2017-01-05 00:00:00</th>\n",
       "      <td>4.0</td>\n",
       "    </tr>\n",
       "    <tr>\n",
       "      <th>2017-01-05 12:00:00</th>\n",
       "      <td>4.5</td>\n",
       "    </tr>\n",
       "    <tr>\n",
       "      <th>2017-01-06 00:00:00</th>\n",
       "      <td>5.0</td>\n",
       "    </tr>\n",
       "  </tbody>\n",
       "</table>\n",
       "</div>"
      ],
      "text/plain": [
       "                     data\n",
       "date                     \n",
       "2017-01-01 00:00:00   0.0\n",
       "2017-01-01 12:00:00   0.5\n",
       "2017-01-02 00:00:00   1.0\n",
       "2017-01-02 12:00:00   1.5\n",
       "2017-01-03 00:00:00   2.0\n",
       "2017-01-03 12:00:00   2.5\n",
       "2017-01-04 00:00:00   3.0\n",
       "2017-01-04 12:00:00   3.5\n",
       "2017-01-05 00:00:00   4.0\n",
       "2017-01-05 12:00:00   4.5\n",
       "2017-01-06 00:00:00   5.0"
      ]
     },
     "execution_count": 92,
     "metadata": {},
     "output_type": "execute_result"
    }
   ],
   "source": [
    "time_series_df = time_series_df.resample('12h').interpolate()\n",
    "time_series_df"
   ]
  },
  {
   "cell_type": "markdown",
   "id": "27e2875f",
   "metadata": {},
   "source": [
    "## Exercise 2.04 - DataFrame indices"
   ]
  },
  {
   "cell_type": "code",
   "execution_count": 93,
   "id": "78677893",
   "metadata": {},
   "outputs": [
    {
     "data": {
      "text/html": [
       "<div>\n",
       "<style scoped>\n",
       "    .dataframe tbody tr th:only-of-type {\n",
       "        vertical-align: middle;\n",
       "    }\n",
       "\n",
       "    .dataframe tbody tr th {\n",
       "        vertical-align: top;\n",
       "    }\n",
       "\n",
       "    .dataframe thead th {\n",
       "        text-align: right;\n",
       "    }\n",
       "</style>\n",
       "<table border=\"1\" class=\"dataframe\">\n",
       "  <thead>\n",
       "    <tr style=\"text-align: right;\">\n",
       "      <th></th>\n",
       "      <th>time</th>\n",
       "      <th>1/31/2019</th>\n",
       "      <th>2/28/2019</th>\n",
       "      <th>3/31/2019</th>\n",
       "      <th>4/30/2019</th>\n",
       "      <th>5/31/2019</th>\n",
       "      <th>6/30/2019</th>\n",
       "      <th>7/31/2019</th>\n",
       "      <th>8/31/2019</th>\n",
       "      <th>9/30/2019</th>\n",
       "      <th>10/31/2019</th>\n",
       "      <th>11/30/2019</th>\n",
       "      <th>12/31/2019</th>\n",
       "    </tr>\n",
       "  </thead>\n",
       "  <tbody>\n",
       "    <tr>\n",
       "      <th>0</th>\n",
       "      <td>12:00:00 AM</td>\n",
       "      <td>2312.22</td>\n",
       "      <td>2403.93</td>\n",
       "      <td>2285.59</td>\n",
       "      <td>1841.71</td>\n",
       "      <td>1144.73</td>\n",
       "      <td>579.97</td>\n",
       "      <td>184.34</td>\n",
       "      <td>217.88</td>\n",
       "      <td>609.83</td>\n",
       "      <td>1098.53</td>\n",
       "      <td>1832.15</td>\n",
       "      <td>2409.02</td>\n",
       "    </tr>\n",
       "    <tr>\n",
       "      <th>1</th>\n",
       "      <td>12:15:00 AM</td>\n",
       "      <td>2357.01</td>\n",
       "      <td>2503.56</td>\n",
       "      <td>2319.69</td>\n",
       "      <td>1863.97</td>\n",
       "      <td>1183.33</td>\n",
       "      <td>511.77</td>\n",
       "      <td>225.56</td>\n",
       "      <td>158.63</td>\n",
       "      <td>531.24</td>\n",
       "      <td>1132.16</td>\n",
       "      <td>1797.98</td>\n",
       "      <td>2354.98</td>\n",
       "    </tr>\n",
       "    <tr>\n",
       "      <th>2</th>\n",
       "      <td>12:30:00 AM</td>\n",
       "      <td>2298.20</td>\n",
       "      <td>2475.26</td>\n",
       "      <td>2386.27</td>\n",
       "      <td>1875.62</td>\n",
       "      <td>1259.22</td>\n",
       "      <td>555.14</td>\n",
       "      <td>167.05</td>\n",
       "      <td>199.51</td>\n",
       "      <td>536.58</td>\n",
       "      <td>1126.26</td>\n",
       "      <td>1725.46</td>\n",
       "      <td>2336.46</td>\n",
       "    </tr>\n",
       "    <tr>\n",
       "      <th>3</th>\n",
       "      <td>12:45:00 AM</td>\n",
       "      <td>2359.41</td>\n",
       "      <td>2615.92</td>\n",
       "      <td>2368.70</td>\n",
       "      <td>1825.99</td>\n",
       "      <td>1139.68</td>\n",
       "      <td>525.37</td>\n",
       "      <td>117.55</td>\n",
       "      <td>149.68</td>\n",
       "      <td>482.08</td>\n",
       "      <td>1087.29</td>\n",
       "      <td>1816.17</td>\n",
       "      <td>2374.96</td>\n",
       "    </tr>\n",
       "    <tr>\n",
       "      <th>4</th>\n",
       "      <td>1:00:00 AM</td>\n",
       "      <td>2328.82</td>\n",
       "      <td>2565.09</td>\n",
       "      <td>2298.29</td>\n",
       "      <td>1802.28</td>\n",
       "      <td>1178.65</td>\n",
       "      <td>586.78</td>\n",
       "      <td>212.88</td>\n",
       "      <td>129.09</td>\n",
       "      <td>551.16</td>\n",
       "      <td>1145.26</td>\n",
       "      <td>1802.78</td>\n",
       "      <td>2318.55</td>\n",
       "    </tr>\n",
       "  </tbody>\n",
       "</table>\n",
       "</div>"
      ],
      "text/plain": [
       "          time  1/31/2019  2/28/2019  3/31/2019  4/30/2019  5/31/2019  \\\n",
       "0  12:00:00 AM    2312.22    2403.93    2285.59    1841.71    1144.73   \n",
       "1  12:15:00 AM    2357.01    2503.56    2319.69    1863.97    1183.33   \n",
       "2  12:30:00 AM    2298.20    2475.26    2386.27    1875.62    1259.22   \n",
       "3  12:45:00 AM    2359.41    2615.92    2368.70    1825.99    1139.68   \n",
       "4   1:00:00 AM    2328.82    2565.09    2298.29    1802.28    1178.65   \n",
       "\n",
       "   6/30/2019  7/31/2019  8/31/2019  9/30/2019  10/31/2019  11/30/2019  \\\n",
       "0     579.97     184.34     217.88     609.83     1098.53     1832.15   \n",
       "1     511.77     225.56     158.63     531.24     1132.16     1797.98   \n",
       "2     555.14     167.05     199.51     536.58     1126.26     1725.46   \n",
       "3     525.37     117.55     149.68     482.08     1087.29     1816.17   \n",
       "4     586.78     212.88     129.09     551.16     1145.26     1802.78   \n",
       "\n",
       "   12/31/2019  \n",
       "0     2409.02  \n",
       "1     2354.98  \n",
       "2     2336.46  \n",
       "3     2374.96  \n",
       "4     2318.55  "
      ]
     },
     "execution_count": 93,
     "metadata": {},
     "output_type": "execute_result"
    }
   ],
   "source": [
    "fname = 'Chapter2-Datasets/test_data_frame.csv'\n",
    "economic_data = pd.read_csv(fname)\n",
    "economic_data.head()"
   ]
  },
  {
   "cell_type": "code",
   "execution_count": 95,
   "id": "d95b2622",
   "metadata": {},
   "outputs": [
    {
     "data": {
      "text/plain": [
       "time           object\n",
       "1/31/2019     float64\n",
       "2/28/2019     float64\n",
       "3/31/2019     float64\n",
       "4/30/2019     float64\n",
       "5/31/2019     float64\n",
       "6/30/2019     float64\n",
       "7/31/2019     float64\n",
       "8/31/2019     float64\n",
       "9/30/2019     float64\n",
       "10/31/2019    float64\n",
       "11/30/2019    float64\n",
       "12/31/2019    float64\n",
       "dtype: object"
      ]
     },
     "execution_count": 95,
     "metadata": {},
     "output_type": "execute_result"
    }
   ],
   "source": [
    "economic_data.dtypes"
   ]
  },
  {
   "cell_type": "code",
   "execution_count": 98,
   "id": "27a37da8",
   "metadata": {},
   "outputs": [
    {
     "data": {
      "text/html": [
       "<div>\n",
       "<style scoped>\n",
       "    .dataframe tbody tr th:only-of-type {\n",
       "        vertical-align: middle;\n",
       "    }\n",
       "\n",
       "    .dataframe tbody tr th {\n",
       "        vertical-align: top;\n",
       "    }\n",
       "\n",
       "    .dataframe thead th {\n",
       "        text-align: right;\n",
       "    }\n",
       "</style>\n",
       "<table border=\"1\" class=\"dataframe\">\n",
       "  <thead>\n",
       "    <tr style=\"text-align: right;\">\n",
       "      <th></th>\n",
       "      <th>time</th>\n",
       "      <th>1/31/2019</th>\n",
       "      <th>2/28/2019</th>\n",
       "      <th>3/31/2019</th>\n",
       "      <th>4/30/2019</th>\n",
       "      <th>5/31/2019</th>\n",
       "      <th>6/30/2019</th>\n",
       "      <th>7/31/2019</th>\n",
       "      <th>8/31/2019</th>\n",
       "      <th>9/30/2019</th>\n",
       "      <th>10/31/2019</th>\n",
       "      <th>11/30/2019</th>\n",
       "      <th>12/31/2019</th>\n",
       "    </tr>\n",
       "  </thead>\n",
       "  <tbody>\n",
       "    <tr>\n",
       "      <th>0</th>\n",
       "      <td>0 days 00:00:00</td>\n",
       "      <td>2312.22</td>\n",
       "      <td>2403.93</td>\n",
       "      <td>2285.59</td>\n",
       "      <td>1841.71</td>\n",
       "      <td>1144.73</td>\n",
       "      <td>579.97</td>\n",
       "      <td>184.34</td>\n",
       "      <td>217.88</td>\n",
       "      <td>609.83</td>\n",
       "      <td>1098.53</td>\n",
       "      <td>1832.15</td>\n",
       "      <td>2409.02</td>\n",
       "    </tr>\n",
       "    <tr>\n",
       "      <th>1</th>\n",
       "      <td>0 days 00:15:00</td>\n",
       "      <td>2357.01</td>\n",
       "      <td>2503.56</td>\n",
       "      <td>2319.69</td>\n",
       "      <td>1863.97</td>\n",
       "      <td>1183.33</td>\n",
       "      <td>511.77</td>\n",
       "      <td>225.56</td>\n",
       "      <td>158.63</td>\n",
       "      <td>531.24</td>\n",
       "      <td>1132.16</td>\n",
       "      <td>1797.98</td>\n",
       "      <td>2354.98</td>\n",
       "    </tr>\n",
       "    <tr>\n",
       "      <th>2</th>\n",
       "      <td>0 days 00:30:00</td>\n",
       "      <td>2298.20</td>\n",
       "      <td>2475.26</td>\n",
       "      <td>2386.27</td>\n",
       "      <td>1875.62</td>\n",
       "      <td>1259.22</td>\n",
       "      <td>555.14</td>\n",
       "      <td>167.05</td>\n",
       "      <td>199.51</td>\n",
       "      <td>536.58</td>\n",
       "      <td>1126.26</td>\n",
       "      <td>1725.46</td>\n",
       "      <td>2336.46</td>\n",
       "    </tr>\n",
       "    <tr>\n",
       "      <th>3</th>\n",
       "      <td>0 days 00:45:00</td>\n",
       "      <td>2359.41</td>\n",
       "      <td>2615.92</td>\n",
       "      <td>2368.70</td>\n",
       "      <td>1825.99</td>\n",
       "      <td>1139.68</td>\n",
       "      <td>525.37</td>\n",
       "      <td>117.55</td>\n",
       "      <td>149.68</td>\n",
       "      <td>482.08</td>\n",
       "      <td>1087.29</td>\n",
       "      <td>1816.17</td>\n",
       "      <td>2374.96</td>\n",
       "    </tr>\n",
       "    <tr>\n",
       "      <th>4</th>\n",
       "      <td>0 days 01:00:00</td>\n",
       "      <td>2328.82</td>\n",
       "      <td>2565.09</td>\n",
       "      <td>2298.29</td>\n",
       "      <td>1802.28</td>\n",
       "      <td>1178.65</td>\n",
       "      <td>586.78</td>\n",
       "      <td>212.88</td>\n",
       "      <td>129.09</td>\n",
       "      <td>551.16</td>\n",
       "      <td>1145.26</td>\n",
       "      <td>1802.78</td>\n",
       "      <td>2318.55</td>\n",
       "    </tr>\n",
       "    <tr>\n",
       "      <th>...</th>\n",
       "      <td>...</td>\n",
       "      <td>...</td>\n",
       "      <td>...</td>\n",
       "      <td>...</td>\n",
       "      <td>...</td>\n",
       "      <td>...</td>\n",
       "      <td>...</td>\n",
       "      <td>...</td>\n",
       "      <td>...</td>\n",
       "      <td>...</td>\n",
       "      <td>...</td>\n",
       "      <td>...</td>\n",
       "      <td>...</td>\n",
       "    </tr>\n",
       "    <tr>\n",
       "      <th>91</th>\n",
       "      <td>0 days 22:45:00</td>\n",
       "      <td>2347.70</td>\n",
       "      <td>2549.58</td>\n",
       "      <td>2351.71</td>\n",
       "      <td>1850.14</td>\n",
       "      <td>1064.03</td>\n",
       "      <td>534.39</td>\n",
       "      <td>208.35</td>\n",
       "      <td>176.65</td>\n",
       "      <td>580.45</td>\n",
       "      <td>1100.67</td>\n",
       "      <td>1821.87</td>\n",
       "      <td>2263.76</td>\n",
       "    </tr>\n",
       "    <tr>\n",
       "      <th>92</th>\n",
       "      <td>0 days 23:00:00</td>\n",
       "      <td>2234.47</td>\n",
       "      <td>2570.41</td>\n",
       "      <td>2296.87</td>\n",
       "      <td>1778.81</td>\n",
       "      <td>1180.03</td>\n",
       "      <td>584.29</td>\n",
       "      <td>108.65</td>\n",
       "      <td>243.64</td>\n",
       "      <td>477.31</td>\n",
       "      <td>1214.94</td>\n",
       "      <td>1816.56</td>\n",
       "      <td>2231.82</td>\n",
       "    </tr>\n",
       "    <tr>\n",
       "      <th>93</th>\n",
       "      <td>0 days 23:15:00</td>\n",
       "      <td>2302.04</td>\n",
       "      <td>2469.22</td>\n",
       "      <td>2273.06</td>\n",
       "      <td>1865.61</td>\n",
       "      <td>1146.12</td>\n",
       "      <td>535.60</td>\n",
       "      <td>112.78</td>\n",
       "      <td>137.46</td>\n",
       "      <td>554.88</td>\n",
       "      <td>1131.31</td>\n",
       "      <td>1894.77</td>\n",
       "      <td>2360.27</td>\n",
       "    </tr>\n",
       "    <tr>\n",
       "      <th>94</th>\n",
       "      <td>0 days 23:30:00</td>\n",
       "      <td>2276.66</td>\n",
       "      <td>2401.19</td>\n",
       "      <td>2326.91</td>\n",
       "      <td>1801.10</td>\n",
       "      <td>1125.49</td>\n",
       "      <td>535.32</td>\n",
       "      <td>156.38</td>\n",
       "      <td>242.52</td>\n",
       "      <td>585.82</td>\n",
       "      <td>1121.86</td>\n",
       "      <td>1786.20</td>\n",
       "      <td>2293.01</td>\n",
       "    </tr>\n",
       "    <tr>\n",
       "      <th>95</th>\n",
       "      <td>0 days 23:45:00</td>\n",
       "      <td>2338.81</td>\n",
       "      <td>2521.09</td>\n",
       "      <td>2317.67</td>\n",
       "      <td>1825.98</td>\n",
       "      <td>1164.15</td>\n",
       "      <td>561.30</td>\n",
       "      <td>177.96</td>\n",
       "      <td>106.36</td>\n",
       "      <td>574.28</td>\n",
       "      <td>1116.48</td>\n",
       "      <td>1834.12</td>\n",
       "      <td>2305.17</td>\n",
       "    </tr>\n",
       "  </tbody>\n",
       "</table>\n",
       "<p>96 rows × 13 columns</p>\n",
       "</div>"
      ],
      "text/plain": [
       "              time  1/31/2019  2/28/2019  3/31/2019  4/30/2019  5/31/2019  \\\n",
       "0  0 days 00:00:00    2312.22    2403.93    2285.59    1841.71    1144.73   \n",
       "1  0 days 00:15:00    2357.01    2503.56    2319.69    1863.97    1183.33   \n",
       "2  0 days 00:30:00    2298.20    2475.26    2386.27    1875.62    1259.22   \n",
       "3  0 days 00:45:00    2359.41    2615.92    2368.70    1825.99    1139.68   \n",
       "4  0 days 01:00:00    2328.82    2565.09    2298.29    1802.28    1178.65   \n",
       "..             ...        ...        ...        ...        ...        ...   \n",
       "91 0 days 22:45:00    2347.70    2549.58    2351.71    1850.14    1064.03   \n",
       "92 0 days 23:00:00    2234.47    2570.41    2296.87    1778.81    1180.03   \n",
       "93 0 days 23:15:00    2302.04    2469.22    2273.06    1865.61    1146.12   \n",
       "94 0 days 23:30:00    2276.66    2401.19    2326.91    1801.10    1125.49   \n",
       "95 0 days 23:45:00    2338.81    2521.09    2317.67    1825.98    1164.15   \n",
       "\n",
       "    6/30/2019  7/31/2019  8/31/2019  9/30/2019  10/31/2019  11/30/2019  \\\n",
       "0      579.97     184.34     217.88     609.83     1098.53     1832.15   \n",
       "1      511.77     225.56     158.63     531.24     1132.16     1797.98   \n",
       "2      555.14     167.05     199.51     536.58     1126.26     1725.46   \n",
       "3      525.37     117.55     149.68     482.08     1087.29     1816.17   \n",
       "4      586.78     212.88     129.09     551.16     1145.26     1802.78   \n",
       "..        ...        ...        ...        ...         ...         ...   \n",
       "91     534.39     208.35     176.65     580.45     1100.67     1821.87   \n",
       "92     584.29     108.65     243.64     477.31     1214.94     1816.56   \n",
       "93     535.60     112.78     137.46     554.88     1131.31     1894.77   \n",
       "94     535.32     156.38     242.52     585.82     1121.86     1786.20   \n",
       "95     561.30     177.96     106.36     574.28     1116.48     1834.12   \n",
       "\n",
       "    12/31/2019  \n",
       "0      2409.02  \n",
       "1      2354.98  \n",
       "2      2336.46  \n",
       "3      2374.96  \n",
       "4      2318.55  \n",
       "..         ...  \n",
       "91     2263.76  \n",
       "92     2231.82  \n",
       "93     2360.27  \n",
       "94     2293.01  \n",
       "95     2305.17  \n",
       "\n",
       "[96 rows x 13 columns]"
      ]
     },
     "execution_count": 98,
     "metadata": {},
     "output_type": "execute_result"
    }
   ],
   "source": [
    "economic_data['time']=pd.to_datetime(economic_data['time'], format = '%I:%M:%S %p')\n",
    "economic_data['time']= economic_data['time'] - economic_data['time'][0]\n",
    "economic_data"
   ]
  },
  {
   "cell_type": "code",
   "execution_count": 99,
   "id": "cd7f12c9",
   "metadata": {},
   "outputs": [
    {
     "data": {
      "text/html": [
       "<div>\n",
       "<style scoped>\n",
       "    .dataframe tbody tr th:only-of-type {\n",
       "        vertical-align: middle;\n",
       "    }\n",
       "\n",
       "    .dataframe tbody tr th {\n",
       "        vertical-align: top;\n",
       "    }\n",
       "\n",
       "    .dataframe thead th {\n",
       "        text-align: right;\n",
       "    }\n",
       "</style>\n",
       "<table border=\"1\" class=\"dataframe\">\n",
       "  <thead>\n",
       "    <tr style=\"text-align: right;\">\n",
       "      <th></th>\n",
       "      <th>1/31/2019</th>\n",
       "      <th>2/28/2019</th>\n",
       "      <th>3/31/2019</th>\n",
       "      <th>4/30/2019</th>\n",
       "      <th>5/31/2019</th>\n",
       "      <th>6/30/2019</th>\n",
       "      <th>7/31/2019</th>\n",
       "      <th>8/31/2019</th>\n",
       "      <th>9/30/2019</th>\n",
       "      <th>10/31/2019</th>\n",
       "      <th>11/30/2019</th>\n",
       "      <th>12/31/2019</th>\n",
       "    </tr>\n",
       "    <tr>\n",
       "      <th>time</th>\n",
       "      <th></th>\n",
       "      <th></th>\n",
       "      <th></th>\n",
       "      <th></th>\n",
       "      <th></th>\n",
       "      <th></th>\n",
       "      <th></th>\n",
       "      <th></th>\n",
       "      <th></th>\n",
       "      <th></th>\n",
       "      <th></th>\n",
       "      <th></th>\n",
       "    </tr>\n",
       "  </thead>\n",
       "  <tbody>\n",
       "    <tr>\n",
       "      <th>0 days 00:00:00</th>\n",
       "      <td>2312.22</td>\n",
       "      <td>2403.93</td>\n",
       "      <td>2285.59</td>\n",
       "      <td>1841.71</td>\n",
       "      <td>1144.73</td>\n",
       "      <td>579.97</td>\n",
       "      <td>184.34</td>\n",
       "      <td>217.88</td>\n",
       "      <td>609.83</td>\n",
       "      <td>1098.53</td>\n",
       "      <td>1832.15</td>\n",
       "      <td>2409.02</td>\n",
       "    </tr>\n",
       "    <tr>\n",
       "      <th>0 days 00:15:00</th>\n",
       "      <td>2357.01</td>\n",
       "      <td>2503.56</td>\n",
       "      <td>2319.69</td>\n",
       "      <td>1863.97</td>\n",
       "      <td>1183.33</td>\n",
       "      <td>511.77</td>\n",
       "      <td>225.56</td>\n",
       "      <td>158.63</td>\n",
       "      <td>531.24</td>\n",
       "      <td>1132.16</td>\n",
       "      <td>1797.98</td>\n",
       "      <td>2354.98</td>\n",
       "    </tr>\n",
       "    <tr>\n",
       "      <th>0 days 00:30:00</th>\n",
       "      <td>2298.20</td>\n",
       "      <td>2475.26</td>\n",
       "      <td>2386.27</td>\n",
       "      <td>1875.62</td>\n",
       "      <td>1259.22</td>\n",
       "      <td>555.14</td>\n",
       "      <td>167.05</td>\n",
       "      <td>199.51</td>\n",
       "      <td>536.58</td>\n",
       "      <td>1126.26</td>\n",
       "      <td>1725.46</td>\n",
       "      <td>2336.46</td>\n",
       "    </tr>\n",
       "    <tr>\n",
       "      <th>0 days 00:45:00</th>\n",
       "      <td>2359.41</td>\n",
       "      <td>2615.92</td>\n",
       "      <td>2368.70</td>\n",
       "      <td>1825.99</td>\n",
       "      <td>1139.68</td>\n",
       "      <td>525.37</td>\n",
       "      <td>117.55</td>\n",
       "      <td>149.68</td>\n",
       "      <td>482.08</td>\n",
       "      <td>1087.29</td>\n",
       "      <td>1816.17</td>\n",
       "      <td>2374.96</td>\n",
       "    </tr>\n",
       "    <tr>\n",
       "      <th>0 days 01:00:00</th>\n",
       "      <td>2328.82</td>\n",
       "      <td>2565.09</td>\n",
       "      <td>2298.29</td>\n",
       "      <td>1802.28</td>\n",
       "      <td>1178.65</td>\n",
       "      <td>586.78</td>\n",
       "      <td>212.88</td>\n",
       "      <td>129.09</td>\n",
       "      <td>551.16</td>\n",
       "      <td>1145.26</td>\n",
       "      <td>1802.78</td>\n",
       "      <td>2318.55</td>\n",
       "    </tr>\n",
       "  </tbody>\n",
       "</table>\n",
       "</div>"
      ],
      "text/plain": [
       "                 1/31/2019  2/28/2019  3/31/2019  4/30/2019  5/31/2019  \\\n",
       "time                                                                     \n",
       "0 days 00:00:00    2312.22    2403.93    2285.59    1841.71    1144.73   \n",
       "0 days 00:15:00    2357.01    2503.56    2319.69    1863.97    1183.33   \n",
       "0 days 00:30:00    2298.20    2475.26    2386.27    1875.62    1259.22   \n",
       "0 days 00:45:00    2359.41    2615.92    2368.70    1825.99    1139.68   \n",
       "0 days 01:00:00    2328.82    2565.09    2298.29    1802.28    1178.65   \n",
       "\n",
       "                 6/30/2019  7/31/2019  8/31/2019  9/30/2019  10/31/2019  \\\n",
       "time                                                                      \n",
       "0 days 00:00:00     579.97     184.34     217.88     609.83     1098.53   \n",
       "0 days 00:15:00     511.77     225.56     158.63     531.24     1132.16   \n",
       "0 days 00:30:00     555.14     167.05     199.51     536.58     1126.26   \n",
       "0 days 00:45:00     525.37     117.55     149.68     482.08     1087.29   \n",
       "0 days 01:00:00     586.78     212.88     129.09     551.16     1145.26   \n",
       "\n",
       "                 11/30/2019  12/31/2019  \n",
       "time                                     \n",
       "0 days 00:00:00     1832.15     2409.02  \n",
       "0 days 00:15:00     1797.98     2354.98  \n",
       "0 days 00:30:00     1725.46     2336.46  \n",
       "0 days 00:45:00     1816.17     2374.96  \n",
       "0 days 01:00:00     1802.78     2318.55  "
      ]
     },
     "execution_count": 99,
     "metadata": {},
     "output_type": "execute_result"
    }
   ],
   "source": [
    "economic_data.set_index('time', inplace = True)\n",
    "economic_data.head()"
   ]
  },
  {
   "cell_type": "code",
   "execution_count": 101,
   "id": "864f54cd",
   "metadata": {},
   "outputs": [
    {
     "data": {
      "text/html": [
       "<div>\n",
       "<style scoped>\n",
       "    .dataframe tbody tr th:only-of-type {\n",
       "        vertical-align: middle;\n",
       "    }\n",
       "\n",
       "    .dataframe tbody tr th {\n",
       "        vertical-align: top;\n",
       "    }\n",
       "\n",
       "    .dataframe thead th {\n",
       "        text-align: right;\n",
       "    }\n",
       "</style>\n",
       "<table border=\"1\" class=\"dataframe\">\n",
       "  <thead>\n",
       "    <tr style=\"text-align: right;\">\n",
       "      <th></th>\n",
       "      <th>1/31/2019</th>\n",
       "      <th>2/28/2019</th>\n",
       "      <th>3/31/2019</th>\n",
       "      <th>4/30/2019</th>\n",
       "      <th>5/31/2019</th>\n",
       "      <th>6/30/2019</th>\n",
       "      <th>7/31/2019</th>\n",
       "      <th>8/31/2019</th>\n",
       "      <th>9/30/2019</th>\n",
       "      <th>10/31/2019</th>\n",
       "      <th>11/30/2019</th>\n",
       "      <th>12/31/2019</th>\n",
       "    </tr>\n",
       "    <tr>\n",
       "      <th>time</th>\n",
       "      <th></th>\n",
       "      <th></th>\n",
       "      <th></th>\n",
       "      <th></th>\n",
       "      <th></th>\n",
       "      <th></th>\n",
       "      <th></th>\n",
       "      <th></th>\n",
       "      <th></th>\n",
       "      <th></th>\n",
       "      <th></th>\n",
       "      <th></th>\n",
       "    </tr>\n",
       "  </thead>\n",
       "  <tbody>\n",
       "    <tr>\n",
       "      <th>0 days 00:00:00</th>\n",
       "      <td>2312.220000</td>\n",
       "      <td>2403.930000</td>\n",
       "      <td>2285.590000</td>\n",
       "      <td>1841.710000</td>\n",
       "      <td>1144.730000</td>\n",
       "      <td>579.970000</td>\n",
       "      <td>184.340000</td>\n",
       "      <td>217.880000</td>\n",
       "      <td>609.830000</td>\n",
       "      <td>1098.530000</td>\n",
       "      <td>1832.150000</td>\n",
       "      <td>2409.020000</td>\n",
       "    </tr>\n",
       "    <tr>\n",
       "      <th>0 days 00:05:00</th>\n",
       "      <td>2327.150000</td>\n",
       "      <td>2437.140000</td>\n",
       "      <td>2296.956667</td>\n",
       "      <td>1849.130000</td>\n",
       "      <td>1157.596667</td>\n",
       "      <td>557.236667</td>\n",
       "      <td>198.080000</td>\n",
       "      <td>198.130000</td>\n",
       "      <td>583.633333</td>\n",
       "      <td>1109.740000</td>\n",
       "      <td>1820.760000</td>\n",
       "      <td>2391.006667</td>\n",
       "    </tr>\n",
       "    <tr>\n",
       "      <th>0 days 00:10:00</th>\n",
       "      <td>2342.080000</td>\n",
       "      <td>2470.350000</td>\n",
       "      <td>2308.323333</td>\n",
       "      <td>1856.550000</td>\n",
       "      <td>1170.463333</td>\n",
       "      <td>534.503333</td>\n",
       "      <td>211.820000</td>\n",
       "      <td>178.380000</td>\n",
       "      <td>557.436667</td>\n",
       "      <td>1120.950000</td>\n",
       "      <td>1809.370000</td>\n",
       "      <td>2372.993333</td>\n",
       "    </tr>\n",
       "    <tr>\n",
       "      <th>0 days 00:15:00</th>\n",
       "      <td>2357.010000</td>\n",
       "      <td>2503.560000</td>\n",
       "      <td>2319.690000</td>\n",
       "      <td>1863.970000</td>\n",
       "      <td>1183.330000</td>\n",
       "      <td>511.770000</td>\n",
       "      <td>225.560000</td>\n",
       "      <td>158.630000</td>\n",
       "      <td>531.240000</td>\n",
       "      <td>1132.160000</td>\n",
       "      <td>1797.980000</td>\n",
       "      <td>2354.980000</td>\n",
       "    </tr>\n",
       "    <tr>\n",
       "      <th>0 days 00:20:00</th>\n",
       "      <td>2337.406667</td>\n",
       "      <td>2494.126667</td>\n",
       "      <td>2341.883333</td>\n",
       "      <td>1867.853333</td>\n",
       "      <td>1208.626667</td>\n",
       "      <td>526.226667</td>\n",
       "      <td>206.056667</td>\n",
       "      <td>172.256667</td>\n",
       "      <td>533.020000</td>\n",
       "      <td>1130.193333</td>\n",
       "      <td>1773.806667</td>\n",
       "      <td>2348.806667</td>\n",
       "    </tr>\n",
       "  </tbody>\n",
       "</table>\n",
       "</div>"
      ],
      "text/plain": [
       "                   1/31/2019    2/28/2019    3/31/2019    4/30/2019  \\\n",
       "time                                                                  \n",
       "0 days 00:00:00  2312.220000  2403.930000  2285.590000  1841.710000   \n",
       "0 days 00:05:00  2327.150000  2437.140000  2296.956667  1849.130000   \n",
       "0 days 00:10:00  2342.080000  2470.350000  2308.323333  1856.550000   \n",
       "0 days 00:15:00  2357.010000  2503.560000  2319.690000  1863.970000   \n",
       "0 days 00:20:00  2337.406667  2494.126667  2341.883333  1867.853333   \n",
       "\n",
       "                   5/31/2019   6/30/2019   7/31/2019   8/31/2019   9/30/2019  \\\n",
       "time                                                                           \n",
       "0 days 00:00:00  1144.730000  579.970000  184.340000  217.880000  609.830000   \n",
       "0 days 00:05:00  1157.596667  557.236667  198.080000  198.130000  583.633333   \n",
       "0 days 00:10:00  1170.463333  534.503333  211.820000  178.380000  557.436667   \n",
       "0 days 00:15:00  1183.330000  511.770000  225.560000  158.630000  531.240000   \n",
       "0 days 00:20:00  1208.626667  526.226667  206.056667  172.256667  533.020000   \n",
       "\n",
       "                  10/31/2019   11/30/2019   12/31/2019  \n",
       "time                                                    \n",
       "0 days 00:00:00  1098.530000  1832.150000  2409.020000  \n",
       "0 days 00:05:00  1109.740000  1820.760000  2391.006667  \n",
       "0 days 00:10:00  1120.950000  1809.370000  2372.993333  \n",
       "0 days 00:15:00  1132.160000  1797.980000  2354.980000  \n",
       "0 days 00:20:00  1130.193333  1773.806667  2348.806667  "
      ]
     },
     "execution_count": 101,
     "metadata": {},
     "output_type": "execute_result"
    }
   ],
   "source": [
    "economic_data = economic_data.resample('5min').interpolate()\n",
    "economic_data.head()"
   ]
  },
  {
   "cell_type": "code",
   "execution_count": null,
   "id": "c6353683",
   "metadata": {},
   "outputs": [],
   "source": []
  }
 ],
 "metadata": {
  "kernelspec": {
   "display_name": "Python 3 (ipykernel)",
   "language": "python",
   "name": "python3"
  },
  "language_info": {
   "codemirror_mode": {
    "name": "ipython",
    "version": 3
   },
   "file_extension": ".py",
   "mimetype": "text/x-python",
   "name": "python",
   "nbconvert_exporter": "python",
   "pygments_lexer": "ipython3",
   "version": "3.9.13"
  }
 },
 "nbformat": 4,
 "nbformat_minor": 5
}
