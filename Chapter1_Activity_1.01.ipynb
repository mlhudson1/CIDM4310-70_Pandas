{
 "cells": [
  {
   "cell_type": "markdown",
   "id": "034ec158",
   "metadata": {},
   "source": [
    "# Activity 1.01 - Comparing Sales Data for Two Stores"
   ]
  },
  {
   "cell_type": "code",
   "execution_count": 1,
   "id": "e5482ef9",
   "metadata": {},
   "outputs": [],
   "source": [
    "import pandas as pd\n",
    "import numpy as np\n",
    "import matplotlib.pyplot as plt\n",
    "%matplotlib inline\n",
    "import random"
   ]
  },
  {
   "cell_type": "code",
   "execution_count": 33,
   "id": "c62a1787",
   "metadata": {},
   "outputs": [
    {
     "data": {
      "text/html": [
       "<div>\n",
       "<style scoped>\n",
       "    .dataframe tbody tr th:only-of-type {\n",
       "        vertical-align: middle;\n",
       "    }\n",
       "\n",
       "    .dataframe tbody tr th {\n",
       "        vertical-align: top;\n",
       "    }\n",
       "\n",
       "    .dataframe thead th {\n",
       "        text-align: right;\n",
       "    }\n",
       "</style>\n",
       "<table border=\"1\" class=\"dataframe\">\n",
       "  <thead>\n",
       "    <tr style=\"text-align: right;\">\n",
       "      <th></th>\n",
       "      <th>Months</th>\n",
       "      <th>Grocery_sales</th>\n",
       "      <th>Stationary_sales</th>\n",
       "    </tr>\n",
       "  </thead>\n",
       "  <tbody>\n",
       "    <tr>\n",
       "      <th>0</th>\n",
       "      <td>Jan</td>\n",
       "      <td>16</td>\n",
       "      <td>57</td>\n",
       "    </tr>\n",
       "    <tr>\n",
       "      <th>1</th>\n",
       "      <td>Jan</td>\n",
       "      <td>44</td>\n",
       "      <td>139</td>\n",
       "    </tr>\n",
       "    <tr>\n",
       "      <th>2</th>\n",
       "      <td>Jan</td>\n",
       "      <td>15</td>\n",
       "      <td>85</td>\n",
       "    </tr>\n",
       "    <tr>\n",
       "      <th>3</th>\n",
       "      <td>Jan</td>\n",
       "      <td>59</td>\n",
       "      <td>8</td>\n",
       "    </tr>\n",
       "    <tr>\n",
       "      <th>4</th>\n",
       "      <td>Jan</td>\n",
       "      <td>36</td>\n",
       "      <td>106</td>\n",
       "    </tr>\n",
       "  </tbody>\n",
       "</table>\n",
       "</div>"
      ],
      "text/plain": [
       "  Months  Grocery_sales  Stationary_sales\n",
       "0    Jan             16                57\n",
       "1    Jan             44               139\n",
       "2    Jan             15                85\n",
       "3    Jan             59                 8\n",
       "4    Jan             36               106"
      ]
     },
     "execution_count": 33,
     "metadata": {},
     "output_type": "execute_result"
    }
   ],
   "source": [
    "filename1=\"Chapter1-Datasets/Store1.csv\"\n",
    "store1=pd.read_csv(filename1)\n",
    "store1.head()"
   ]
  },
  {
   "cell_type": "code",
   "execution_count": 35,
   "id": "cd4cbcfa",
   "metadata": {},
   "outputs": [
    {
     "data": {
      "text/html": [
       "<div>\n",
       "<style scoped>\n",
       "    .dataframe tbody tr th:only-of-type {\n",
       "        vertical-align: middle;\n",
       "    }\n",
       "\n",
       "    .dataframe tbody tr th {\n",
       "        vertical-align: top;\n",
       "    }\n",
       "\n",
       "    .dataframe thead th {\n",
       "        text-align: right;\n",
       "    }\n",
       "</style>\n",
       "<table border=\"1\" class=\"dataframe\">\n",
       "  <thead>\n",
       "    <tr style=\"text-align: right;\">\n",
       "      <th></th>\n",
       "      <th>Months</th>\n",
       "      <th>Grocery_sales</th>\n",
       "      <th>Stationary_sales</th>\n",
       "    </tr>\n",
       "  </thead>\n",
       "  <tbody>\n",
       "    <tr>\n",
       "      <th>0</th>\n",
       "      <td>Jan</td>\n",
       "      <td>36</td>\n",
       "      <td>84</td>\n",
       "    </tr>\n",
       "    <tr>\n",
       "      <th>1</th>\n",
       "      <td>Jan</td>\n",
       "      <td>51</td>\n",
       "      <td>63</td>\n",
       "    </tr>\n",
       "    <tr>\n",
       "      <th>2</th>\n",
       "      <td>Jan</td>\n",
       "      <td>17</td>\n",
       "      <td>71</td>\n",
       "    </tr>\n",
       "    <tr>\n",
       "      <th>3</th>\n",
       "      <td>Jan</td>\n",
       "      <td>48</td>\n",
       "      <td>65</td>\n",
       "    </tr>\n",
       "    <tr>\n",
       "      <th>4</th>\n",
       "      <td>Jan</td>\n",
       "      <td>57</td>\n",
       "      <td>66</td>\n",
       "    </tr>\n",
       "  </tbody>\n",
       "</table>\n",
       "</div>"
      ],
      "text/plain": [
       "  Months  Grocery_sales  Stationary_sales\n",
       "0    Jan             36                84\n",
       "1    Jan             51                63\n",
       "2    Jan             17                71\n",
       "3    Jan             48                65\n",
       "4    Jan             57                66"
      ]
     },
     "execution_count": 35,
     "metadata": {},
     "output_type": "execute_result"
    }
   ],
   "source": [
    "filename2=\"Chapter1-Datasets/Store2.csv\"\n",
    "store2=pd.read_csv(filename2)\n",
    "store2.head()"
   ]
  },
  {
   "cell_type": "markdown",
   "id": "4259f3fe",
   "metadata": {},
   "source": [
    "### Which store has the greater sales for the quarter?"
   ]
  },
  {
   "cell_type": "code",
   "execution_count": 37,
   "id": "9c603d44",
   "metadata": {
    "scrolled": false
   },
   "outputs": [
    {
     "name": "stdout",
     "output_type": "stream",
     "text": [
      "Total sales for Store 1: 6082\n",
      "Total sales for Store 2: 5847\n"
     ]
    }
   ],
   "source": [
    "store1_total_sales = (store1[['Grocery_sales','Stationary_sales']].sum(axis=1)).sum()\n",
    "print(\"Total sales for Store 1:\",store1_total_sales)\n",
    "store2_total_sales = (store2[['Grocery_sales','Stationary_sales']].sum(axis=1)).sum()\n",
    "print(\"Total sales for Store 2:\",store2_total_sales)"
   ]
  },
  {
   "cell_type": "markdown",
   "id": "a04eec3e",
   "metadata": {},
   "source": [
    "### Which store has the highest sales for grocery products?"
   ]
  },
  {
   "cell_type": "code",
   "execution_count": 38,
   "id": "93e144db",
   "metadata": {},
   "outputs": [
    {
     "name": "stdout",
     "output_type": "stream",
     "text": [
      "Total grocery sales for Store 1: 2097\n",
      "Total grocery for Store 2: 2696\n"
     ]
    }
   ],
   "source": [
    "store1_grocery_sales = store1['Grocery_sales'].sum()\n",
    "print(\"Total grocery sales for Store 1:\",store1_grocery_sales)\n",
    "store2_grocery_sales = store2['Grocery_sales'].sum()\n",
    "print(\"Total grocery for Store 2:\",store2_grocery_sales)"
   ]
  },
  {
   "cell_type": "markdown",
   "id": "b3883c7a",
   "metadata": {},
   "source": [
    "### Which store has the highest sales for March?"
   ]
  },
  {
   "cell_type": "code",
   "execution_count": 65,
   "id": "62612dd8",
   "metadata": {},
   "outputs": [
    {
     "data": {
      "text/plain": [
       "Months\n",
       "Mar    2871\n",
       "dtype: int64"
      ]
     },
     "execution_count": 65,
     "metadata": {},
     "output_type": "execute_result"
    }
   ],
   "source": [
    "marchStore1=store1.query(\"Months == 'Mar'\")\n",
    "fields = ['Grocery_sales','Stationary_sales']\n",
    "marchStore1 = marchStore1.groupby(['Months'])[fields].agg('sum').agg('sum', axis=1)\n",
    "marchStore1\n",
    "\n"
   ]
  },
  {
   "cell_type": "code",
   "execution_count": 66,
   "id": "7fdc5302",
   "metadata": {},
   "outputs": [
    {
     "data": {
      "text/plain": [
       "Months\n",
       "Mar    2378\n",
       "dtype: int64"
      ]
     },
     "execution_count": 66,
     "metadata": {},
     "output_type": "execute_result"
    }
   ],
   "source": [
    "marchStore2=store2.query(\"Months == 'Mar'\")\n",
    "fields = ['Grocery_sales','Stationary_sales']\n",
    "marchStore2 = marchStore2.groupby(['Months'])[fields].agg('sum').agg('sum', axis=1)\n",
    "marchStore2"
   ]
  },
  {
   "cell_type": "markdown",
   "id": "7007813d",
   "metadata": {},
   "source": [
    "### For how many days were the sales of stationery products greater in store 1 than in store 2?"
   ]
  },
  {
   "cell_type": "code",
   "execution_count": 69,
   "id": "afbabcda",
   "metadata": {},
   "outputs": [
    {
     "name": "stderr",
     "output_type": "stream",
     "text": [
      "C:\\Users\\miran\\AppData\\Local\\Temp\\ipykernel_8516\\2234995696.py:2: UserWarning: Boolean Series key will be reindexed to match DataFrame index.\n",
      "  len(store1[filter])\n"
     ]
    },
    {
     "data": {
      "text/plain": [
       "35"
      ]
     },
     "execution_count": 69,
     "metadata": {},
     "output_type": "execute_result"
    }
   ],
   "source": [
    "filter = store1['Stationary_sales'].gt(store2['Stationary_sales'])\n",
    "len(store1[filter])"
   ]
  },
  {
   "cell_type": "markdown",
   "id": "d5c6c3a2",
   "metadata": {},
   "source": [
    "### Print DataFrames"
   ]
  },
  {
   "cell_type": "code",
   "execution_count": 9,
   "id": "01f87691",
   "metadata": {},
   "outputs": [
    {
     "name": "stdout",
     "output_type": "stream",
     "text": [
      "   Months  Grocery_sales  Stationary_sales\n",
      "0     Jan             16                57\n",
      "1     Jan             44               139\n",
      "2     Jan             15                85\n",
      "3     Jan             59                 8\n",
      "4     Jan             36               106\n",
      "5     Jan             27               136\n",
      "6     Jan             74               116\n",
      "7     Jan             63               142\n",
      "8     Jan             65               129\n",
      "9     Jan             12               138\n",
      "10    Feb             34               112\n",
      "11    Feb             73               100\n",
      "12    Feb             45               135\n",
      "13    Feb             31                13\n",
      "14    Feb             61                51\n",
      "15    Feb             13                26\n",
      "16    Feb             20               141\n",
      "17    Feb             18                72\n",
      "18    Feb             60               134\n",
      "19    Feb             62                47\n",
      "20    Feb             56                48\n",
      "21    Feb             25                75\n",
      "22    Feb             58                55\n",
      "23    Feb             10               118\n",
      "24    Feb             37                14\n",
      "25    Mar             72                97\n",
      "26    Mar             48                63\n",
      "27    Mar             64                54\n",
      "28    Mar             14                78\n",
      "29    Mar             51               104\n",
      "30    Mar             30               133\n",
      "31    Mar             38                 7\n",
      "32    Mar             68                29\n",
      "33    Mar             66                80\n",
      "34    Mar             41                16\n",
      "35    Mar             54               111\n",
      "36    Mar             46               147\n",
      "37    Mar             43               137\n",
      "38    Mar             35                 6\n",
      "39    Mar             55                50\n",
      "40    Mar             19                34\n",
      "41    Mar             23                56\n",
      "42    Mar             28                73\n",
      "43    Mar             53                69\n",
      "44    Mar             57               124\n",
      "45    Mar             39                12\n",
      "46    Mar             11                86\n",
      "47    Mar             47                41\n",
      "48    Mar             52                68\n",
      "49    Mar             29               113\n"
     ]
    }
   ],
   "source": [
    "print(data1)"
   ]
  },
  {
   "cell_type": "code",
   "execution_count": 10,
   "id": "8c348aea",
   "metadata": {},
   "outputs": [
    {
     "name": "stdout",
     "output_type": "stream",
     "text": [
      "   Months  Grocery_sales  Stationary_sales\n",
      "0     Jan             36                84\n",
      "1     Jan             51                63\n",
      "2     Jan             17                71\n",
      "3     Jan             48                65\n",
      "4     Jan             57                66\n",
      "..    ...            ...               ...\n",
      "65    Mar             62                35\n",
      "66    Mar             40                78\n",
      "67    Mar             53                75\n",
      "68    Mar             69                29\n",
      "69    Mar             31                30\n",
      "\n",
      "[70 rows x 3 columns]\n"
     ]
    }
   ],
   "source": [
    "print(data2)"
   ]
  },
  {
   "cell_type": "code",
   "execution_count": null,
   "id": "6ebb446a",
   "metadata": {},
   "outputs": [],
   "source": []
  }
 ],
 "metadata": {
  "kernelspec": {
   "display_name": "Python 3 (ipykernel)",
   "language": "python",
   "name": "python3"
  },
  "language_info": {
   "codemirror_mode": {
    "name": "ipython",
    "version": 3
   },
   "file_extension": ".py",
   "mimetype": "text/x-python",
   "name": "python",
   "nbconvert_exporter": "python",
   "pygments_lexer": "ipython3",
   "version": "3.9.13"
  }
 },
 "nbformat": 4,
 "nbformat_minor": 5
}
