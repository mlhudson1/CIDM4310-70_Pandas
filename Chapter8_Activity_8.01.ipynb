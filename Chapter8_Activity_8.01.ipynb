{
 "cells": [
  {
   "cell_type": "markdown",
   "id": "6433722f",
   "metadata": {},
   "source": [
    "# Activity 8.01 - Using data visualization for exploratory data analysis"
   ]
  },
  {
   "cell_type": "markdown",
   "id": "f7103ebb",
   "metadata": {},
   "source": [
    "1. Opena Jupyter notebook."
   ]
  },
  {
   "cell_type": "markdown",
   "id": "3ebdd451",
   "metadata": {},
   "source": [
    "2. Import the pandas, numpy and matplotlib packages"
   ]
  },
  {
   "cell_type": "markdown",
   "id": "0d9c0030",
   "metadata": {},
   "source": [
    "3. Load the CSV file as a DataFrame."
   ]
  },
  {
   "cell_type": "markdown",
   "id": "eeec8013",
   "metadata": {},
   "source": [
    "4. For the sake of simplicity, keep on the following columns: REGION, SQFT, BEDROOMS, PRICE"
   ]
  },
  {
   "cell_type": "markdown",
   "id": "f8814a7a",
   "metadata": {},
   "source": [
    "5. Display the first 10 rows of the DataFrame."
   ]
  },
  {
   "cell_type": "markdown",
   "id": "305a0467",
   "metadata": {},
   "source": [
    "6. Plot a histogram chart for PRICE to see the distribution of house prices."
   ]
  },
  {
   "cell_type": "markdown",
   "id": "d86bee3f",
   "metadata": {},
   "source": [
    "7. Plot a histogram chart for SQFT to see the distribution of house areas."
   ]
  },
  {
   "cell_type": "markdown",
   "id": "315249a2",
   "metadata": {},
   "source": [
    "8. Plot a scatter plot chart for PRICE and SQFT to understand whether there is any correlation between the two."
   ]
  },
  {
   "cell_type": "markdown",
   "id": "3ba19f26",
   "metadata": {},
   "source": [
    "9. Plot a boxplot chart for BEDROOMS on PRICE to understand the distribution of prices across bedroom sizes."
   ]
  },
  {
   "cell_type": "markdown",
   "id": "6e116b00",
   "metadata": {},
   "source": [
    "10. Plot a scatter chart for BEDROOMS and PRICE to understand whether there is any correlation between the two."
   ]
  },
  {
   "cell_type": "markdown",
   "id": "76afb705",
   "metadata": {},
   "source": [
    "11. Plot a boxplot chart for REGION on PRICE to understand the distribution of prices across regions."
   ]
  },
  {
   "cell_type": "markdown",
   "id": "143412d3",
   "metadata": {},
   "source": [
    "12. Plot a scatter chart for REGION on PRICE to understand whether there is any correlation between the two."
   ]
  },
  {
   "cell_type": "markdown",
   "id": "6bfff812",
   "metadata": {},
   "source": [
    "13. Plot a horizontal bar chart for REGION and PRICE by using the pivot function to see how the average price varies across regions."
   ]
  },
  {
   "cell_type": "markdown",
   "id": "1aa060bd",
   "metadata": {},
   "source": [
    "14. Plot a line chart for REGION and PRICE by using the pivot function to validate the previous."
   ]
  },
  {
   "cell_type": "code",
   "execution_count": null,
   "id": "6852e2af",
   "metadata": {},
   "outputs": [],
   "source": []
  }
 ],
 "metadata": {
  "kernelspec": {
   "display_name": "Python 3 (ipykernel)",
   "language": "python",
   "name": "python3"
  },
  "language_info": {
   "codemirror_mode": {
    "name": "ipython",
    "version": 3
   },
   "file_extension": ".py",
   "mimetype": "text/x-python",
   "name": "python",
   "nbconvert_exporter": "python",
   "pygments_lexer": "ipython3",
   "version": "3.9.13"
  }
 },
 "nbformat": 4,
 "nbformat_minor": 5
}
