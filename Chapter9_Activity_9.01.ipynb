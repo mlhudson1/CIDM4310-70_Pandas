{
 "cells": [
  {
   "cell_type": "markdown",
   "id": "bf1b6807",
   "metadata": {},
   "source": [
    "# Activity 9.01 - Data splitting, scaling, and modeling"
   ]
  },
  {
   "cell_type": "markdown",
   "id": "9b2da4c1",
   "metadata": {},
   "source": [
    "1. For this activity, all you will need is the Pandas library, the modules from sklearn, and numpy. Load them in the first cell of the notebook."
   ]
  },
  {
   "cell_type": "markdown",
   "id": "68133a4a",
   "metadata": {},
   "source": [
    "2. Use the power_plant.csv dataset. Read the data into a Pandas DataFrame, print out the shape, and list the first five rows.\n",
    "\n",
    "    The independent variables are as follows.\n",
    "    \n",
    "        AT - ambient temperature\n",
    "        V - exhaust vacuum level\n",
    "        AP - ambient pressure\n",
    "        RH - relative humidity\n",
    "        \n",
    "    The dependent variable is EP - electrical power produced."
   ]
  },
  {
   "cell_type": "markdown",
   "id": "ef17003a",
   "metadata": {},
   "source": [
    "3. Split the data into a train, val, and test set with fractions of 0.8, 0.1 and 0.1 respectively, using Python and Pandas but not sklearn methods. You will use 0.8 for the train split because there is a large number of rows, so the validation and test splits will still have enough rows."
   ]
  },
  {
   "cell_type": "markdown",
   "id": "3db33992",
   "metadata": {},
   "source": [
    "4. Repeat the split in step 3 but use train_test_split. Call it once to split the train data, and then call it again to split what remains into val and test."
   ]
  },
  {
   "cell_type": "markdown",
   "id": "d8001b41",
   "metadata": {},
   "source": [
    "5. Ensure that the row counts are correct in all cases."
   ]
  },
  {
   "cell_type": "markdown",
   "id": "cc570294",
   "metadata": {},
   "source": [
    "6. Fit .StandardScaler() to the train data from step 3, then transform train, validation, and test X. Do not transform the EP column, as it is the target."
   ]
  },
  {
   "cell_type": "markdown",
   "id": "2c1d322a",
   "metadata": {},
   "source": [
    "7. Fit a .LinearRegression() model to the scaled train data, using the X variables to predict y (the EP column)."
   ]
  },
  {
   "cell_type": "markdown",
   "id": "d3fe44a2",
   "metadata": {},
   "source": [
    "8. Print the R2 score and the RMSE of the model n the train, validation, and test datasets."
   ]
  },
  {
   "cell_type": "code",
   "execution_count": null,
   "id": "253d6673",
   "metadata": {},
   "outputs": [],
   "source": []
  }
 ],
 "metadata": {
  "kernelspec": {
   "display_name": "Python 3 (ipykernel)",
   "language": "python",
   "name": "python3"
  },
  "language_info": {
   "codemirror_mode": {
    "name": "ipython",
    "version": 3
   },
   "file_extension": ".py",
   "mimetype": "text/x-python",
   "name": "python",
   "nbconvert_exporter": "python",
   "pygments_lexer": "ipython3",
   "version": "3.9.13"
  }
 },
 "nbformat": 4,
 "nbformat_minor": 5
}
