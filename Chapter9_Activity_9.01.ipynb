{
 "cells": [
  {
   "cell_type": "markdown",
   "id": "cefb4eb6",
   "metadata": {},
   "source": [
    "# Activity 9.01 - Data splitting, scaling, and modeling"
   ]
  },
  {
   "cell_type": "markdown",
   "id": "bfee0b2c",
   "metadata": {},
   "source": [
    "1. For this activity, all you will need is the Pandas library, the modules from sklearn, and numpy. Load them in the first cell of the notebook."
   ]
  },
  {
   "cell_type": "markdown",
   "id": "d34bf450",
   "metadata": {},
   "source": [
    "2. Use the power_plant.csv dataset. Read the data into a Pandas DataFrame, print out the shape, and list the first five rows.\n",
    "\n",
    "    The independent variables are as follows.\n",
    "    \n",
    "        AT - ambient temperature\n",
    "        V - exhaust vacuum level\n",
    "        AP - ambient pressure\n",
    "        RH - relative humidity\n",
    "        \n",
    "    The dependent variable is EP - electrical power produced."
   ]
  },
  {
   "cell_type": "markdown",
   "id": "4bafe987",
   "metadata": {},
   "source": [
    "3. Split the data into a train, val, and test set with fractions of 0.8, 0.1 and 0.1 respectively, using Python and Pandas but not sklearn methods. You will use 0.8 for the train split because there is a large number of rows, so the validation and test splits will still have enough rows."
   ]
  },
  {
   "cell_type": "markdown",
   "id": "daf7d563",
   "metadata": {},
   "source": [
    "4. Repeat the split in step 3 but use train_test_split. Call it once to split the train data, and then call it again to split what remains into val and test."
   ]
  },
  {
   "cell_type": "markdown",
   "id": "f8528f48",
   "metadata": {},
   "source": [
    "5. Ensure that the row counts are correct in all cases."
   ]
  },
  {
   "cell_type": "markdown",
   "id": "637753e7",
   "metadata": {},
   "source": [
    "6. Fit .StandardScaler() to the train data from step 3, then transform train, validation, and test X. Do not transform the EP column, as it is the target."
   ]
  },
  {
   "cell_type": "markdown",
   "id": "4eb7a3e1",
   "metadata": {},
   "source": [
    "7. Fit a .LinearRegression() model to the scaled train data, using"
   ]
  }
 ],
 "metadata": {
  "kernelspec": {
   "display_name": "Python 3 (ipykernel)",
   "language": "python",
   "name": "python3"
  },
  "language_info": {
   "codemirror_mode": {
    "name": "ipython",
    "version": 3
   },
   "file_extension": ".py",
   "mimetype": "text/x-python",
   "name": "python",
   "nbconvert_exporter": "python",
   "pygments_lexer": "ipython3",
   "version": "3.9.13"
  }
 },
 "nbformat": 4,
 "nbformat_minor": 5
}
