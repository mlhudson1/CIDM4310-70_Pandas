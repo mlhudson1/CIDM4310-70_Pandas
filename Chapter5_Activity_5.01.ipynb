{
 "cells": [
  {
   "cell_type": "markdown",
   "id": "e6bccae5",
   "metadata": {},
   "source": [
    "# Activity 5.01 - Creating a multi-index from columns"
   ]
  },
  {
   "cell_type": "markdown",
   "id": "9b7a35ec",
   "metadata": {},
   "source": [
    "1. For this activity, all you will need is the pandas library. Load it into the first cell of the notebook."
   ]
  },
  {
   "cell_type": "code",
   "execution_count": null,
   "id": "bc5408b9",
   "metadata": {},
   "outputs": [],
   "source": []
  },
  {
   "cell_type": "markdown",
   "id": "8659bd98",
   "metadata": {},
   "source": [
    "2. Read in the mushroom.csv data from the Datasets directory and list the first five rows using .head()."
   ]
  },
  {
   "cell_type": "code",
   "execution_count": null,
   "id": "9f0e49b9",
   "metadata": {},
   "outputs": [],
   "source": []
  },
  {
   "cell_type": "markdown",
   "id": "d99abab9",
   "metadata": {},
   "source": [
    "3. You will see the class column and many visible attributes. List all the columns to see what else there is to work with."
   ]
  },
  {
   "cell_type": "code",
   "execution_count": null,
   "id": "b7324a0a",
   "metadata": {},
   "outputs": [],
   "source": []
  },
  {
   "cell_type": "markdown",
   "id": "4298f097",
   "metadata": {},
   "source": [
    "4. In addition to class, you see population and habitat, which are not visible attributes. You decide to create a multi-index using class, population, and habitat.\n"
   ]
  },
  {
   "cell_type": "code",
   "execution_count": null,
   "id": "ee910713",
   "metadata": {},
   "outputs": [],
   "source": []
  },
  {
   "cell_type": "markdown",
   "id": "c5d74a4f",
   "metadata": {},
   "source": [
    "5. Now, drop the columns that are in the index and set the DataFrame index to the multi-index. Make sure that you drop the existing default index."
   ]
  },
  {
   "cell_type": "code",
   "execution_count": null,
   "id": "3874b004",
   "metadata": {},
   "outputs": [],
   "source": []
  },
  {
   "cell_type": "markdown",
   "id": "aa2d685f",
   "metadata": {},
   "source": [
    "6. Use the .loc[] notation you learned and list the data about the edible mushrooms."
   ]
  },
  {
   "cell_type": "code",
   "execution_count": null,
   "id": "37454015",
   "metadata": {},
   "outputs": [],
   "source": []
  },
  {
   "cell_type": "code",
   "execution_count": null,
   "id": "3d8876fe",
   "metadata": {},
   "outputs": [],
   "source": []
  },
  {
   "cell_type": "code",
   "execution_count": null,
   "id": "1c655f31",
   "metadata": {},
   "outputs": [],
   "source": []
  },
  {
   "cell_type": "code",
   "execution_count": null,
   "id": "adccef4e",
   "metadata": {},
   "outputs": [],
   "source": []
  }
 ],
 "metadata": {
  "kernelspec": {
   "display_name": "Python 3 (ipykernel)",
   "language": "python",
   "name": "python3"
  },
  "language_info": {
   "codemirror_mode": {
    "name": "ipython",
    "version": 3
   },
   "file_extension": ".py",
   "mimetype": "text/x-python",
   "name": "python",
   "nbconvert_exporter": "python",
   "pygments_lexer": "ipython3",
   "version": "3.9.13"
  }
 },
 "nbformat": 4,
 "nbformat_minor": 5
}
