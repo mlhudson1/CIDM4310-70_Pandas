{
 "cells": [
  {
   "cell_type": "markdown",
   "id": "f12078ea",
   "metadata": {},
   "source": [
    "# Chapter 6 : Data Selection - Series"
   ]
  },
  {
   "cell_type": "code",
   "execution_count": 1,
   "id": "b68a9722",
   "metadata": {},
   "outputs": [],
   "source": [
    "import pandas as pd"
   ]
  },
  {
   "cell_type": "markdown",
   "id": "37d043fd",
   "metadata": {},
   "source": [
    "##  Introduction to pandas Series"
   ]
  },
  {
   "cell_type": "markdown",
   "id": "cdaf4b2a",
   "metadata": {},
   "source": [
    "### The Series Index"
   ]
  },
  {
   "cell_type": "code",
   "execution_count": 2,
   "id": "13d76f92",
   "metadata": {},
   "outputs": [
    {
     "data": {
      "text/plain": [
       "Jan    100\n",
       "Feb    125\n",
       "Mar    105\n",
       "Apr    111\n",
       "May    275\n",
       "Jun    137\n",
       "Jul     99\n",
       "Aug     10\n",
       "Sep    250\n",
       "Oct    100\n",
       "Nov    175\n",
       "Dec    200\n",
       "Name: income, dtype: int64"
      ]
     },
     "execution_count": 2,
     "metadata": {},
     "output_type": "execute_result"
    }
   ],
   "source": [
    "income = pd.Series([100,125,105,111,275,137,99,10,250,100,175,200], index=['Jan','Feb','Mar','Apr','May','Jun','Jul','Aug','Sep','Oct','Nov','Dec'], name='income')\n",
    "income"
   ]
  },
  {
   "cell_type": "code",
   "execution_count": 3,
   "id": "1f1692c9",
   "metadata": {},
   "outputs": [
    {
     "data": {
      "text/plain": [
       "0     100\n",
       "1     125\n",
       "2     105\n",
       "3     111\n",
       "4     275\n",
       "5     137\n",
       "6      99\n",
       "7      10\n",
       "8     250\n",
       "9     100\n",
       "10    175\n",
       "11    200\n",
       "Name: income, dtype: int64"
      ]
     },
     "execution_count": 3,
     "metadata": {},
     "output_type": "execute_result"
    }
   ],
   "source": [
    "income.reset_index(drop=True)"
   ]
  },
  {
   "cell_type": "markdown",
   "id": "40c93d0b",
   "metadata": {},
   "source": [
    "## Data Selection in a pandas Series"
   ]
  },
  {
   "cell_type": "markdown",
   "id": "fdf30d86",
   "metadata": {},
   "source": [
    "### Brackets, dots, Series.loc, and Series.iloc"
   ]
  },
  {
   "cell_type": "code",
   "execution_count": 5,
   "id": "802cc3f3",
   "metadata": {},
   "outputs": [
    {
     "name": "stdout",
     "output_type": "stream",
     "text": [
      "<class 'pandas.core.series.Series'>\n",
      "0    288.177459\n",
      "1    316.485721\n",
      "2    338.565899\n",
      "3    336.866984\n",
      "4    332.844765\n",
      "Name: annual_cost, dtype: float64\n"
     ]
    }
   ],
   "source": [
    "UK_energy = pd.read_csv('Chapter6-Datasets/UK_energy.csv', index_col=None, usecols=[1]).squeeze(\"columns\")\n",
    "print(type(UK_energy))\n",
    "print(UK_energy.head())"
   ]
  },
  {
   "cell_type": "code",
   "execution_count": 6,
   "id": "3b6a2edb",
   "metadata": {},
   "outputs": [
    {
     "name": "stdout",
     "output_type": "stream",
     "text": [
      "UK_energy.loc[[2,4,6]]\n",
      "\n",
      " 2    338.565899\n",
      "4    332.844765\n",
      "6    341.909881\n",
      "Name: annual_cost, dtype: float64\n"
     ]
    }
   ],
   "source": [
    "print('UK_energy.loc[[2,4,6]]\\n\\n', UK_energy.loc[[2,4,6]])"
   ]
  },
  {
   "cell_type": "code",
   "execution_count": 7,
   "id": "21f45272",
   "metadata": {},
   "outputs": [
    {
     "name": "stdout",
     "output_type": "stream",
     "text": [
      "UK_energy[2:7:2]\n",
      "\n",
      " 2    338.565899\n",
      "4    332.844765\n",
      "6    341.909881\n",
      "Name: annual_cost, dtype: float64\n"
     ]
    }
   ],
   "source": [
    "print('UK_energy[2:7:2]\\n\\n', UK_energy[2:7:2])"
   ]
  },
  {
   "cell_type": "code",
   "execution_count": 8,
   "id": "59a536d6",
   "metadata": {},
   "outputs": [
    {
     "name": "stdout",
     "output_type": "stream",
     "text": [
      "UK_energy[[2,4,6]]\n",
      "\n",
      " 2    338.565899\n",
      "4    332.844765\n",
      "6    341.909881\n",
      "Name: annual_cost, dtype: float64\n"
     ]
    }
   ],
   "source": [
    "print('UK_energy[[2,4,6]]\\n\\n', UK_energy[[2,4,6]])"
   ]
  },
  {
   "cell_type": "code",
   "execution_count": 9,
   "id": "9da85f9f",
   "metadata": {},
   "outputs": [
    {
     "name": "stdout",
     "output_type": "stream",
     "text": [
      "UK_energy[[,2,4,6]]\n",
      "\n",
      " 2    338.565899\n",
      "4    332.844765\n",
      "6    341.909881\n",
      "Name: annual_cost, dtype: float64\n"
     ]
    }
   ],
   "source": [
    "print('UK_energy.iloc[[,2,4,6]]\\n\\n', UK_energy.iloc[[2,4,6]])"
   ]
  },
  {
   "cell_type": "code",
   "execution_count": 10,
   "id": "cd79014c",
   "metadata": {},
   "outputs": [
    {
     "name": "stdout",
     "output_type": "stream",
     "text": [
      "UK_energy.iloc[[2:7:2]]\n",
      "\n",
      " 2    338.565899\n",
      "4    332.844765\n",
      "6    341.909881\n",
      "Name: annual_cost, dtype: float64\n"
     ]
    }
   ],
   "source": [
    "print('UK_energy.iloc[[2:7:2]]\\n\\n', UK_energy.iloc[2:7:2])"
   ]
  },
  {
   "cell_type": "code",
   "execution_count": 11,
   "id": "d813e506",
   "metadata": {},
   "outputs": [
    {
     "data": {
      "text/plain": [
       "Index(['year_1990', 'year_1991', 'year_1992', 'year_1993', 'year_1994',\n",
       "       'year_1995', 'year_1996', 'year_1997', 'year_1998', 'year_1999',\n",
       "       'year_2000', 'year_2001', 'year_2002', 'year_2003', 'year_2004',\n",
       "       'year_2005', 'year_2006', 'year_2007', 'year_2008', 'year_2009',\n",
       "       'year_2010', 'year_2011', 'year_2012', 'year_2013', 'year_2014',\n",
       "       'year_2015', 'year_2016', 'year_2017', 'year_2018', 'year_2019'],\n",
       "      dtype='object')"
      ]
     },
     "execution_count": 11,
     "metadata": {},
     "output_type": "execute_result"
    }
   ],
   "source": [
    "UK_energy.index = ['year_'+str(i) for i in range(1990,2020)]\n",
    "UK_energy.index"
   ]
  },
  {
   "cell_type": "code",
   "execution_count": 12,
   "id": "2ebb85f9",
   "metadata": {},
   "outputs": [
    {
     "data": {
      "text/plain": [
       "326.4184542"
      ]
     },
     "execution_count": 12,
     "metadata": {},
     "output_type": "execute_result"
    }
   ],
   "source": [
    "UK_energy.year_1997"
   ]
  },
  {
   "cell_type": "code",
   "execution_count": 13,
   "id": "5e7c59bf",
   "metadata": {},
   "outputs": [
    {
     "data": {
      "text/plain": [
       "year_1997    326.418454\n",
       "year_1998    306.393163\n",
       "year_1999    295.687501\n",
       "year_2000    290.333333\n",
       "year_2001    283.333333\n",
       "year_2002    281.666667\n",
       "year_2003    283.666667\n",
       "year_2004    291.666667\n",
       "year_2005    323.666667\n",
       "year_2006    382.000000\n",
       "year_2007    423.111111\n",
       "year_2008    487.333333\n",
       "year_2009    498.666667\n",
       "year_2010    484.000000\n",
       "year_2011    523.181818\n",
       "Name: annual_cost, dtype: float64"
      ]
     },
     "execution_count": 13,
     "metadata": {},
     "output_type": "execute_result"
    }
   ],
   "source": [
    "UK_energy['year_1997':'year_2011']"
   ]
  },
  {
   "cell_type": "markdown",
   "id": "6a279b7b",
   "metadata": {},
   "source": [
    "## Exercise 6.01 - basic Series data selection"
   ]
  },
  {
   "cell_type": "code",
   "execution_count": 15,
   "id": "091d9be1",
   "metadata": {},
   "outputs": [
    {
     "data": {
      "text/plain": [
       "0      0.783670\n",
       "1      0.293040\n",
       "2      0.111169\n",
       "3     -0.169703\n",
       "4     -0.147029\n",
       "         ...   \n",
       "139    0.723983\n",
       "140    0.687518\n",
       "141    0.515671\n",
       "142    0.432008\n",
       "143    0.146747\n",
       "Name: Y, Length: 144, dtype: float64"
      ]
     },
     "execution_count": 15,
     "metadata": {},
     "output_type": "execute_result"
    }
   ],
   "source": [
    "BOLD = pd.read_csv('Chapter6-Datasets/PLOS_BOLD_S1_patient_1.csv').squeeze('columns')\n",
    "BOLD"
   ]
  },
  {
   "cell_type": "code",
   "execution_count": 16,
   "id": "de6dde08",
   "metadata": {},
   "outputs": [
    {
     "data": {
      "text/plain": [
       "0      0.783670\n",
       "2      0.293040\n",
       "4      0.111169\n",
       "6     -0.169703\n",
       "8     -0.147029\n",
       "         ...   \n",
       "278    0.723983\n",
       "280    0.687518\n",
       "282    0.515671\n",
       "284    0.432008\n",
       "286    0.146747\n",
       "Name: Y, Length: 144, dtype: float64"
      ]
     },
     "execution_count": 16,
     "metadata": {},
     "output_type": "execute_result"
    }
   ],
   "source": [
    "BOLD.index = range(0, 2*len(BOLD),2)\n",
    "BOLD"
   ]
  },
  {
   "cell_type": "code",
   "execution_count": 17,
   "id": "f637a28e",
   "metadata": {},
   "outputs": [
    {
     "data": {
      "text/plain": [
       "0      0.783670\n",
       "4      0.111169\n",
       "8     -0.147029\n",
       "12    -0.032271\n",
       "16    -0.202202\n",
       "         ...   \n",
       "268   -0.014538\n",
       "272    0.180167\n",
       "276    0.382172\n",
       "280    0.687518\n",
       "284    0.432008\n",
       "Name: Y, Length: 72, dtype: float64"
      ]
     },
     "execution_count": 17,
     "metadata": {},
     "output_type": "execute_result"
    }
   ],
   "source": [
    "B2=BOLD[::2]\n",
    "B2"
   ]
  },
  {
   "cell_type": "code",
   "execution_count": 18,
   "id": "edd09e21",
   "metadata": {},
   "outputs": [
    {
     "data": {
      "text/plain": [
       "284    0.432008\n",
       "280    0.687518\n",
       "276    0.382172\n",
       "272    0.180167\n",
       "268   -0.014538\n",
       "264   -0.080900\n",
       "260    0.069567\n",
       "256    0.153728\n",
       "252    0.220703\n",
       "Name: Y, dtype: float64"
      ]
     },
     "execution_count": 18,
     "metadata": {},
     "output_type": "execute_result"
    }
   ],
   "source": [
    "B2[len(B2):(len(B2)-10):-1]"
   ]
  },
  {
   "cell_type": "markdown",
   "id": "7514e308",
   "metadata": {},
   "source": [
    "## Prepareing Series from DataFrames and vice versa"
   ]
  },
  {
   "cell_type": "code",
   "execution_count": 19,
   "id": "5d9bfbdf",
   "metadata": {},
   "outputs": [
    {
     "data": {
      "text/html": [
       "<div>\n",
       "<style scoped>\n",
       "    .dataframe tbody tr th:only-of-type {\n",
       "        vertical-align: middle;\n",
       "    }\n",
       "\n",
       "    .dataframe tbody tr th {\n",
       "        vertical-align: top;\n",
       "    }\n",
       "\n",
       "    .dataframe thead th {\n",
       "        text-align: right;\n",
       "    }\n",
       "</style>\n",
       "<table border=\"1\" class=\"dataframe\">\n",
       "  <thead>\n",
       "    <tr style=\"text-align: right;\">\n",
       "      <th></th>\n",
       "      <th>date</th>\n",
       "      <th>input_flow</th>\n",
       "      <th>input_Zinc</th>\n",
       "      <th>input_pH</th>\n",
       "      <th>input_BOD</th>\n",
       "      <th>input_COD</th>\n",
       "      <th>input_SS</th>\n",
       "      <th>input_VSS</th>\n",
       "      <th>input_SED</th>\n",
       "      <th>input_CON</th>\n",
       "      <th>...</th>\n",
       "      <th>output_COND</th>\n",
       "      <th>RD-DBO-P</th>\n",
       "      <th>RD-SS-P</th>\n",
       "      <th>RD-SED-P</th>\n",
       "      <th>RD-DBO-S</th>\n",
       "      <th>RD-DQO-S</th>\n",
       "      <th>RD-DBO-G</th>\n",
       "      <th>RD-DQO-G</th>\n",
       "      <th>RD-SS-G</th>\n",
       "      <th>RD-SED-G</th>\n",
       "    </tr>\n",
       "  </thead>\n",
       "  <tbody>\n",
       "    <tr>\n",
       "      <th>0</th>\n",
       "      <td>1/1/1990</td>\n",
       "      <td>41230.0</td>\n",
       "      <td>0.35</td>\n",
       "      <td>7.6</td>\n",
       "      <td>120.0</td>\n",
       "      <td>344.0</td>\n",
       "      <td>136.0</td>\n",
       "      <td>54.4</td>\n",
       "      <td>4.5</td>\n",
       "      <td>993</td>\n",
       "      <td>...</td>\n",
       "      <td>903.0</td>\n",
       "      <td>-9999.0</td>\n",
       "      <td>62.8</td>\n",
       "      <td>93.3</td>\n",
       "      <td>-9999.0</td>\n",
       "      <td>62.5</td>\n",
       "      <td>86.7</td>\n",
       "      <td>71.8</td>\n",
       "      <td>87.5</td>\n",
       "      <td>99.4</td>\n",
       "    </tr>\n",
       "    <tr>\n",
       "      <th>1</th>\n",
       "      <td>1/2/1990</td>\n",
       "      <td>37386.0</td>\n",
       "      <td>1.40</td>\n",
       "      <td>7.9</td>\n",
       "      <td>165.0</td>\n",
       "      <td>470.0</td>\n",
       "      <td>170.0</td>\n",
       "      <td>76.5</td>\n",
       "      <td>4.0</td>\n",
       "      <td>1365</td>\n",
       "      <td>...</td>\n",
       "      <td>1481.0</td>\n",
       "      <td>-9999.0</td>\n",
       "      <td>50.0</td>\n",
       "      <td>94.4</td>\n",
       "      <td>85.9</td>\n",
       "      <td>73.6</td>\n",
       "      <td>86.7</td>\n",
       "      <td>79.4</td>\n",
       "      <td>89.4</td>\n",
       "      <td>100.0</td>\n",
       "    </tr>\n",
       "    <tr>\n",
       "      <th>2</th>\n",
       "      <td>1/3/1990</td>\n",
       "      <td>34535.0</td>\n",
       "      <td>1.00</td>\n",
       "      <td>7.8</td>\n",
       "      <td>232.0</td>\n",
       "      <td>518.0</td>\n",
       "      <td>220.0</td>\n",
       "      <td>65.5</td>\n",
       "      <td>5.5</td>\n",
       "      <td>1617</td>\n",
       "      <td>...</td>\n",
       "      <td>1492.0</td>\n",
       "      <td>32.6</td>\n",
       "      <td>62.4</td>\n",
       "      <td>95.0</td>\n",
       "      <td>81.3</td>\n",
       "      <td>59.9</td>\n",
       "      <td>87.5</td>\n",
       "      <td>71.8</td>\n",
       "      <td>85.9</td>\n",
       "      <td>99.8</td>\n",
       "    </tr>\n",
       "    <tr>\n",
       "      <th>3</th>\n",
       "      <td>1/4/1990</td>\n",
       "      <td>32527.0</td>\n",
       "      <td>3.00</td>\n",
       "      <td>7.8</td>\n",
       "      <td>187.0</td>\n",
       "      <td>460.0</td>\n",
       "      <td>180.0</td>\n",
       "      <td>67.8</td>\n",
       "      <td>5.2</td>\n",
       "      <td>1832</td>\n",
       "      <td>...</td>\n",
       "      <td>1590.0</td>\n",
       "      <td>13.2</td>\n",
       "      <td>57.6</td>\n",
       "      <td>95.5</td>\n",
       "      <td>85.3</td>\n",
       "      <td>70.4</td>\n",
       "      <td>85.0</td>\n",
       "      <td>77.2</td>\n",
       "      <td>83.3</td>\n",
       "      <td>100.0</td>\n",
       "    </tr>\n",
       "    <tr>\n",
       "      <th>4</th>\n",
       "      <td>1/7/1990</td>\n",
       "      <td>27760.0</td>\n",
       "      <td>1.20</td>\n",
       "      <td>7.6</td>\n",
       "      <td>199.0</td>\n",
       "      <td>466.0</td>\n",
       "      <td>186.0</td>\n",
       "      <td>74.2</td>\n",
       "      <td>4.5</td>\n",
       "      <td>1220</td>\n",
       "      <td>...</td>\n",
       "      <td>1411.0</td>\n",
       "      <td>38.2</td>\n",
       "      <td>46.6</td>\n",
       "      <td>95.0</td>\n",
       "      <td>84.9</td>\n",
       "      <td>61.1</td>\n",
       "      <td>89.4</td>\n",
       "      <td>73.8</td>\n",
       "      <td>86.6</td>\n",
       "      <td>99.6</td>\n",
       "    </tr>\n",
       "    <tr>\n",
       "      <th>...</th>\n",
       "      <td>...</td>\n",
       "      <td>...</td>\n",
       "      <td>...</td>\n",
       "      <td>...</td>\n",
       "      <td>...</td>\n",
       "      <td>...</td>\n",
       "      <td>...</td>\n",
       "      <td>...</td>\n",
       "      <td>...</td>\n",
       "      <td>...</td>\n",
       "      <td>...</td>\n",
       "      <td>...</td>\n",
       "      <td>...</td>\n",
       "      <td>...</td>\n",
       "      <td>...</td>\n",
       "      <td>...</td>\n",
       "      <td>...</td>\n",
       "      <td>...</td>\n",
       "      <td>...</td>\n",
       "      <td>...</td>\n",
       "      <td>...</td>\n",
       "    </tr>\n",
       "    <tr>\n",
       "      <th>522</th>\n",
       "      <td>10/25/1991</td>\n",
       "      <td>35400.0</td>\n",
       "      <td>0.70</td>\n",
       "      <td>7.6</td>\n",
       "      <td>156.0</td>\n",
       "      <td>364.0</td>\n",
       "      <td>194.0</td>\n",
       "      <td>63.9</td>\n",
       "      <td>5.5</td>\n",
       "      <td>1680</td>\n",
       "      <td>...</td>\n",
       "      <td>1840.0</td>\n",
       "      <td>47.3</td>\n",
       "      <td>61.3</td>\n",
       "      <td>94.0</td>\n",
       "      <td>76.4</td>\n",
       "      <td>-9999.0</td>\n",
       "      <td>86.5</td>\n",
       "      <td>82.4</td>\n",
       "      <td>90.7</td>\n",
       "      <td>99.8</td>\n",
       "    </tr>\n",
       "    <tr>\n",
       "      <th>523</th>\n",
       "      <td>10/26/1991</td>\n",
       "      <td>30964.0</td>\n",
       "      <td>3.30</td>\n",
       "      <td>7.7</td>\n",
       "      <td>220.0</td>\n",
       "      <td>540.0</td>\n",
       "      <td>184.0</td>\n",
       "      <td>62.0</td>\n",
       "      <td>3.5</td>\n",
       "      <td>1445</td>\n",
       "      <td>...</td>\n",
       "      <td>1337.0</td>\n",
       "      <td>-9999.0</td>\n",
       "      <td>38.6</td>\n",
       "      <td>93.3</td>\n",
       "      <td>-9999.0</td>\n",
       "      <td>87.0</td>\n",
       "      <td>92.7</td>\n",
       "      <td>95.0</td>\n",
       "      <td>91.8</td>\n",
       "      <td>95.7</td>\n",
       "    </tr>\n",
       "    <tr>\n",
       "      <th>524</th>\n",
       "      <td>10/27/1991</td>\n",
       "      <td>35573.0</td>\n",
       "      <td>7.30</td>\n",
       "      <td>7.6</td>\n",
       "      <td>176.0</td>\n",
       "      <td>333.0</td>\n",
       "      <td>178.0</td>\n",
       "      <td>64.0</td>\n",
       "      <td>3.5</td>\n",
       "      <td>1627</td>\n",
       "      <td>...</td>\n",
       "      <td>1799.0</td>\n",
       "      <td>-9999.0</td>\n",
       "      <td>40.4</td>\n",
       "      <td>95.0</td>\n",
       "      <td>-9999.0</td>\n",
       "      <td>72.9</td>\n",
       "      <td>90.9</td>\n",
       "      <td>79.9</td>\n",
       "      <td>-9999.0</td>\n",
       "      <td>98.6</td>\n",
       "    </tr>\n",
       "    <tr>\n",
       "      <th>525</th>\n",
       "      <td>10/29/1991</td>\n",
       "      <td>29801.0</td>\n",
       "      <td>1.60</td>\n",
       "      <td>7.7</td>\n",
       "      <td>172.0</td>\n",
       "      <td>400.0</td>\n",
       "      <td>136.0</td>\n",
       "      <td>70.1</td>\n",
       "      <td>1.5</td>\n",
       "      <td>1402</td>\n",
       "      <td>...</td>\n",
       "      <td>1468.0</td>\n",
       "      <td>32.4</td>\n",
       "      <td>40.4</td>\n",
       "      <td>88.0</td>\n",
       "      <td>87.8</td>\n",
       "      <td>77.6</td>\n",
       "      <td>91.3</td>\n",
       "      <td>85.3</td>\n",
       "      <td>83.8</td>\n",
       "      <td>96.7</td>\n",
       "    </tr>\n",
       "    <tr>\n",
       "      <th>526</th>\n",
       "      <td>10/30/1991</td>\n",
       "      <td>31524.0</td>\n",
       "      <td>1.60</td>\n",
       "      <td>7.9</td>\n",
       "      <td>-9999.0</td>\n",
       "      <td>478.0</td>\n",
       "      <td>204.0</td>\n",
       "      <td>64.7</td>\n",
       "      <td>6.0</td>\n",
       "      <td>1798</td>\n",
       "      <td>...</td>\n",
       "      <td>1568.0</td>\n",
       "      <td>-9999.0</td>\n",
       "      <td>43.9</td>\n",
       "      <td>65.3</td>\n",
       "      <td>-9999.0</td>\n",
       "      <td>75.3</td>\n",
       "      <td>-9999.0</td>\n",
       "      <td>81.2</td>\n",
       "      <td>89.7</td>\n",
       "      <td>99.2</td>\n",
       "    </tr>\n",
       "  </tbody>\n",
       "</table>\n",
       "<p>527 rows × 39 columns</p>\n",
       "</div>"
      ],
      "text/plain": [
       "           date  input_flow  input_Zinc  input_pH  input_BOD  input_COD  \\\n",
       "0      1/1/1990     41230.0        0.35       7.6      120.0      344.0   \n",
       "1      1/2/1990     37386.0        1.40       7.9      165.0      470.0   \n",
       "2      1/3/1990     34535.0        1.00       7.8      232.0      518.0   \n",
       "3      1/4/1990     32527.0        3.00       7.8      187.0      460.0   \n",
       "4      1/7/1990     27760.0        1.20       7.6      199.0      466.0   \n",
       "..          ...         ...         ...       ...        ...        ...   \n",
       "522  10/25/1991     35400.0        0.70       7.6      156.0      364.0   \n",
       "523  10/26/1991     30964.0        3.30       7.7      220.0      540.0   \n",
       "524  10/27/1991     35573.0        7.30       7.6      176.0      333.0   \n",
       "525  10/29/1991     29801.0        1.60       7.7      172.0      400.0   \n",
       "526  10/30/1991     31524.0        1.60       7.9    -9999.0      478.0   \n",
       "\n",
       "     input_SS  input_VSS  input_SED  input_CON  ...  output_COND  RD-DBO-P  \\\n",
       "0       136.0       54.4        4.5        993  ...        903.0   -9999.0   \n",
       "1       170.0       76.5        4.0       1365  ...       1481.0   -9999.0   \n",
       "2       220.0       65.5        5.5       1617  ...       1492.0      32.6   \n",
       "3       180.0       67.8        5.2       1832  ...       1590.0      13.2   \n",
       "4       186.0       74.2        4.5       1220  ...       1411.0      38.2   \n",
       "..        ...        ...        ...        ...  ...          ...       ...   \n",
       "522     194.0       63.9        5.5       1680  ...       1840.0      47.3   \n",
       "523     184.0       62.0        3.5       1445  ...       1337.0   -9999.0   \n",
       "524     178.0       64.0        3.5       1627  ...       1799.0   -9999.0   \n",
       "525     136.0       70.1        1.5       1402  ...       1468.0      32.4   \n",
       "526     204.0       64.7        6.0       1798  ...       1568.0   -9999.0   \n",
       "\n",
       "     RD-SS-P  RD-SED-P  RD-DBO-S  RD-DQO-S  RD-DBO-G  RD-DQO-G  RD-SS-G  \\\n",
       "0       62.8      93.3   -9999.0      62.5      86.7      71.8     87.5   \n",
       "1       50.0      94.4      85.9      73.6      86.7      79.4     89.4   \n",
       "2       62.4      95.0      81.3      59.9      87.5      71.8     85.9   \n",
       "3       57.6      95.5      85.3      70.4      85.0      77.2     83.3   \n",
       "4       46.6      95.0      84.9      61.1      89.4      73.8     86.6   \n",
       "..       ...       ...       ...       ...       ...       ...      ...   \n",
       "522     61.3      94.0      76.4   -9999.0      86.5      82.4     90.7   \n",
       "523     38.6      93.3   -9999.0      87.0      92.7      95.0     91.8   \n",
       "524     40.4      95.0   -9999.0      72.9      90.9      79.9  -9999.0   \n",
       "525     40.4      88.0      87.8      77.6      91.3      85.3     83.8   \n",
       "526     43.9      65.3   -9999.0      75.3   -9999.0      81.2     89.7   \n",
       "\n",
       "     RD-SED-G  \n",
       "0        99.4  \n",
       "1       100.0  \n",
       "2        99.8  \n",
       "3       100.0  \n",
       "4        99.6  \n",
       "..        ...  \n",
       "522      99.8  \n",
       "523      95.7  \n",
       "524      98.6  \n",
       "525      96.7  \n",
       "526      99.2  \n",
       "\n",
       "[527 rows x 39 columns]"
      ]
     },
     "execution_count": 19,
     "metadata": {},
     "output_type": "execute_result"
    }
   ],
   "source": [
    "water_data = pd.read_csv('Chapter6-Datasets/water-treatment.csv')\n",
    "water_data.fillna(-9999, inplace=True)\n",
    "water_data"
   ]
  },
  {
   "cell_type": "code",
   "execution_count": 20,
   "id": "6e747ac1",
   "metadata": {},
   "outputs": [],
   "source": [
    "water_data.set_index('date', drop=True, inplace = True)"
   ]
  },
  {
   "cell_type": "code",
   "execution_count": 21,
   "id": "4bbfe1a3",
   "metadata": {},
   "outputs": [
    {
     "data": {
      "text/plain": [
       "pandas.core.series.Series"
      ]
     },
     "execution_count": 21,
     "metadata": {},
     "output_type": "execute_result"
    }
   ],
   "source": [
    "type(water_data['input_flow'])"
   ]
  },
  {
   "cell_type": "code",
   "execution_count": 22,
   "id": "f130a0b4",
   "metadata": {},
   "outputs": [],
   "source": [
    "acidity = water_data.loc[water_data['input_pH']<7.5,:]\n",
    "pH = acidity['input_pH']"
   ]
  },
  {
   "cell_type": "code",
   "execution_count": 23,
   "id": "5489c242",
   "metadata": {},
   "outputs": [
    {
     "data": {
      "text/html": [
       "<div>\n",
       "<style scoped>\n",
       "    .dataframe tbody tr th:only-of-type {\n",
       "        vertical-align: middle;\n",
       "    }\n",
       "\n",
       "    .dataframe tbody tr th {\n",
       "        vertical-align: top;\n",
       "    }\n",
       "\n",
       "    .dataframe thead th {\n",
       "        text-align: right;\n",
       "    }\n",
       "</style>\n",
       "<table border=\"1\" class=\"dataframe\">\n",
       "  <thead>\n",
       "    <tr style=\"text-align: right;\">\n",
       "      <th></th>\n",
       "      <th>pH</th>\n",
       "    </tr>\n",
       "    <tr>\n",
       "      <th>date</th>\n",
       "      <th></th>\n",
       "    </tr>\n",
       "  </thead>\n",
       "  <tbody>\n",
       "    <tr>\n",
       "      <th>3/20/1990</th>\n",
       "      <td>7.4</td>\n",
       "    </tr>\n",
       "    <tr>\n",
       "      <th>4/13/1990</th>\n",
       "      <td>7.2</td>\n",
       "    </tr>\n",
       "    <tr>\n",
       "      <th>6/4/1990</th>\n",
       "      <td>7.3</td>\n",
       "    </tr>\n",
       "    <tr>\n",
       "      <th>6/8/1990</th>\n",
       "      <td>7.4</td>\n",
       "    </tr>\n",
       "    <tr>\n",
       "      <th>7/1/1990</th>\n",
       "      <td>7.3</td>\n",
       "    </tr>\n",
       "  </tbody>\n",
       "</table>\n",
       "</div>"
      ],
      "text/plain": [
       "            pH\n",
       "date          \n",
       "3/20/1990  7.4\n",
       "4/13/1990  7.2\n",
       "6/4/1990   7.3\n",
       "6/8/1990   7.4\n",
       "7/1/1990   7.3"
      ]
     },
     "execution_count": 23,
     "metadata": {},
     "output_type": "execute_result"
    }
   ],
   "source": [
    "pH_data=pd.DataFrame({'pH':pH})\n",
    "pH_data.head()"
   ]
  },
  {
   "cell_type": "code",
   "execution_count": 24,
   "id": "0185e506",
   "metadata": {},
   "outputs": [],
   "source": [
    "pH_data.reset_index(drop=True, inplace = True)"
   ]
  },
  {
   "cell_type": "code",
   "execution_count": 29,
   "id": "f4fbaa1b",
   "metadata": {},
   "outputs": [
    {
     "name": "stdout",
     "output_type": "stream",
     "text": [
      "    pH  flow\n",
      "0  7.4   NaN\n",
      "1  7.2   NaN\n",
      "2  7.3   NaN\n",
      "3  7.4   NaN\n",
      "4  7.3   NaN\n",
      "           pH     flow\n",
      "8/21/1990 NaN  34352.0\n",
      "8/24/1990 NaN  32802.0\n",
      "8/28/1991 NaN  32922.0\n",
      "8/29/1991 NaN  32190.0\n",
      "8/4/1991  NaN  24978.0\n"
     ]
    }
   ],
   "source": [
    "flow_hypothesis = pd.DataFrame({'pH': pH_data['pH'],'flow': acidity['input_flow']})\n",
    "print(flow_hypothesis.head())\n",
    "print(flow_hypothesis.tail())"
   ]
  },
  {
   "cell_type": "code",
   "execution_count": 31,
   "id": "824f4aa1",
   "metadata": {},
   "outputs": [
    {
     "name": "stdout",
     "output_type": "stream",
     "text": [
      "[0, 1, 2, 3, 4, 5, 6, 7, 8, 9, 10, 11, 12, 13, 14, 15, 16, 17, 18, 19, 20, 21, 22, 23, 24, 25, 26]\n",
      "Index(['3/20/1990', '4/13/1990', '6/4/1990', '6/8/1990', '7/1/1990',\n",
      "       '7/23/1990', '7/29/1990', '8/21/1990', '8/24/1990', '10/7/1990',\n",
      "       '3/26/1991', '4/12/1991', '5/9/1991', '5/23/1991', '6/14/1991',\n",
      "       '6/24/1991', '7/1/1991', '7/5/1991', '7/19/1991', '7/21/1991',\n",
      "       '7/30/1991', '8/1/1991', '8/4/1991', '8/18/1991', '8/28/1991',\n",
      "       '8/29/1991', '10/5/1991'],\n",
      "      dtype='object', name='date')\n"
     ]
    }
   ],
   "source": [
    "print(list(pH_data.index))\n",
    "print(acidity.index)"
   ]
  },
  {
   "cell_type": "code",
   "execution_count": 32,
   "id": "b0e3c38c",
   "metadata": {},
   "outputs": [
    {
     "name": "stdout",
     "output_type": "stream",
     "text": [
      "    pH     flow\n",
      "0  7.4  39165.0\n",
      "1  7.2  34667.0\n",
      "2  7.3  51520.0\n",
      "3  7.4  35789.0\n",
      "4  7.3  30201.0\n",
      "     pH     flow\n",
      "22  7.3  24978.0\n",
      "23  7.3  27527.0\n",
      "24  7.4  32922.0\n",
      "25  7.3  32190.0\n",
      "26  7.3  33695.0\n"
     ]
    }
   ],
   "source": [
    "acidity.set_index(pH_data.index, drop = True, inplace = True)\n",
    "flow_hypothesis=pd.DataFrame({'pH':pH_data['pH'], 'flow': acidity['input_flow']})\n",
    "print(flow_hypothesis.head())\n",
    "print(flow_hypothesis.tail())"
   ]
  },
  {
   "cell_type": "code",
   "execution_count": 35,
   "id": "5047fd67",
   "metadata": {},
   "outputs": [
    {
     "name": "stdout",
     "output_type": "stream",
     "text": [
      "            pH     flow\n",
      "date                   \n",
      "3/20/1990  7.4  39165.0\n",
      "4/13/1990  7.2  34667.0\n",
      "6/4/1990   7.3  51520.0\n",
      "6/8/1990   7.4  35789.0\n",
      "7/1/1990   7.3  30201.0\n",
      "            pH     flow\n",
      "date                   \n",
      "8/4/1991   7.3  24978.0\n",
      "8/18/1991  7.3  27527.0\n",
      "8/28/1991  7.4  32922.0\n",
      "8/29/1991  7.3  32190.0\n",
      "10/5/1991  7.3  33695.0\n"
     ]
    }
   ],
   "source": [
    "acidity = water_data.loc[water_data['input_pH']<7.5, :]\n",
    "pH = acidity['input_pH']\n",
    "flow = acidity['input_flow']\n",
    "flow_hypothesis = pd.DataFrame({'pH':pH,'flow': flow})\n",
    "print(flow_hypothesis.head())\n",
    "print(flow_hypothesis.tail())"
   ]
  },
  {
   "cell_type": "code",
   "execution_count": null,
   "id": "31163954",
   "metadata": {},
   "outputs": [],
   "source": []
  }
 ],
 "metadata": {
  "kernelspec": {
   "display_name": "Python 3 (ipykernel)",
   "language": "python",
   "name": "python3"
  },
  "language_info": {
   "codemirror_mode": {
    "name": "ipython",
    "version": 3
   },
   "file_extension": ".py",
   "mimetype": "text/x-python",
   "name": "python",
   "nbconvert_exporter": "python",
   "pygments_lexer": "ipython3",
   "version": "3.9.13"
  }
 },
 "nbformat": 4,
 "nbformat_minor": 5
}
