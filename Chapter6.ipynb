{
 "cells": [
  {
   "cell_type": "markdown",
   "id": "9027bb59",
   "metadata": {},
   "source": [
    "# Chapter 6 : Data Selection - Series"
   ]
  },
  {
   "cell_type": "code",
   "execution_count": 1,
   "id": "4877e598",
   "metadata": {},
   "outputs": [],
   "source": [
    "import pandas as pd"
   ]
  },
  {
   "cell_type": "markdown",
   "id": "a0eca52b",
   "metadata": {},
   "source": [
    "##  Introduction to pandas Series"
   ]
  },
  {
   "cell_type": "markdown",
   "id": "6db65c57",
   "metadata": {},
   "source": [
    "### The Series Index"
   ]
  },
  {
   "cell_type": "code",
   "execution_count": 2,
   "id": "31a58f24",
   "metadata": {},
   "outputs": [
    {
     "data": {
      "text/plain": [
       "Jan    100\n",
       "Feb    125\n",
       "Mar    105\n",
       "Apr    111\n",
       "May    275\n",
       "Jun    137\n",
       "Jul     99\n",
       "Aug     10\n",
       "Sep    250\n",
       "Oct    100\n",
       "Nov    175\n",
       "Dec    200\n",
       "Name: income, dtype: int64"
      ]
     },
     "execution_count": 2,
     "metadata": {},
     "output_type": "execute_result"
    }
   ],
   "source": [
    "income = pd.Series([100,125,105,111,275,137,99,10,250,100,175,200], index=['Jan','Feb','Mar','Apr','May','Jun','Jul','Aug','Sep','Oct','Nov','Dec'], name='income')\n",
    "income"
   ]
  },
  {
   "cell_type": "code",
   "execution_count": 3,
   "id": "3e63d39e",
   "metadata": {},
   "outputs": [
    {
     "data": {
      "text/plain": [
       "0     100\n",
       "1     125\n",
       "2     105\n",
       "3     111\n",
       "4     275\n",
       "5     137\n",
       "6      99\n",
       "7      10\n",
       "8     250\n",
       "9     100\n",
       "10    175\n",
       "11    200\n",
       "Name: income, dtype: int64"
      ]
     },
     "execution_count": 3,
     "metadata": {},
     "output_type": "execute_result"
    }
   ],
   "source": [
    "income.reset_index(drop=True)"
   ]
  },
  {
   "cell_type": "code",
   "execution_count": null,
   "id": "69fb8319",
   "metadata": {},
   "outputs": [],
   "source": []
  }
 ],
 "metadata": {
  "kernelspec": {
   "display_name": "Python 3 (ipykernel)",
   "language": "python",
   "name": "python3"
  },
  "language_info": {
   "codemirror_mode": {
    "name": "ipython",
    "version": 3
   },
   "file_extension": ".py",
   "mimetype": "text/x-python",
   "name": "python",
   "nbconvert_exporter": "python",
   "pygments_lexer": "ipython3",
   "version": "3.9.13"
  }
 },
 "nbformat": 4,
 "nbformat_minor": 5
}
