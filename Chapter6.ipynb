{
 "cells": [
  {
   "cell_type": "markdown",
   "id": "15241661",
   "metadata": {},
   "source": [
    "# Chapter 6 : Data Selection - Series"
   ]
  },
  {
   "cell_type": "code",
   "execution_count": 1,
   "id": "b56a2505",
   "metadata": {},
   "outputs": [],
   "source": [
    "import pandas as pd"
   ]
  },
  {
   "cell_type": "markdown",
   "id": "50ddcd10",
   "metadata": {},
   "source": [
    "##  Introduction to pandas Series"
   ]
  },
  {
   "cell_type": "markdown",
   "id": "0fb29e90",
   "metadata": {},
   "source": [
    "### The Series Index"
   ]
  },
  {
   "cell_type": "code",
   "execution_count": 2,
   "id": "7de566c7",
   "metadata": {},
   "outputs": [
    {
     "data": {
      "text/plain": [
       "Jan    100\n",
       "Feb    125\n",
       "Mar    105\n",
       "Apr    111\n",
       "May    275\n",
       "Jun    137\n",
       "Jul     99\n",
       "Aug     10\n",
       "Sep    250\n",
       "Oct    100\n",
       "Nov    175\n",
       "Dec    200\n",
       "Name: income, dtype: int64"
      ]
     },
     "execution_count": 2,
     "metadata": {},
     "output_type": "execute_result"
    }
   ],
   "source": [
    "income = pd.Series([100,125,105,111,275,137,99,10,250,100,175,200], index=['Jan','Feb','Mar','Apr','May','Jun','Jul','Aug','Sep','Oct','Nov','Dec'], name='income')\n",
    "income"
   ]
  },
  {
   "cell_type": "code",
   "execution_count": 3,
   "id": "8776c83d",
   "metadata": {},
   "outputs": [
    {
     "data": {
      "text/plain": [
       "0     100\n",
       "1     125\n",
       "2     105\n",
       "3     111\n",
       "4     275\n",
       "5     137\n",
       "6      99\n",
       "7      10\n",
       "8     250\n",
       "9     100\n",
       "10    175\n",
       "11    200\n",
       "Name: income, dtype: int64"
      ]
     },
     "execution_count": 3,
     "metadata": {},
     "output_type": "execute_result"
    }
   ],
   "source": [
    "income.reset_index(drop=True)"
   ]
  },
  {
   "cell_type": "markdown",
   "id": "4088bdf4",
   "metadata": {},
   "source": [
    "## Data Selection in a pandas Series"
   ]
  },
  {
   "cell_type": "markdown",
   "id": "6554b15d",
   "metadata": {},
   "source": [
    "### Brackets, dots, Series.loc, and Series.iloc"
   ]
  },
  {
   "cell_type": "code",
   "execution_count": 5,
   "id": "eec9d117",
   "metadata": {},
   "outputs": [
    {
     "name": "stdout",
     "output_type": "stream",
     "text": [
      "<class 'pandas.core.series.Series'>\n",
      "0    288.177459\n",
      "1    316.485721\n",
      "2    338.565899\n",
      "3    336.866984\n",
      "4    332.844765\n",
      "Name: annual_cost, dtype: float64\n"
     ]
    }
   ],
   "source": [
    "UK_energy = pd.read_csv('Chapter6-Datasets/UK_energy.csv', index_col=None, usecols=[1]).squeeze(\"columns\")\n",
    "print(type(UK_energy))\n",
    "print(UK_energy.head())"
   ]
  },
  {
   "cell_type": "code",
   "execution_count": 6,
   "id": "1d00dec2",
   "metadata": {},
   "outputs": [
    {
     "name": "stdout",
     "output_type": "stream",
     "text": [
      "UK_energy.loc[[2,4,6]]\n",
      "\n",
      " 2    338.565899\n",
      "4    332.844765\n",
      "6    341.909881\n",
      "Name: annual_cost, dtype: float64\n"
     ]
    }
   ],
   "source": [
    "print('UK_energy.loc[[2,4,6]]\\n\\n', UK_energy.loc[[2,4,6]])"
   ]
  },
  {
   "cell_type": "code",
   "execution_count": 7,
   "id": "44a62e98",
   "metadata": {},
   "outputs": [
    {
     "name": "stdout",
     "output_type": "stream",
     "text": [
      "UK_energy[2:7:2]\n",
      "\n",
      " 2    338.565899\n",
      "4    332.844765\n",
      "6    341.909881\n",
      "Name: annual_cost, dtype: float64\n"
     ]
    }
   ],
   "source": [
    "print('UK_energy[2:7:2]\\n\\n', UK_energy[2:7:2])"
   ]
  },
  {
   "cell_type": "code",
   "execution_count": 8,
   "id": "ab4ad583",
   "metadata": {},
   "outputs": [
    {
     "name": "stdout",
     "output_type": "stream",
     "text": [
      "UK_energy[[2,4,6]]\n",
      "\n",
      " 2    338.565899\n",
      "4    332.844765\n",
      "6    341.909881\n",
      "Name: annual_cost, dtype: float64\n"
     ]
    }
   ],
   "source": [
    "print('UK_energy[[2,4,6]]\\n\\n', UK_energy[[2,4,6]])"
   ]
  },
  {
   "cell_type": "code",
   "execution_count": 9,
   "id": "4e5ba1d3",
   "metadata": {},
   "outputs": [
    {
     "name": "stdout",
     "output_type": "stream",
     "text": [
      "UK_energy[[,2,4,6]]\n",
      "\n",
      " 2    338.565899\n",
      "4    332.844765\n",
      "6    341.909881\n",
      "Name: annual_cost, dtype: float64\n"
     ]
    }
   ],
   "source": [
    "print('UK_energy.iloc[[,2,4,6]]\\n\\n', UK_energy.iloc[[2,4,6]])"
   ]
  },
  {
   "cell_type": "code",
   "execution_count": 10,
   "id": "8c1b88dc",
   "metadata": {},
   "outputs": [
    {
     "name": "stdout",
     "output_type": "stream",
     "text": [
      "UK_energy.iloc[[2:7:2]]\n",
      "\n",
      " 2    338.565899\n",
      "4    332.844765\n",
      "6    341.909881\n",
      "Name: annual_cost, dtype: float64\n"
     ]
    }
   ],
   "source": [
    "print('UK_energy.iloc[[2:7:2]]\\n\\n', UK_energy.iloc[2:7:2])"
   ]
  },
  {
   "cell_type": "code",
   "execution_count": 11,
   "id": "296da475",
   "metadata": {},
   "outputs": [
    {
     "data": {
      "text/plain": [
       "Index(['year_1990', 'year_1991', 'year_1992', 'year_1993', 'year_1994',\n",
       "       'year_1995', 'year_1996', 'year_1997', 'year_1998', 'year_1999',\n",
       "       'year_2000', 'year_2001', 'year_2002', 'year_2003', 'year_2004',\n",
       "       'year_2005', 'year_2006', 'year_2007', 'year_2008', 'year_2009',\n",
       "       'year_2010', 'year_2011', 'year_2012', 'year_2013', 'year_2014',\n",
       "       'year_2015', 'year_2016', 'year_2017', 'year_2018', 'year_2019'],\n",
       "      dtype='object')"
      ]
     },
     "execution_count": 11,
     "metadata": {},
     "output_type": "execute_result"
    }
   ],
   "source": [
    "UK_energy.index = ['year_'+str(i) for i in range(1990,2020)]\n",
    "UK_energy.index"
   ]
  },
  {
   "cell_type": "code",
   "execution_count": 12,
   "id": "4682a67a",
   "metadata": {},
   "outputs": [
    {
     "data": {
      "text/plain": [
       "326.4184542"
      ]
     },
     "execution_count": 12,
     "metadata": {},
     "output_type": "execute_result"
    }
   ],
   "source": [
    "UK_energy.year_1997"
   ]
  },
  {
   "cell_type": "code",
   "execution_count": 13,
   "id": "ee864215",
   "metadata": {},
   "outputs": [
    {
     "data": {
      "text/plain": [
       "year_1997    326.418454\n",
       "year_1998    306.393163\n",
       "year_1999    295.687501\n",
       "year_2000    290.333333\n",
       "year_2001    283.333333\n",
       "year_2002    281.666667\n",
       "year_2003    283.666667\n",
       "year_2004    291.666667\n",
       "year_2005    323.666667\n",
       "year_2006    382.000000\n",
       "year_2007    423.111111\n",
       "year_2008    487.333333\n",
       "year_2009    498.666667\n",
       "year_2010    484.000000\n",
       "year_2011    523.181818\n",
       "Name: annual_cost, dtype: float64"
      ]
     },
     "execution_count": 13,
     "metadata": {},
     "output_type": "execute_result"
    }
   ],
   "source": [
    "UK_energy['year_1997':'year_2011']"
   ]
  },
  {
   "cell_type": "markdown",
   "id": "ec122635",
   "metadata": {},
   "source": [
    "## Exercise 6.01 - basic Series data selection"
   ]
  },
  {
   "cell_type": "code",
   "execution_count": 15,
   "id": "8d735250",
   "metadata": {},
   "outputs": [
    {
     "data": {
      "text/plain": [
       "0      0.783670\n",
       "1      0.293040\n",
       "2      0.111169\n",
       "3     -0.169703\n",
       "4     -0.147029\n",
       "         ...   \n",
       "139    0.723983\n",
       "140    0.687518\n",
       "141    0.515671\n",
       "142    0.432008\n",
       "143    0.146747\n",
       "Name: Y, Length: 144, dtype: float64"
      ]
     },
     "execution_count": 15,
     "metadata": {},
     "output_type": "execute_result"
    }
   ],
   "source": [
    "BOLD = pd.read_csv('Chapter6-Datasets/PLOS_BOLD_S1_patient_1.csv').squeeze('columns')\n",
    "BOLD"
   ]
  },
  {
   "cell_type": "code",
   "execution_count": 16,
   "id": "8dd4b50c",
   "metadata": {},
   "outputs": [
    {
     "data": {
      "text/plain": [
       "0      0.783670\n",
       "2      0.293040\n",
       "4      0.111169\n",
       "6     -0.169703\n",
       "8     -0.147029\n",
       "         ...   \n",
       "278    0.723983\n",
       "280    0.687518\n",
       "282    0.515671\n",
       "284    0.432008\n",
       "286    0.146747\n",
       "Name: Y, Length: 144, dtype: float64"
      ]
     },
     "execution_count": 16,
     "metadata": {},
     "output_type": "execute_result"
    }
   ],
   "source": [
    "BOLD.index = range(0, 2*len(BOLD),2)\n",
    "BOLD"
   ]
  },
  {
   "cell_type": "code",
   "execution_count": 17,
   "id": "c1e03b0b",
   "metadata": {},
   "outputs": [
    {
     "data": {
      "text/plain": [
       "0      0.783670\n",
       "4      0.111169\n",
       "8     -0.147029\n",
       "12    -0.032271\n",
       "16    -0.202202\n",
       "         ...   \n",
       "268   -0.014538\n",
       "272    0.180167\n",
       "276    0.382172\n",
       "280    0.687518\n",
       "284    0.432008\n",
       "Name: Y, Length: 72, dtype: float64"
      ]
     },
     "execution_count": 17,
     "metadata": {},
     "output_type": "execute_result"
    }
   ],
   "source": [
    "B2=BOLD[::2]\n",
    "B2"
   ]
  },
  {
   "cell_type": "code",
   "execution_count": 18,
   "id": "784f383c",
   "metadata": {},
   "outputs": [
    {
     "data": {
      "text/plain": [
       "284    0.432008\n",
       "280    0.687518\n",
       "276    0.382172\n",
       "272    0.180167\n",
       "268   -0.014538\n",
       "264   -0.080900\n",
       "260    0.069567\n",
       "256    0.153728\n",
       "252    0.220703\n",
       "Name: Y, dtype: float64"
      ]
     },
     "execution_count": 18,
     "metadata": {},
     "output_type": "execute_result"
    }
   ],
   "source": [
    "B2[len(B2):(len(B2)-10):-1]"
   ]
  },
  {
   "cell_type": "code",
   "execution_count": null,
   "id": "1c5e5611",
   "metadata": {},
   "outputs": [],
   "source": []
  }
 ],
 "metadata": {
  "kernelspec": {
   "display_name": "Python 3 (ipykernel)",
   "language": "python",
   "name": "python3"
  },
  "language_info": {
   "codemirror_mode": {
    "name": "ipython",
    "version": 3
   },
   "file_extension": ".py",
   "mimetype": "text/x-python",
   "name": "python",
   "nbconvert_exporter": "python",
   "pygments_lexer": "ipython3",
   "version": "3.9.13"
  }
 },
 "nbformat": 4,
 "nbformat_minor": 5
}
