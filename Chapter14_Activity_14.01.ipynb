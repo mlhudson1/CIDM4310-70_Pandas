{
 "cells": [
  {
   "cell_type": "markdown",
   "id": "2fd62c7e",
   "metadata": {},
   "source": [
    "# Activity 14.01 - Analyzing air quality data"
   ]
  },
  {
   "cell_type": "markdown",
   "id": "495eb087",
   "metadata": {},
   "source": [
    "Consider that you're working as a data analyst for your city's municipality. The Department for the Environment needs your help in getting answeres to some questions related to emissions. The following are the questions the department wants answeres to:"
   ]
  },
  {
   "cell_type": "markdown",
   "id": "c7021b0c",
   "metadata": {},
   "source": [
    "    Which day of the week has the highest NO2(GT) emissions?\n",
    "    \n",
    "    At what time of the day are NMHC(GT) emissions highest?\n",
    "    \n",
    "    Which month has the lowest CO(GT) emissions?"
   ]
  },
  {
   "cell_type": "markdown",
   "id": "8fbfa3e6",
   "metadata": {},
   "source": [
    "1. Open a new Jupyter notebook."
   ]
  },
  {
   "cell_type": "markdown",
   "id": "6cf60a93",
   "metadata": {},
   "source": [
    "2. Download the data and then read the data using pandas."
   ]
  },
  {
   "cell_type": "markdown",
   "id": "1a26ad6d",
   "metadata": {},
   "source": [
    "3. Drop unknown columns and rows with NA valus."
   ]
  },
  {
   "cell_type": "markdown",
   "id": "a54a3a01",
   "metadata": {},
   "source": [
    "4. Extract the different attributes from the date column."
   ]
  },
  {
   "cell_type": "markdown",
   "id": "6dae3720",
   "metadata": {},
   "source": [
    "5. Use the different methods you have learned in this chapter to answer all of the questions."
   ]
  },
  {
   "cell_type": "markdown",
   "id": "0a4b9b54",
   "metadata": {},
   "source": [
    "6. Use suitable plotting methods to get relevent charts."
   ]
  },
  {
   "cell_type": "code",
   "execution_count": null,
   "id": "97e385f2",
   "metadata": {},
   "outputs": [],
   "source": []
  }
 ],
 "metadata": {
  "kernelspec": {
   "display_name": "Python 3 (ipykernel)",
   "language": "python",
   "name": "python3"
  },
  "language_info": {
   "codemirror_mode": {
    "name": "ipython",
    "version": 3
   },
   "file_extension": ".py",
   "mimetype": "text/x-python",
   "name": "python",
   "nbconvert_exporter": "python",
   "pygments_lexer": "ipython3",
   "version": "3.9.13"
  }
 },
 "nbformat": 4,
 "nbformat_minor": 5
}
