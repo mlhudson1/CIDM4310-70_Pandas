{
 "cells": [
  {
   "cell_type": "markdown",
   "id": "72126fb9",
   "metadata": {},
   "source": [
    "# Activity 6.02 - DataFrame data selection"
   ]
  },
  {
   "cell_type": "markdown",
   "id": "5d232584",
   "metadata": {},
   "source": [
    "1. For this activity, all you will need is the pandas library. Load it into the first cell of the notebook."
   ]
  },
  {
   "cell_type": "markdown",
   "id": "de84d271",
   "metadata": {},
   "source": [
    "2. Read the abalone.csv file into a DataFrame called abalone and view the first five rows. "
   ]
  },
  {
   "cell_type": "markdown",
   "id": "6c882412",
   "metadata": {},
   "source": [
    "3. Create a MultiIndex from the Sex and Rings columns since thes are the variables that you want to summarize the data for. Be sure to drop the Sex and Rings columns once the index has been created."
   ]
  },
  {
   "cell_type": "markdown",
   "id": "0565aa8e",
   "metadata": {},
   "source": [
    "4. You plan to focus on oysters that have more than 15 rings. Since you want statistics for each sex, you need to know the values of Rings in the data for each sex. Use abalone.loc['sex'].index ot get a list of all the values for each sex (replace Sex with M and then F). This works well because you have a two-level index, so by passing a value to filter on Sex, you get the relevant itemd in teh next level index, which is Rings.\n",
    "\n",
    "To filter the data, you will need a list of the unique values of the rings. Python provdes the set() method, which conveniently produces a set of unique values, so you can apply it to set(abalone.loc['sex'].index) to store the unique values of rings for each sex in a variable."
   ]
  },
  {
   "cell_type": "markdown",
   "id": "f6b4f373",
   "metadata": {},
   "source": [
    "5. You also need the maximum number of rings for each sex. You can get that with max(abalone.loc['sex'].index), wich works the same way as getting all the values. Store this value for each sex in a variable."
   ]
  },
  {
   "cell_type": "markdown",
   "id": "c2f0b0be",
   "metadata": {},
   "source": [
    "6. Now, you need to find the values for each sex that are greater than 15 and are in the unique values for hat sex. You can use list comprehension to iterate ofer the possible values and keep only those that belong to a given sex. This looks like [i for i in range(min_rings, max_rings +1) if i in all_rings], where all_rings is the list of unique values for the sex, min_rings is 16( one more than 15), and max_rings is the maximum values for the sex. Do this and save the result for each sex."
   ]
  },
  {
   "cell_type": "markdown",
   "id": "360d6ff7",
   "metadata": {},
   "source": [
    "7. Now, you need to select the data for each sex for the .Shucked weight, length, diameter, and height columns. For each column, you want the mean value. Perform this operation for each sex, using the correct list of rings, and save each result in a separate variable."
   ]
  },
  {
   "cell_type": "markdown",
   "id": "0c004b7f",
   "metadata": {},
   "source": [
    "8. Print out a comparison of the values between the two sexes."
   ]
  },
  {
   "cell_type": "code",
   "execution_count": null,
   "id": "4858e095",
   "metadata": {},
   "outputs": [],
   "source": []
  }
 ],
 "metadata": {
  "kernelspec": {
   "display_name": "Python 3 (ipykernel)",
   "language": "python",
   "name": "python3"
  },
  "language_info": {
   "codemirror_mode": {
    "name": "ipython",
    "version": 3
   },
   "file_extension": ".py",
   "mimetype": "text/x-python",
   "name": "python",
   "nbconvert_exporter": "python",
   "pygments_lexer": "ipython3",
   "version": "3.9.13"
  }
 },
 "nbformat": 4,
 "nbformat_minor": 5
}
