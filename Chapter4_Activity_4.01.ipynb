{
 "cells": [
  {
   "cell_type": "markdown",
   "id": "08dcd2d5",
   "metadata": {},
   "source": [
    "# Activity 4.01 - optimizing memory usage by converting into the appropriate dtypes"
   ]
  },
  {
   "cell_type": "markdown",
   "id": "acdb989c",
   "metadata": {},
   "source": [
    "1. Open a Jupyter Notebook."
   ]
  },
  {
   "cell_type": "markdown",
   "id": "abdba1da",
   "metadata": {},
   "source": [
    "2. Import the pandas package."
   ]
  },
  {
   "cell_type": "code",
   "execution_count": 1,
   "id": "b8d2bc98",
   "metadata": {},
   "outputs": [],
   "source": [
    "import pandas as pd"
   ]
  },
  {
   "cell_type": "markdown",
   "id": "aae36dd3",
   "metadata": {},
   "source": [
    "3. Load the CSV file as a DataFrame"
   ]
  },
  {
   "cell_type": "code",
   "execution_count": 2,
   "id": "8216ecb6",
   "metadata": {},
   "outputs": [],
   "source": [
    "file_url=\"https://raw.githubusercontent.com/PacktWorkshops/The-Pandas-Workshop/master/Chapter04/Data/car.csv\"\n",
    "df=pd.read_csv(file_url)"
   ]
  },
  {
   "cell_type": "markdown",
   "id": "75f3f67b",
   "metadata": {},
   "source": [
    "4. Display the first 10 rows of the DataFrame"
   ]
  },
  {
   "cell_type": "code",
   "execution_count": 3,
   "id": "eddfc729",
   "metadata": {},
   "outputs": [
    {
     "data": {
      "text/html": [
       "<div>\n",
       "<style scoped>\n",
       "    .dataframe tbody tr th:only-of-type {\n",
       "        vertical-align: middle;\n",
       "    }\n",
       "\n",
       "    .dataframe tbody tr th {\n",
       "        vertical-align: top;\n",
       "    }\n",
       "\n",
       "    .dataframe thead th {\n",
       "        text-align: right;\n",
       "    }\n",
       "</style>\n",
       "<table border=\"1\" class=\"dataframe\">\n",
       "  <thead>\n",
       "    <tr style=\"text-align: right;\">\n",
       "      <th></th>\n",
       "      <th>buying</th>\n",
       "      <th>maint</th>\n",
       "      <th>doors</th>\n",
       "      <th>persons</th>\n",
       "      <th>lug_boot</th>\n",
       "      <th>safety</th>\n",
       "      <th>class</th>\n",
       "    </tr>\n",
       "  </thead>\n",
       "  <tbody>\n",
       "    <tr>\n",
       "      <th>0</th>\n",
       "      <td>vhigh</td>\n",
       "      <td>vhigh</td>\n",
       "      <td>2</td>\n",
       "      <td>2.0</td>\n",
       "      <td>small</td>\n",
       "      <td>low</td>\n",
       "      <td>unacc</td>\n",
       "    </tr>\n",
       "    <tr>\n",
       "      <th>1</th>\n",
       "      <td>vhigh</td>\n",
       "      <td>vhigh</td>\n",
       "      <td>2</td>\n",
       "      <td>2.0</td>\n",
       "      <td>small</td>\n",
       "      <td>med</td>\n",
       "      <td>unacc</td>\n",
       "    </tr>\n",
       "    <tr>\n",
       "      <th>2</th>\n",
       "      <td>vhigh</td>\n",
       "      <td>vhigh</td>\n",
       "      <td>2</td>\n",
       "      <td>NaN</td>\n",
       "      <td>small</td>\n",
       "      <td>high</td>\n",
       "      <td>unacc</td>\n",
       "    </tr>\n",
       "    <tr>\n",
       "      <th>3</th>\n",
       "      <td>vhigh</td>\n",
       "      <td>vhigh</td>\n",
       "      <td>2</td>\n",
       "      <td>2.0</td>\n",
       "      <td>med</td>\n",
       "      <td>low</td>\n",
       "      <td>unacc</td>\n",
       "    </tr>\n",
       "    <tr>\n",
       "      <th>4</th>\n",
       "      <td>vhigh</td>\n",
       "      <td>vhigh</td>\n",
       "      <td>2</td>\n",
       "      <td>2.0</td>\n",
       "      <td>med</td>\n",
       "      <td>med</td>\n",
       "      <td>unacc</td>\n",
       "    </tr>\n",
       "    <tr>\n",
       "      <th>5</th>\n",
       "      <td>NaN</td>\n",
       "      <td>vhigh</td>\n",
       "      <td>2</td>\n",
       "      <td>2.0</td>\n",
       "      <td>med</td>\n",
       "      <td>high</td>\n",
       "      <td>NaN</td>\n",
       "    </tr>\n",
       "    <tr>\n",
       "      <th>6</th>\n",
       "      <td>vhigh</td>\n",
       "      <td>vhigh</td>\n",
       "      <td>2</td>\n",
       "      <td>2.0</td>\n",
       "      <td>big</td>\n",
       "      <td>low</td>\n",
       "      <td>unacc</td>\n",
       "    </tr>\n",
       "    <tr>\n",
       "      <th>7</th>\n",
       "      <td>vhigh</td>\n",
       "      <td>vhigh</td>\n",
       "      <td>2</td>\n",
       "      <td>2.0</td>\n",
       "      <td>big</td>\n",
       "      <td>NaN</td>\n",
       "      <td>unacc</td>\n",
       "    </tr>\n",
       "    <tr>\n",
       "      <th>8</th>\n",
       "      <td>vhigh</td>\n",
       "      <td>vhigh</td>\n",
       "      <td>2</td>\n",
       "      <td>2.0</td>\n",
       "      <td>big</td>\n",
       "      <td>high</td>\n",
       "      <td>unacc</td>\n",
       "    </tr>\n",
       "    <tr>\n",
       "      <th>9</th>\n",
       "      <td>vhigh</td>\n",
       "      <td>NaN</td>\n",
       "      <td>2</td>\n",
       "      <td>4.0</td>\n",
       "      <td>small</td>\n",
       "      <td>low</td>\n",
       "      <td>unacc</td>\n",
       "    </tr>\n",
       "  </tbody>\n",
       "</table>\n",
       "</div>"
      ],
      "text/plain": [
       "  buying  maint  doors  persons lug_boot safety  class\n",
       "0  vhigh  vhigh      2      2.0    small    low  unacc\n",
       "1  vhigh  vhigh      2      2.0    small    med  unacc\n",
       "2  vhigh  vhigh      2      NaN    small   high  unacc\n",
       "3  vhigh  vhigh      2      2.0      med    low  unacc\n",
       "4  vhigh  vhigh      2      2.0      med    med  unacc\n",
       "5    NaN  vhigh      2      2.0      med   high    NaN\n",
       "6  vhigh  vhigh      2      2.0      big    low  unacc\n",
       "7  vhigh  vhigh      2      2.0      big    NaN  unacc\n",
       "8  vhigh  vhigh      2      2.0      big   high  unacc\n",
       "9  vhigh    NaN      2      4.0    small    low  unacc"
      ]
     },
     "execution_count": 3,
     "metadata": {},
     "output_type": "execute_result"
    }
   ],
   "source": [
    "df.head(10)"
   ]
  },
  {
   "cell_type": "markdown",
   "id": "f4999a1a",
   "metadata": {},
   "source": [
    "5. Display the data types of each column in the DataFrame using the info() method"
   ]
  },
  {
   "cell_type": "code",
   "execution_count": 10,
   "id": "ceb0108a",
   "metadata": {},
   "outputs": [
    {
     "name": "stdout",
     "output_type": "stream",
     "text": [
      "<class 'pandas.core.frame.DataFrame'>\n",
      "RangeIndex: 1728 entries, 0 to 1727\n",
      "Data columns (total 7 columns):\n",
      " #   Column    Non-Null Count  Dtype  \n",
      "---  ------    --------------  -----  \n",
      " 0   buying    1728 non-null   object \n",
      " 1   maint     1728 non-null   object \n",
      " 2   doors     1728 non-null   int64  \n",
      " 3   persons   1728 non-null   float64\n",
      " 4   lug_boot  1728 non-null   object \n",
      " 5   safety    1728 non-null   object \n",
      " 6   class     1728 non-null   object \n",
      "dtypes: float64(1), int64(1), object(5)\n",
      "memory usage: 94.6+ KB\n"
     ]
    }
   ],
   "source": [
    "df.info()"
   ]
  },
  {
   "cell_type": "code",
   "execution_count": 11,
   "id": "cfe28a07",
   "metadata": {},
   "outputs": [
    {
     "data": {
      "text/plain": [
       "buying       object\n",
       "maint        object\n",
       "doors         int64\n",
       "persons     float64\n",
       "lug_boot     object\n",
       "safety       object\n",
       "class        object\n",
       "dtype: object"
      ]
     },
     "execution_count": 11,
     "metadata": {},
     "output_type": "execute_result"
    }
   ],
   "source": [
    "df.dtypes"
   ]
  },
  {
   "cell_type": "markdown",
   "id": "a1412c4c",
   "metadata": {},
   "source": [
    "6. REplace the missing values appropriately"
   ]
  },
  {
   "cell_type": "code",
   "execution_count": 9,
   "id": "d54417f9",
   "metadata": {},
   "outputs": [
    {
     "data": {
      "text/html": [
       "<div>\n",
       "<style scoped>\n",
       "    .dataframe tbody tr th:only-of-type {\n",
       "        vertical-align: middle;\n",
       "    }\n",
       "\n",
       "    .dataframe tbody tr th {\n",
       "        vertical-align: top;\n",
       "    }\n",
       "\n",
       "    .dataframe thead th {\n",
       "        text-align: right;\n",
       "    }\n",
       "</style>\n",
       "<table border=\"1\" class=\"dataframe\">\n",
       "  <thead>\n",
       "    <tr style=\"text-align: right;\">\n",
       "      <th></th>\n",
       "      <th>buying</th>\n",
       "      <th>maint</th>\n",
       "      <th>doors</th>\n",
       "      <th>persons</th>\n",
       "      <th>lug_boot</th>\n",
       "      <th>safety</th>\n",
       "      <th>class</th>\n",
       "    </tr>\n",
       "  </thead>\n",
       "  <tbody>\n",
       "    <tr>\n",
       "      <th>0</th>\n",
       "      <td>vhigh</td>\n",
       "      <td>vhigh</td>\n",
       "      <td>2</td>\n",
       "      <td>2.0</td>\n",
       "      <td>small</td>\n",
       "      <td>low</td>\n",
       "      <td>unacc</td>\n",
       "    </tr>\n",
       "    <tr>\n",
       "      <th>1</th>\n",
       "      <td>vhigh</td>\n",
       "      <td>vhigh</td>\n",
       "      <td>2</td>\n",
       "      <td>2.0</td>\n",
       "      <td>small</td>\n",
       "      <td>med</td>\n",
       "      <td>unacc</td>\n",
       "    </tr>\n",
       "    <tr>\n",
       "      <th>2</th>\n",
       "      <td>vhigh</td>\n",
       "      <td>vhigh</td>\n",
       "      <td>2</td>\n",
       "      <td>0.0</td>\n",
       "      <td>small</td>\n",
       "      <td>high</td>\n",
       "      <td>unacc</td>\n",
       "    </tr>\n",
       "    <tr>\n",
       "      <th>3</th>\n",
       "      <td>vhigh</td>\n",
       "      <td>vhigh</td>\n",
       "      <td>2</td>\n",
       "      <td>2.0</td>\n",
       "      <td>med</td>\n",
       "      <td>low</td>\n",
       "      <td>unacc</td>\n",
       "    </tr>\n",
       "    <tr>\n",
       "      <th>4</th>\n",
       "      <td>vhigh</td>\n",
       "      <td>vhigh</td>\n",
       "      <td>2</td>\n",
       "      <td>2.0</td>\n",
       "      <td>med</td>\n",
       "      <td>med</td>\n",
       "      <td>unacc</td>\n",
       "    </tr>\n",
       "    <tr>\n",
       "      <th>5</th>\n",
       "      <td>missing buying</td>\n",
       "      <td>vhigh</td>\n",
       "      <td>2</td>\n",
       "      <td>2.0</td>\n",
       "      <td>med</td>\n",
       "      <td>high</td>\n",
       "      <td>missing class</td>\n",
       "    </tr>\n",
       "    <tr>\n",
       "      <th>6</th>\n",
       "      <td>vhigh</td>\n",
       "      <td>vhigh</td>\n",
       "      <td>2</td>\n",
       "      <td>2.0</td>\n",
       "      <td>big</td>\n",
       "      <td>low</td>\n",
       "      <td>unacc</td>\n",
       "    </tr>\n",
       "    <tr>\n",
       "      <th>7</th>\n",
       "      <td>vhigh</td>\n",
       "      <td>vhigh</td>\n",
       "      <td>2</td>\n",
       "      <td>2.0</td>\n",
       "      <td>big</td>\n",
       "      <td>missing safety</td>\n",
       "      <td>unacc</td>\n",
       "    </tr>\n",
       "    <tr>\n",
       "      <th>8</th>\n",
       "      <td>vhigh</td>\n",
       "      <td>vhigh</td>\n",
       "      <td>2</td>\n",
       "      <td>2.0</td>\n",
       "      <td>big</td>\n",
       "      <td>high</td>\n",
       "      <td>unacc</td>\n",
       "    </tr>\n",
       "    <tr>\n",
       "      <th>9</th>\n",
       "      <td>vhigh</td>\n",
       "      <td>missing maint</td>\n",
       "      <td>2</td>\n",
       "      <td>4.0</td>\n",
       "      <td>small</td>\n",
       "      <td>low</td>\n",
       "      <td>unacc</td>\n",
       "    </tr>\n",
       "  </tbody>\n",
       "</table>\n",
       "</div>"
      ],
      "text/plain": [
       "           buying          maint  doors  persons lug_boot          safety  \\\n",
       "0           vhigh          vhigh      2      2.0    small             low   \n",
       "1           vhigh          vhigh      2      2.0    small             med   \n",
       "2           vhigh          vhigh      2      0.0    small            high   \n",
       "3           vhigh          vhigh      2      2.0      med             low   \n",
       "4           vhigh          vhigh      2      2.0      med             med   \n",
       "5  missing buying          vhigh      2      2.0      med            high   \n",
       "6           vhigh          vhigh      2      2.0      big             low   \n",
       "7           vhigh          vhigh      2      2.0      big  missing safety   \n",
       "8           vhigh          vhigh      2      2.0      big            high   \n",
       "9           vhigh  missing maint      2      4.0    small             low   \n",
       "\n",
       "           class  \n",
       "0          unacc  \n",
       "1          unacc  \n",
       "2          unacc  \n",
       "3          unacc  \n",
       "4          unacc  \n",
       "5  missing class  \n",
       "6          unacc  \n",
       "7          unacc  \n",
       "8          unacc  \n",
       "9          unacc  "
      ]
     },
     "execution_count": 9,
     "metadata": {},
     "output_type": "execute_result"
    }
   ],
   "source": [
    "df.fillna(value={'persons':0}, inplace=True)\n",
    "df.fillna(value={'buying': 'missing buying','maint':'missing maint','safety':'missing safety','class': 'missing class'},inplace=True)\n",
    "df.head(10)"
   ]
  },
  {
   "cell_type": "markdown",
   "id": "510fb591",
   "metadata": {},
   "source": [
    "7. Count the number of distinct unique values for buying, maint, doors, persons, lug_boot, satety, and class."
   ]
  },
  {
   "cell_type": "code",
   "execution_count": 19,
   "id": "eb86afff",
   "metadata": {},
   "outputs": [
    {
     "name": "stdout",
     "output_type": "stream",
     "text": [
      "Number of unique values for buying:  5\n",
      "Number of unique values for maint:  5\n",
      "Number of unique values for doors:  4\n",
      "Number of unique values for persons:  3\n",
      "Number of unique values for lug_boot:  3\n",
      "Number of unique values for safety:  4\n",
      "Number of unique values for class:  5\n"
     ]
    }
   ],
   "source": [
    "print('Number of unique values for buying: ', df['buying'].nunique())\n",
    "print('Number of unique values for maint: ', df['maint'].nunique())\n",
    "print('Number of unique values for doors: ', df['doors'].nunique()) \n",
    "print('Number of unique values for persons: ', df['persons'].nunique()) \n",
    "print('Number of unique values for lug_boot: ', df['lug_boot'].nunique()) \n",
    "print('Number of unique values for safety: ', df['safety'].nunique()) \n",
    "print('Number of unique values for class: ', df['class'].nunique()) "
   ]
  },
  {
   "cell_type": "markdown",
   "id": "38d6e820",
   "metadata": {},
   "source": [
    "8. Convert the object columns into categorey columns wherever appropriate"
   ]
  },
  {
   "cell_type": "code",
   "execution_count": 22,
   "id": "3f174959",
   "metadata": {},
   "outputs": [],
   "source": [
    "df['buying'] = df['buying'].astype('category')\n",
    "df['maint'] = df['maint'].astype('category')\n",
    "df['lug_boot'] = df['lug_boot'].astype('category')\n",
    "df['safety'] = df['safety'].astype('category')\n",
    "df['class'] = df['class'].astype('category')\n",
    "df['persons'] = df['persons'].astype('int')"
   ]
  },
  {
   "cell_type": "markdown",
   "id": "026f7822",
   "metadata": {},
   "source": [
    "9. Finially, display the data types of each column in the DataFrame"
   ]
  },
  {
   "cell_type": "code",
   "execution_count": 23,
   "id": "3ef53005",
   "metadata": {},
   "outputs": [
    {
     "name": "stdout",
     "output_type": "stream",
     "text": [
      "<class 'pandas.core.frame.DataFrame'>\n",
      "RangeIndex: 1728 entries, 0 to 1727\n",
      "Data columns (total 7 columns):\n",
      " #   Column    Non-Null Count  Dtype   \n",
      "---  ------    --------------  -----   \n",
      " 0   buying    1728 non-null   category\n",
      " 1   maint     1728 non-null   category\n",
      " 2   doors     1728 non-null   int64   \n",
      " 3   persons   1728 non-null   int32   \n",
      " 4   lug_boot  1728 non-null   category\n",
      " 5   safety    1728 non-null   category\n",
      " 6   class     1728 non-null   category\n",
      "dtypes: category(5), int32(1), int64(1)\n",
      "memory usage: 29.8 KB\n"
     ]
    }
   ],
   "source": [
    "df.info()"
   ]
  }
 ],
 "metadata": {
  "kernelspec": {
   "display_name": "Python 3 (ipykernel)",
   "language": "python",
   "name": "python3"
  },
  "language_info": {
   "codemirror_mode": {
    "name": "ipython",
    "version": 3
   },
   "file_extension": ".py",
   "mimetype": "text/x-python",
   "name": "python",
   "nbconvert_exporter": "python",
   "pygments_lexer": "ipython3",
   "version": "3.9.13"
  }
 },
 "nbformat": 4,
 "nbformat_minor": 5
}
