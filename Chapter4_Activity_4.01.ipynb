{
 "cells": [
  {
   "cell_type": "markdown",
   "id": "6c4dc2c0",
   "metadata": {},
   "source": [
    "# Activity 4.01 - optimizing memory usage by converting into the appropriate dtypes"
   ]
  },
  {
   "cell_type": "markdown",
   "id": "d77cade0",
   "metadata": {},
   "source": [
    "1. Open a Jupyter Notebook."
   ]
  },
  {
   "cell_type": "markdown",
   "id": "e088bcb7",
   "metadata": {},
   "source": [
    "2. Import the pandas package."
   ]
  },
  {
   "cell_type": "markdown",
   "id": "855d9b6c",
   "metadata": {},
   "source": [
    "3. Load the CSV file as a DataFrame"
   ]
  },
  {
   "cell_type": "markdown",
   "id": "9579e96b",
   "metadata": {},
   "source": [
    "4. Display the first 10 rows of the DataFrame"
   ]
  },
  {
   "cell_type": "markdown",
   "id": "ca36d89d",
   "metadata": {},
   "source": [
    "5. Display the data types of each column in the DataFrame using the info() method"
   ]
  },
  {
   "cell_type": "markdown",
   "id": "e21100c9",
   "metadata": {},
   "source": [
    "6. REplace the missing values appropriately"
   ]
  },
  {
   "cell_type": "markdown",
   "id": "98caf9cc",
   "metadata": {},
   "source": [
    "7. Count the number of distinct unique values for buying, maint, doors, persons, lub_boot, satety, and class."
   ]
  },
  {
   "cell_type": "markdown",
   "id": "dd0604fd",
   "metadata": {},
   "source": [
    "8. Convert the opject columns into categorey columns wherever appropriate"
   ]
  },
  {
   "cell_type": "markdown",
   "id": "b17211e3",
   "metadata": {},
   "source": [
    "9. Finially, display the data types of each column in the DataFrame"
   ]
  },
  {
   "cell_type": "code",
   "execution_count": null,
   "id": "e60de001",
   "metadata": {},
   "outputs": [],
   "source": []
  }
 ],
 "metadata": {
  "kernelspec": {
   "display_name": "Python 3 (ipykernel)",
   "language": "python",
   "name": "python3"
  },
  "language_info": {
   "codemirror_mode": {
    "name": "ipython",
    "version": 3
   },
   "file_extension": ".py",
   "mimetype": "text/x-python",
   "name": "python",
   "nbconvert_exporter": "python",
   "pygments_lexer": "ipython3",
   "version": "3.9.13"
  }
 },
 "nbformat": 4,
 "nbformat_minor": 5
}
