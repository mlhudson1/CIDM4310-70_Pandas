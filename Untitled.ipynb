{
 "cells": [
  {
   "cell_type": "markdown",
   "id": "21fb0458",
   "metadata": {},
   "source": [
    "#  Chapter 5 : Data Selection - DataFrames"
   ]
  },
  {
   "cell_type": "code",
   "execution_count": 1,
   "id": "41f9a899",
   "metadata": {},
   "outputs": [],
   "source": [
    "import pandas as pd"
   ]
  },
  {
   "cell_type": "markdown",
   "id": "c1068d58",
   "metadata": {},
   "source": [
    "## Introduction to DataFrames"
   ]
  },
  {
   "cell_type": "markdown",
   "id": "584ad471",
   "metadata": {},
   "source": [
    "### The need for data selection methods"
   ]
  },
  {
   "cell_type": "code",
   "execution_count": 3,
   "id": "03625fb3",
   "metadata": {},
   "outputs": [
    {
     "data": {
      "text/html": [
       "<div>\n",
       "<style scoped>\n",
       "    .dataframe tbody tr th:only-of-type {\n",
       "        vertical-align: middle;\n",
       "    }\n",
       "\n",
       "    .dataframe tbody tr th {\n",
       "        vertical-align: top;\n",
       "    }\n",
       "\n",
       "    .dataframe thead th {\n",
       "        text-align: right;\n",
       "    }\n",
       "</style>\n",
       "<table border=\"1\" class=\"dataframe\">\n",
       "  <thead>\n",
       "    <tr style=\"text-align: right;\">\n",
       "      <th></th>\n",
       "      <th>period</th>\n",
       "      <th>Industry</th>\n",
       "      <th>GDP</th>\n",
       "    </tr>\n",
       "  </thead>\n",
       "  <tbody>\n",
       "    <tr>\n",
       "      <th>0</th>\n",
       "      <td>2015_Q1</td>\n",
       "      <td>All industries</td>\n",
       "      <td>31917.8</td>\n",
       "    </tr>\n",
       "    <tr>\n",
       "      <th>1</th>\n",
       "      <td>2015_Q2</td>\n",
       "      <td>All industries</td>\n",
       "      <td>32266.2</td>\n",
       "    </tr>\n",
       "    <tr>\n",
       "      <th>2</th>\n",
       "      <td>2015_Q3</td>\n",
       "      <td>All industries</td>\n",
       "      <td>32406.6</td>\n",
       "    </tr>\n",
       "    <tr>\n",
       "      <th>3</th>\n",
       "      <td>2015_Q4</td>\n",
       "      <td>All industries</td>\n",
       "      <td>32298.7</td>\n",
       "    </tr>\n",
       "    <tr>\n",
       "      <th>4</th>\n",
       "      <td>2016_Q1</td>\n",
       "      <td>All industries</td>\n",
       "      <td>32303.8</td>\n",
       "    </tr>\n",
       "    <tr>\n",
       "      <th>...</th>\n",
       "      <td>...</td>\n",
       "      <td>...</td>\n",
       "      <td>...</td>\n",
       "    </tr>\n",
       "    <tr>\n",
       "      <th>2129</th>\n",
       "      <td>2019_Q2</td>\n",
       "      <td>Government enterprises</td>\n",
       "      <td>371.4</td>\n",
       "    </tr>\n",
       "    <tr>\n",
       "      <th>2130</th>\n",
       "      <td>2019_Q3</td>\n",
       "      <td>Government enterprises</td>\n",
       "      <td>373.5</td>\n",
       "    </tr>\n",
       "    <tr>\n",
       "      <th>2131</th>\n",
       "      <td>2019_Q4</td>\n",
       "      <td>Government enterprises</td>\n",
       "      <td>375.1</td>\n",
       "    </tr>\n",
       "    <tr>\n",
       "      <th>2132</th>\n",
       "      <td>2020_Q1</td>\n",
       "      <td>Government enterprises</td>\n",
       "      <td>372.8</td>\n",
       "    </tr>\n",
       "    <tr>\n",
       "      <th>2133</th>\n",
       "      <td>2020_Q2</td>\n",
       "      <td>Government enterprises</td>\n",
       "      <td>346.0</td>\n",
       "    </tr>\n",
       "  </tbody>\n",
       "</table>\n",
       "<p>2134 rows × 3 columns</p>\n",
       "</div>"
      ],
      "text/plain": [
       "       period                Industry      GDP\n",
       "0     2015_Q1          All industries  31917.8\n",
       "1     2015_Q2          All industries  32266.2\n",
       "2     2015_Q3          All industries  32406.6\n",
       "3     2015_Q4          All industries  32298.7\n",
       "4     2016_Q1          All industries  32303.8\n",
       "...       ...                     ...      ...\n",
       "2129  2019_Q2  Government enterprises    371.4\n",
       "2130  2019_Q3  Government enterprises    373.5\n",
       "2131  2019_Q4  Government enterprises    375.1\n",
       "2132  2020_Q1  Government enterprises    372.8\n",
       "2133  2020_Q2  Government enterprises    346.0\n",
       "\n",
       "[2134 rows x 3 columns]"
      ]
     },
     "execution_count": 3,
     "metadata": {},
     "output_type": "execute_result"
    }
   ],
   "source": [
    "GDP_data = pd.read_csv('Chapter5-Datasets/US_GDP_Industry.csv')\n",
    "GDP_data"
   ]
  },
  {
   "cell_type": "markdown",
   "id": "709667dc",
   "metadata": {},
   "source": [
    "## Data selection in pandas DataFrames"
   ]
  },
  {
   "cell_type": "markdown",
   "id": "e7790d2b",
   "metadata": {},
   "source": [
    "### The index and it's forms"
   ]
  },
  {
   "cell_type": "code",
   "execution_count": 4,
   "id": "8bf92491",
   "metadata": {},
   "outputs": [
    {
     "data": {
      "text/plain": [
       "RangeIndex(start=0, stop=2134, step=1)"
      ]
     },
     "execution_count": 4,
     "metadata": {},
     "output_type": "execute_result"
    }
   ],
   "source": [
    "GDP_data.index"
   ]
  },
  {
   "cell_type": "code",
   "execution_count": 5,
   "id": "259cb149",
   "metadata": {},
   "outputs": [
    {
     "data": {
      "text/plain": [
       "range(0, 2134)"
      ]
     },
     "execution_count": 5,
     "metadata": {},
     "output_type": "execute_result"
    }
   ],
   "source": [
    "range(0,2134)"
   ]
  },
  {
   "cell_type": "code",
   "execution_count": 6,
   "id": "8bd2c9a7",
   "metadata": {},
   "outputs": [
    {
     "name": "stdout",
     "output_type": "stream",
     "text": [
      "1\n",
      "2\n",
      "3\n",
      "4\n",
      "5\n",
      "6\n",
      "7\n",
      "8\n",
      "9\n"
     ]
    }
   ],
   "source": [
    "for i in range(0,2134,1):\n",
    "    if(i>0 and i<10):\n",
    "        print(i)"
   ]
  },
  {
   "cell_type": "code",
   "execution_count": 7,
   "id": "79511add",
   "metadata": {},
   "outputs": [
    {
     "name": "stdout",
     "output_type": "stream",
     "text": [
      "[0, 1, 2, 3, 4, 5, 6, 7, 8, 9]\n"
     ]
    }
   ],
   "source": [
    "print(list(range(0,2134,1))[:10])"
   ]
  },
  {
   "cell_type": "code",
   "execution_count": null,
   "id": "9b90e4dc",
   "metadata": {},
   "outputs": [],
   "source": []
  }
 ],
 "metadata": {
  "kernelspec": {
   "display_name": "Python 3 (ipykernel)",
   "language": "python",
   "name": "python3"
  },
  "language_info": {
   "codemirror_mode": {
    "name": "ipython",
    "version": 3
   },
   "file_extension": ".py",
   "mimetype": "text/x-python",
   "name": "python",
   "nbconvert_exporter": "python",
   "pygments_lexer": "ipython3",
   "version": "3.9.13"
  }
 },
 "nbformat": 4,
 "nbformat_minor": 5
}
